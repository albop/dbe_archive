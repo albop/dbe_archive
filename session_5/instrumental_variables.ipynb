{
 "cells": [
  {
   "cell_type": "markdown",
   "id": "d578e49d",
   "metadata": {},
   "source": [
    "# Instrumental variables"
   ]
  },
  {
   "cell_type": "markdown",
   "id": "124b46ae",
   "metadata": {},
   "source": [
    "## Functions and Loops\n",
    "\n",
    "Go back to the first notebook. Learn how to write functions and loops."
   ]
  },
  {
   "cell_type": "code",
   "execution_count": 1,
   "id": "6b8da6bb",
   "metadata": {},
   "outputs": [],
   "source": [
    "import pandas"
   ]
  },
  {
   "cell_type": "code",
   "execution_count": 6,
   "id": "74824783",
   "metadata": {},
   "outputs": [
    {
     "data": {
      "text/html": [
       "<div>\n",
       "<style scoped>\n",
       "    .dataframe tbody tr th:only-of-type {\n",
       "        vertical-align: middle;\n",
       "    }\n",
       "\n",
       "    .dataframe tbody tr th {\n",
       "        vertical-align: top;\n",
       "    }\n",
       "\n",
       "    .dataframe thead th {\n",
       "        text-align: right;\n",
       "    }\n",
       "</style>\n",
       "<table border=\"1\" class=\"dataframe\">\n",
       "  <thead>\n",
       "    <tr style=\"text-align: right;\">\n",
       "      <th></th>\n",
       "      <th>gdp</th>\n",
       "      <th>date</th>\n",
       "    </tr>\n",
       "  </thead>\n",
       "  <tbody>\n",
       "    <tr>\n",
       "      <th>count</th>\n",
       "      <td>4.000000</td>\n",
       "      <td>4.00000</td>\n",
       "    </tr>\n",
       "    <tr>\n",
       "      <th>mean</th>\n",
       "      <td>552.500000</td>\n",
       "      <td>2000.50000</td>\n",
       "    </tr>\n",
       "    <tr>\n",
       "      <th>std</th>\n",
       "      <td>519.623261</td>\n",
       "      <td>0.57735</td>\n",
       "    </tr>\n",
       "    <tr>\n",
       "      <th>min</th>\n",
       "      <td>100.000000</td>\n",
       "      <td>2000.00000</td>\n",
       "    </tr>\n",
       "    <tr>\n",
       "      <th>25%</th>\n",
       "      <td>103.750000</td>\n",
       "      <td>2000.00000</td>\n",
       "    </tr>\n",
       "    <tr>\n",
       "      <th>50%</th>\n",
       "      <td>552.500000</td>\n",
       "      <td>2000.50000</td>\n",
       "    </tr>\n",
       "    <tr>\n",
       "      <th>75%</th>\n",
       "      <td>1001.250000</td>\n",
       "      <td>2001.00000</td>\n",
       "    </tr>\n",
       "    <tr>\n",
       "      <th>max</th>\n",
       "      <td>1005.000000</td>\n",
       "      <td>2001.00000</td>\n",
       "    </tr>\n",
       "  </tbody>\n",
       "</table>\n",
       "</div>"
      ],
      "text/plain": [
       "               gdp        date\n",
       "count     4.000000     4.00000\n",
       "mean    552.500000  2000.50000\n",
       "std     519.623261     0.57735\n",
       "min     100.000000  2000.00000\n",
       "25%     103.750000  2000.00000\n",
       "50%     552.500000  2000.50000\n",
       "75%    1001.250000  2001.00000\n",
       "max    1005.000000  2001.00000"
      ]
     },
     "metadata": {},
     "output_type": "display_data"
    },
    {
     "data": {
      "text/html": [
       "<div>\n",
       "<style scoped>\n",
       "    .dataframe tbody tr th:only-of-type {\n",
       "        vertical-align: middle;\n",
       "    }\n",
       "\n",
       "    .dataframe tbody tr th {\n",
       "        vertical-align: top;\n",
       "    }\n",
       "\n",
       "    .dataframe thead th {\n",
       "        text-align: right;\n",
       "    }\n",
       "</style>\n",
       "<table border=\"1\" class=\"dataframe\">\n",
       "  <thead>\n",
       "    <tr style=\"text-align: right;\">\n",
       "      <th></th>\n",
       "      <th>country</th>\n",
       "      <th>gdp</th>\n",
       "      <th>date</th>\n",
       "    </tr>\n",
       "  </thead>\n",
       "  <tbody>\n",
       "    <tr>\n",
       "      <th>0</th>\n",
       "      <td>usa</td>\n",
       "      <td>1000</td>\n",
       "      <td>2000</td>\n",
       "    </tr>\n",
       "    <tr>\n",
       "      <th>1</th>\n",
       "      <td>usa</td>\n",
       "      <td>1005</td>\n",
       "      <td>2001</td>\n",
       "    </tr>\n",
       "    <tr>\n",
       "      <th>2</th>\n",
       "      <td>france</td>\n",
       "      <td>100</td>\n",
       "      <td>2000</td>\n",
       "    </tr>\n",
       "    <tr>\n",
       "      <th>3</th>\n",
       "      <td>france</td>\n",
       "      <td>105</td>\n",
       "      <td>2001</td>\n",
       "    </tr>\n",
       "  </tbody>\n",
       "</table>\n",
       "</div>"
      ],
      "text/plain": [
       "  country   gdp   date\n",
       "0     usa  1000   2000\n",
       "1     usa  1005   2001\n",
       "2  france   100   2000\n",
       "3  france   105   2001"
      ]
     },
     "execution_count": 6,
     "metadata": {},
     "output_type": "execute_result"
    }
   ],
   "source": [
    "fname = \"dataset.csv\"\n",
    "df = pandas.read_csv(fname)\n",
    "display(df.describe())\n",
    "df\n"
   ]
  },
  {
   "cell_type": "code",
   "execution_count": 16,
   "id": "b787b9c1",
   "metadata": {},
   "outputs": [],
   "source": [
    "def import_and_print(fname, print_statistics=True):\n",
    "    # here is the body of the function\n",
    "    df = pandas.read_csv(fname)\n",
    "    if print_statistics==True:\n",
    "        display(\"Summary Statistics\")\n",
    "        display(df.describe())\n",
    "    return df"
   ]
  },
  {
   "cell_type": "code",
   "execution_count": 17,
   "id": "cfcc41ca",
   "metadata": {},
   "outputs": [
    {
     "data": {
      "text/plain": [
       "'Summary Statistics'"
      ]
     },
     "metadata": {},
     "output_type": "display_data"
    },
    {
     "data": {
      "text/html": [
       "<div>\n",
       "<style scoped>\n",
       "    .dataframe tbody tr th:only-of-type {\n",
       "        vertical-align: middle;\n",
       "    }\n",
       "\n",
       "    .dataframe tbody tr th {\n",
       "        vertical-align: top;\n",
       "    }\n",
       "\n",
       "    .dataframe thead th {\n",
       "        text-align: right;\n",
       "    }\n",
       "</style>\n",
       "<table border=\"1\" class=\"dataframe\">\n",
       "  <thead>\n",
       "    <tr style=\"text-align: right;\">\n",
       "      <th></th>\n",
       "      <th>gdp</th>\n",
       "      <th>date</th>\n",
       "    </tr>\n",
       "  </thead>\n",
       "  <tbody>\n",
       "    <tr>\n",
       "      <th>count</th>\n",
       "      <td>4.000000</td>\n",
       "      <td>4.00000</td>\n",
       "    </tr>\n",
       "    <tr>\n",
       "      <th>mean</th>\n",
       "      <td>552.500000</td>\n",
       "      <td>2000.50000</td>\n",
       "    </tr>\n",
       "    <tr>\n",
       "      <th>std</th>\n",
       "      <td>519.623261</td>\n",
       "      <td>0.57735</td>\n",
       "    </tr>\n",
       "    <tr>\n",
       "      <th>min</th>\n",
       "      <td>100.000000</td>\n",
       "      <td>2000.00000</td>\n",
       "    </tr>\n",
       "    <tr>\n",
       "      <th>25%</th>\n",
       "      <td>103.750000</td>\n",
       "      <td>2000.00000</td>\n",
       "    </tr>\n",
       "    <tr>\n",
       "      <th>50%</th>\n",
       "      <td>552.500000</td>\n",
       "      <td>2000.50000</td>\n",
       "    </tr>\n",
       "    <tr>\n",
       "      <th>75%</th>\n",
       "      <td>1001.250000</td>\n",
       "      <td>2001.00000</td>\n",
       "    </tr>\n",
       "    <tr>\n",
       "      <th>max</th>\n",
       "      <td>1005.000000</td>\n",
       "      <td>2001.00000</td>\n",
       "    </tr>\n",
       "  </tbody>\n",
       "</table>\n",
       "</div>"
      ],
      "text/plain": [
       "               gdp        date\n",
       "count     4.000000     4.00000\n",
       "mean    552.500000  2000.50000\n",
       "std     519.623261     0.57735\n",
       "min     100.000000  2000.00000\n",
       "25%     103.750000  2000.00000\n",
       "50%     552.500000  2000.50000\n",
       "75%    1001.250000  2001.00000\n",
       "max    1005.000000  2001.00000"
      ]
     },
     "metadata": {},
     "output_type": "display_data"
    },
    {
     "data": {
      "text/html": [
       "<div>\n",
       "<style scoped>\n",
       "    .dataframe tbody tr th:only-of-type {\n",
       "        vertical-align: middle;\n",
       "    }\n",
       "\n",
       "    .dataframe tbody tr th {\n",
       "        vertical-align: top;\n",
       "    }\n",
       "\n",
       "    .dataframe thead th {\n",
       "        text-align: right;\n",
       "    }\n",
       "</style>\n",
       "<table border=\"1\" class=\"dataframe\">\n",
       "  <thead>\n",
       "    <tr style=\"text-align: right;\">\n",
       "      <th></th>\n",
       "      <th>country</th>\n",
       "      <th>gdp</th>\n",
       "      <th>date</th>\n",
       "    </tr>\n",
       "  </thead>\n",
       "  <tbody>\n",
       "    <tr>\n",
       "      <th>0</th>\n",
       "      <td>usa</td>\n",
       "      <td>1000</td>\n",
       "      <td>2000</td>\n",
       "    </tr>\n",
       "    <tr>\n",
       "      <th>1</th>\n",
       "      <td>usa</td>\n",
       "      <td>1005</td>\n",
       "      <td>2001</td>\n",
       "    </tr>\n",
       "    <tr>\n",
       "      <th>2</th>\n",
       "      <td>france</td>\n",
       "      <td>100</td>\n",
       "      <td>2000</td>\n",
       "    </tr>\n",
       "    <tr>\n",
       "      <th>3</th>\n",
       "      <td>france</td>\n",
       "      <td>105</td>\n",
       "      <td>2001</td>\n",
       "    </tr>\n",
       "  </tbody>\n",
       "</table>\n",
       "</div>"
      ],
      "text/plain": [
       "  country   gdp   date\n",
       "0     usa  1000   2000\n",
       "1     usa  1005   2001\n",
       "2  france   100   2000\n",
       "3  france   105   2001"
      ]
     },
     "execution_count": 17,
     "metadata": {},
     "output_type": "execute_result"
    }
   ],
   "source": [
    "import_and_print(\"dataset.csv\")"
   ]
  },
  {
   "cell_type": "code",
   "execution_count": 18,
   "id": "cf6c0850",
   "metadata": {},
   "outputs": [
    {
     "data": {
      "text/html": [
       "<div>\n",
       "<style scoped>\n",
       "    .dataframe tbody tr th:only-of-type {\n",
       "        vertical-align: middle;\n",
       "    }\n",
       "\n",
       "    .dataframe tbody tr th {\n",
       "        vertical-align: top;\n",
       "    }\n",
       "\n",
       "    .dataframe thead th {\n",
       "        text-align: right;\n",
       "    }\n",
       "</style>\n",
       "<table border=\"1\" class=\"dataframe\">\n",
       "  <thead>\n",
       "    <tr style=\"text-align: right;\">\n",
       "      <th></th>\n",
       "      <th>country</th>\n",
       "      <th>gdp</th>\n",
       "      <th>date</th>\n",
       "    </tr>\n",
       "  </thead>\n",
       "  <tbody>\n",
       "    <tr>\n",
       "      <th>0</th>\n",
       "      <td>usa</td>\n",
       "      <td>1000</td>\n",
       "      <td>2000</td>\n",
       "    </tr>\n",
       "    <tr>\n",
       "      <th>1</th>\n",
       "      <td>usa</td>\n",
       "      <td>1005</td>\n",
       "      <td>2001</td>\n",
       "    </tr>\n",
       "    <tr>\n",
       "      <th>2</th>\n",
       "      <td>france</td>\n",
       "      <td>100</td>\n",
       "      <td>2000</td>\n",
       "    </tr>\n",
       "    <tr>\n",
       "      <th>3</th>\n",
       "      <td>france</td>\n",
       "      <td>105</td>\n",
       "      <td>2001</td>\n",
       "    </tr>\n",
       "  </tbody>\n",
       "</table>\n",
       "</div>"
      ],
      "text/plain": [
       "  country   gdp   date\n",
       "0     usa  1000   2000\n",
       "1     usa  1005   2001\n",
       "2  france   100   2000\n",
       "3  france   105   2001"
      ]
     },
     "execution_count": 18,
     "metadata": {},
     "output_type": "execute_result"
    }
   ],
   "source": [
    "import_and_print(\"dataset_2.csv\", False)"
   ]
  },
  {
   "cell_type": "code",
   "execution_count": 20,
   "id": "97277935",
   "metadata": {},
   "outputs": [],
   "source": [
    "def f(x): # no side effect\n",
    "    return x**2 + 1"
   ]
  },
  {
   "cell_type": "code",
   "execution_count": 22,
   "id": "ae8b99c0",
   "metadata": {},
   "outputs": [],
   "source": [
    "import time"
   ]
  },
  {
   "cell_type": "code",
   "execution_count": 25,
   "id": "38ed88d9",
   "metadata": {},
   "outputs": [],
   "source": [
    "def g(x): # that one has side effects\n",
    "    print(\"Calculating...\")\n",
    "    time.sleep(10)\n",
    "    return x**2 + 1"
   ]
  },
  {
   "cell_type": "code",
   "execution_count": 24,
   "id": "e139a4cb",
   "metadata": {},
   "outputs": [
    {
     "name": "stdout",
     "output_type": "stream",
     "text": [
      "Calculating...\n"
     ]
    },
    {
     "data": {
      "text/plain": [
       "2"
      ]
     },
     "execution_count": 24,
     "metadata": {},
     "output_type": "execute_result"
    }
   ],
   "source": [
    "g(1)"
   ]
  },
  {
   "cell_type": "code",
   "execution_count": 27,
   "id": "286dbf89",
   "metadata": {},
   "outputs": [],
   "source": [
    "def h(x): # that one has only side effects\n",
    "    print(\"Calculating...\")\n",
    "    time.sleep(10)\n",
    "    y =  x**2 + 1\n",
    "    print(f\"Found it! {y}\")"
   ]
  },
  {
   "cell_type": "code",
   "execution_count": 28,
   "id": "10df4f35",
   "metadata": {},
   "outputs": [
    {
     "name": "stdout",
     "output_type": "stream",
     "text": [
      "Calculating...\n",
      "Found it! 2\n"
     ]
    }
   ],
   "source": [
    "h(1)"
   ]
  },
  {
   "cell_type": "markdown",
   "id": "ed4fe725",
   "metadata": {},
   "source": [
    "Documenting code:\n",
    "\n",
    "- adding comments: `# ...`\n",
    "- add docstrings: just after the function name, a string explaining what the function does"
   ]
  },
  {
   "cell_type": "code",
   "execution_count": 32,
   "id": "c9696c0d",
   "metadata": {},
   "outputs": [],
   "source": [
    "def import_and_print(fname, print_statistics=True):\n",
    "    \"Import a dataframe from a filename, print the main statistics and return the dataframe.\"\n",
    "    \n",
    "    \n",
    "    # import the file to get a dataframe\n",
    "    df = pandas.read_csv(fname)\n",
    "    \n",
    "    if print_statistics==True:\n",
    "        display(\"Summary Statistics\")\n",
    "        # we print default summary statistics computed by pandas\n",
    "        display(df.describe())\n",
    "        \n",
    "    return df"
   ]
  },
  {
   "cell_type": "code",
   "execution_count": 34,
   "id": "e6086938",
   "metadata": {},
   "outputs": [
    {
     "data": {
      "text/plain": [
       "\u001b[0;31mSignature:\u001b[0m \u001b[0mimport_and_print\u001b[0m\u001b[0;34m(\u001b[0m\u001b[0mfname\u001b[0m\u001b[0;34m,\u001b[0m \u001b[0mprint_statistics\u001b[0m\u001b[0;34m=\u001b[0m\u001b[0;32mTrue\u001b[0m\u001b[0;34m)\u001b[0m\u001b[0;34m\u001b[0m\u001b[0;34m\u001b[0m\u001b[0m\n",
       "\u001b[0;31mDocstring:\u001b[0m Import a dataframe from a filename, print the main statistics and return the dataframe.\n",
       "\u001b[0;31mFile:\u001b[0m      ~/Teaching/dbe/session_6/<ipython-input-32-fb18d0d82cec>\n",
       "\u001b[0;31mType:\u001b[0m      function\n"
      ]
     },
     "metadata": {},
     "output_type": "display_data"
    }
   ],
   "source": [
    "import_and_print?"
   ]
  },
  {
   "cell_type": "code",
   "execution_count": 35,
   "id": "55f801fb",
   "metadata": {},
   "outputs": [],
   "source": [
    "def import_and_print(fname, print_statistics=True):\n",
    "    \"\"\"Import a dataframe from a filename.\n",
    "    \n",
    "    fname (string): filename\n",
    "    print_statistics (boolean): if True print summary statistics\n",
    "    \n",
    "    \"\"\"\n",
    "    \n",
    "    \n",
    "    # import the file to get a dataframe\n",
    "    df = pandas.read_csv(fname)\n",
    "    \n",
    "    if print_statistics==True:\n",
    "        display(\"Summary Statistics\")\n",
    "        # we print default summary statistics computed by pandas\n",
    "        display(df.describe())\n",
    "        \n",
    "    return df"
   ]
  },
  {
   "cell_type": "code",
   "execution_count": 36,
   "id": "2152cbdf",
   "metadata": {},
   "outputs": [
    {
     "data": {
      "text/plain": [
       "\u001b[0;31mSignature:\u001b[0m \u001b[0mimport_and_print\u001b[0m\u001b[0;34m(\u001b[0m\u001b[0mfname\u001b[0m\u001b[0;34m,\u001b[0m \u001b[0mprint_statistics\u001b[0m\u001b[0;34m=\u001b[0m\u001b[0;32mTrue\u001b[0m\u001b[0;34m)\u001b[0m\u001b[0;34m\u001b[0m\u001b[0;34m\u001b[0m\u001b[0m\n",
       "\u001b[0;31mDocstring:\u001b[0m\n",
       "Import a dataframe from a filename.\n",
       "\n",
       "fname (string): filename\n",
       "print_statistics (boolean): if True print summary statistics\n",
       "\u001b[0;31mFile:\u001b[0m      ~/Teaching/dbe/session_6/<ipython-input-35-97c3580f10df>\n",
       "\u001b[0;31mType:\u001b[0m      function\n"
      ]
     },
     "metadata": {},
     "output_type": "display_data"
    }
   ],
   "source": [
    "import_and_print?"
   ]
  },
  {
   "cell_type": "code",
   "execution_count": 37,
   "id": "d921dfd9",
   "metadata": {},
   "outputs": [
    {
     "data": {
      "text/plain": [
       "8"
      ]
     },
     "execution_count": 37,
     "metadata": {},
     "output_type": "execute_result"
    }
   ],
   "source": [
    "(lambda x: x**2-1)   (3)"
   ]
  },
  {
   "cell_type": "code",
   "execution_count": 38,
   "id": "b9481ed8",
   "metadata": {},
   "outputs": [
    {
     "data": {
      "text/plain": [
       "8"
      ]
     },
     "execution_count": 38,
     "metadata": {},
     "output_type": "execute_result"
    }
   ],
   "source": [
    "f = (lambda x: x**2-1)\n",
    "f(3)"
   ]
  },
  {
   "cell_type": "code",
   "execution_count": 40,
   "id": "aab5a6c7",
   "metadata": {},
   "outputs": [],
   "source": [
    "## anonymous functions are useful for the groupby pandas function"
   ]
  },
  {
   "cell_type": "code",
   "execution_count": 41,
   "id": "f4c5d8f3",
   "metadata": {},
   "outputs": [
    {
     "data": {
      "text/html": [
       "<div>\n",
       "<style scoped>\n",
       "    .dataframe tbody tr th:only-of-type {\n",
       "        vertical-align: middle;\n",
       "    }\n",
       "\n",
       "    .dataframe tbody tr th {\n",
       "        vertical-align: top;\n",
       "    }\n",
       "\n",
       "    .dataframe thead th {\n",
       "        text-align: right;\n",
       "    }\n",
       "</style>\n",
       "<table border=\"1\" class=\"dataframe\">\n",
       "  <thead>\n",
       "    <tr style=\"text-align: right;\">\n",
       "      <th></th>\n",
       "      <th>country</th>\n",
       "      <th>gdp</th>\n",
       "      <th>date</th>\n",
       "    </tr>\n",
       "  </thead>\n",
       "  <tbody>\n",
       "    <tr>\n",
       "      <th>0</th>\n",
       "      <td>usa</td>\n",
       "      <td>1000</td>\n",
       "      <td>2000</td>\n",
       "    </tr>\n",
       "    <tr>\n",
       "      <th>1</th>\n",
       "      <td>usa</td>\n",
       "      <td>1005</td>\n",
       "      <td>2001</td>\n",
       "    </tr>\n",
       "    <tr>\n",
       "      <th>2</th>\n",
       "      <td>france</td>\n",
       "      <td>100</td>\n",
       "      <td>2000</td>\n",
       "    </tr>\n",
       "    <tr>\n",
       "      <th>3</th>\n",
       "      <td>france</td>\n",
       "      <td>105</td>\n",
       "      <td>2001</td>\n",
       "    </tr>\n",
       "  </tbody>\n",
       "</table>\n",
       "</div>"
      ],
      "text/plain": [
       "  country   gdp   date\n",
       "0     usa  1000   2000\n",
       "1     usa  1005   2001\n",
       "2  france   100   2000\n",
       "3  france   105   2001"
      ]
     },
     "execution_count": 41,
     "metadata": {},
     "output_type": "execute_result"
    }
   ],
   "source": [
    "df"
   ]
  },
  {
   "cell_type": "code",
   "execution_count": 52,
   "id": "a5e9f16c",
   "metadata": {},
   "outputs": [
    {
     "name": "stdout",
     "output_type": "stream",
     "text": [
      "Selecting country usa\n",
      " gdp     1002.5\n",
      " date    2000.5\n",
      "dtype: float64\n",
      "Selecting country france\n",
      " gdp      102.5\n",
      " date    2000.5\n",
      "dtype: float64\n"
     ]
    }
   ],
   "source": [
    "# naive approach\n",
    "l = []\n",
    "for country in df[\"country\"].unique():\n",
    "    print(f\"Selecting country {country}\")\n",
    "    sel = df[\"country\"]==country\n",
    "    sdf = df[sel] # sub dataframe with the right country\n",
    "    print( sdf.mean() )\n",
    "    l.append(df_s.mean())"
   ]
  },
  {
   "cell_type": "code",
   "execution_count": 61,
   "id": "072760a5",
   "metadata": {},
   "outputs": [],
   "source": [
    "def todo(sdf): print( sdf.mean())"
   ]
  },
  {
   "cell_type": "code",
   "execution_count": 62,
   "id": "0d4058ad",
   "metadata": {},
   "outputs": [
    {
     "name": "stdout",
     "output_type": "stream",
     "text": [
      " gdp      102.5\n",
      " date    2000.5\n",
      "dtype: float64\n",
      " gdp     1002.5\n",
      " date    2000.5\n",
      "dtype: float64\n"
     ]
    },
    {
     "data": {
      "text/html": [
       "<div>\n",
       "<style scoped>\n",
       "    .dataframe tbody tr th:only-of-type {\n",
       "        vertical-align: middle;\n",
       "    }\n",
       "\n",
       "    .dataframe tbody tr th {\n",
       "        vertical-align: top;\n",
       "    }\n",
       "\n",
       "    .dataframe thead th {\n",
       "        text-align: right;\n",
       "    }\n",
       "</style>\n",
       "<table border=\"1\" class=\"dataframe\">\n",
       "  <thead>\n",
       "    <tr style=\"text-align: right;\">\n",
       "      <th></th>\n",
       "    </tr>\n",
       "  </thead>\n",
       "  <tbody>\n",
       "  </tbody>\n",
       "</table>\n",
       "</div>"
      ],
      "text/plain": [
       "Empty DataFrame\n",
       "Columns: []\n",
       "Index: []"
      ]
     },
     "execution_count": 62,
     "metadata": {},
     "output_type": "execute_result"
    }
   ],
   "source": [
    "df.groupby(\"country\").apply( todo )"
   ]
  },
  {
   "cell_type": "code",
   "execution_count": 63,
   "id": "50528787",
   "metadata": {},
   "outputs": [
    {
     "data": {
      "text/html": [
       "<div>\n",
       "<style scoped>\n",
       "    .dataframe tbody tr th:only-of-type {\n",
       "        vertical-align: middle;\n",
       "    }\n",
       "\n",
       "    .dataframe tbody tr th {\n",
       "        vertical-align: top;\n",
       "    }\n",
       "\n",
       "    .dataframe thead th {\n",
       "        text-align: right;\n",
       "    }\n",
       "</style>\n",
       "<table border=\"1\" class=\"dataframe\">\n",
       "  <thead>\n",
       "    <tr style=\"text-align: right;\">\n",
       "      <th></th>\n",
       "      <th>gdp</th>\n",
       "      <th>date</th>\n",
       "    </tr>\n",
       "    <tr>\n",
       "      <th>country</th>\n",
       "      <th></th>\n",
       "      <th></th>\n",
       "    </tr>\n",
       "  </thead>\n",
       "  <tbody>\n",
       "    <tr>\n",
       "      <th>france</th>\n",
       "      <td>102.5</td>\n",
       "      <td>2000.5</td>\n",
       "    </tr>\n",
       "    <tr>\n",
       "      <th>usa</th>\n",
       "      <td>1002.5</td>\n",
       "      <td>2000.5</td>\n",
       "    </tr>\n",
       "  </tbody>\n",
       "</table>\n",
       "</div>"
      ],
      "text/plain": [
       "            gdp    date\n",
       "country                \n",
       "france    102.5  2000.5\n",
       "usa      1002.5  2000.5"
      ]
     },
     "execution_count": 63,
     "metadata": {},
     "output_type": "execute_result"
    }
   ],
   "source": [
    "df.groupby(\"country\").apply( lambda sdf: (sdf.mean()) )"
   ]
  },
  {
   "cell_type": "markdown",
   "id": "160126b4",
   "metadata": {},
   "source": [
    "## Baby example on mock dataset"
   ]
  },
  {
   "cell_type": "markdown",
   "id": "5e4e1bb7",
   "metadata": {},
   "source": [
    "### Constructing the dataset\n",
    "\n",
    "Create four random series of length $N=1000$\n",
    "\n",
    "- $x$: education\n",
    "- $y$: salary\n",
    "- $z$: ambition\n",
    "- $q$: early smoking \n",
    "\n",
    "such that:\n",
    "\n",
    "1. $x$ and $z$ cause $y$\n",
    "2. $z$ causes $x$\n",
    "3. $q$ is correlated with $x$, not with $z$\n",
    "\n",
    "(all relations are linear, add random shocks where needed)\n",
    "\n",
    "Create a dataset `df`\n"
   ]
  },
  {
   "cell_type": "code",
   "execution_count": 64,
   "id": "c68b9b9d",
   "metadata": {},
   "outputs": [],
   "source": [
    "import numpy"
   ]
  },
  {
   "cell_type": "code",
   "execution_count": 128,
   "id": "25865e29",
   "metadata": {},
   "outputs": [],
   "source": [
    "N = 100000"
   ]
  },
  {
   "cell_type": "code",
   "execution_count": 129,
   "id": "77df8dbb",
   "metadata": {},
   "outputs": [],
   "source": [
    "ϵ_z = numpy.random.randn(N)*0.01\n",
    "ϵ_x = numpy.random.randn(N)*0.01\n",
    "ϵ_q = numpy.random.randn(N)*0.01\n",
    "ϵ_y = numpy.random.randn(N)*0.01"
   ]
  },
  {
   "cell_type": "code",
   "execution_count": 130,
   "id": "d069ef85",
   "metadata": {},
   "outputs": [],
   "source": [
    "z = 0.1 + ϵ_z\n",
    "x = 0.1 + z + ϵ_x\n",
    "q = 0.5 + 0.1234*ϵ_x + ϵ_q\n",
    "y  = 1.0 + 0.9*x + 0.4*z + ϵ_y"
   ]
  },
  {
   "cell_type": "code",
   "execution_count": 131,
   "id": "6907c0e7",
   "metadata": {},
   "outputs": [],
   "source": [
    "df = pandas.DataFrame({\n",
    "    \"x\": x,\n",
    "    \"y\": y,\n",
    "    \"z\": z,\n",
    "    \"q\": q\n",
    "})"
   ]
  },
  {
   "cell_type": "code",
   "execution_count": 132,
   "id": "a33f8608",
   "metadata": {},
   "outputs": [
    {
     "data": {
      "text/html": [
       "<div>\n",
       "<style scoped>\n",
       "    .dataframe tbody tr th:only-of-type {\n",
       "        vertical-align: middle;\n",
       "    }\n",
       "\n",
       "    .dataframe tbody tr th {\n",
       "        vertical-align: top;\n",
       "    }\n",
       "\n",
       "    .dataframe thead th {\n",
       "        text-align: right;\n",
       "    }\n",
       "</style>\n",
       "<table border=\"1\" class=\"dataframe\">\n",
       "  <thead>\n",
       "    <tr style=\"text-align: right;\">\n",
       "      <th></th>\n",
       "      <th>x</th>\n",
       "      <th>y</th>\n",
       "      <th>z</th>\n",
       "      <th>q</th>\n",
       "    </tr>\n",
       "  </thead>\n",
       "  <tbody>\n",
       "    <tr>\n",
       "      <th>x</th>\n",
       "      <td>1.000000</td>\n",
       "      <td>0.831152</td>\n",
       "      <td>0.708497</td>\n",
       "      <td>0.079905</td>\n",
       "    </tr>\n",
       "    <tr>\n",
       "      <th>y</th>\n",
       "      <td>0.831152</td>\n",
       "      <td>1.000000</td>\n",
       "      <td>0.694133</td>\n",
       "      <td>0.054070</td>\n",
       "    </tr>\n",
       "    <tr>\n",
       "      <th>z</th>\n",
       "      <td>0.708497</td>\n",
       "      <td>0.694133</td>\n",
       "      <td>1.000000</td>\n",
       "      <td>-0.006022</td>\n",
       "    </tr>\n",
       "    <tr>\n",
       "      <th>q</th>\n",
       "      <td>0.079905</td>\n",
       "      <td>0.054070</td>\n",
       "      <td>-0.006022</td>\n",
       "      <td>1.000000</td>\n",
       "    </tr>\n",
       "  </tbody>\n",
       "</table>\n",
       "</div>"
      ],
      "text/plain": [
       "          x         y         z         q\n",
       "x  1.000000  0.831152  0.708497  0.079905\n",
       "y  0.831152  1.000000  0.694133  0.054070\n",
       "z  0.708497  0.694133  1.000000 -0.006022\n",
       "q  0.079905  0.054070 -0.006022  1.000000"
      ]
     },
     "execution_count": 132,
     "metadata": {},
     "output_type": "execute_result"
    }
   ],
   "source": [
    "df.corr()\n"
   ]
  },
  {
   "cell_type": "markdown",
   "id": "b47692a7",
   "metadata": {},
   "source": [
    "### Naive approach\n",
    "\n",
    "Run a regression to estimate the effect of $x$ on $y$. Control by $z$.\n",
    "What happens ?"
   ]
  },
  {
   "cell_type": "code",
   "execution_count": 133,
   "id": "b1d35704",
   "metadata": {},
   "outputs": [],
   "source": [
    "import linearmodels\n",
    "from statsmodels.formula import api"
   ]
  },
  {
   "cell_type": "code",
   "execution_count": 134,
   "id": "7e081a25",
   "metadata": {},
   "outputs": [
    {
     "data": {
      "text/html": [
       "<table class=\"simpletable\">\n",
       "<caption>OLS Regression Results</caption>\n",
       "<tr>\n",
       "  <th>Dep. Variable:</th>            <td>y</td>        <th>  R-squared:         </th>  <td>   0.691</td> \n",
       "</tr>\n",
       "<tr>\n",
       "  <th>Model:</th>                   <td>OLS</td>       <th>  Adj. R-squared:    </th>  <td>   0.691</td> \n",
       "</tr>\n",
       "<tr>\n",
       "  <th>Method:</th>             <td>Least Squares</td>  <th>  F-statistic:       </th>  <td>2.234e+05</td>\n",
       "</tr>\n",
       "<tr>\n",
       "  <th>Date:</th>             <td>Wed, 09 Mar 2022</td> <th>  Prob (F-statistic):</th>   <td>  0.00</td>  \n",
       "</tr>\n",
       "<tr>\n",
       "  <th>Time:</th>                 <td>12:14:59</td>     <th>  Log-Likelihood:    </th> <td>3.1488e+05</td>\n",
       "</tr>\n",
       "<tr>\n",
       "  <th>No. Observations:</th>      <td>100000</td>      <th>  AIC:               </th> <td>-6.298e+05</td>\n",
       "</tr>\n",
       "<tr>\n",
       "  <th>Df Residuals:</th>          <td> 99998</td>      <th>  BIC:               </th> <td>-6.297e+05</td>\n",
       "</tr>\n",
       "<tr>\n",
       "  <th>Df Model:</th>              <td>     1</td>      <th>                     </th>      <td> </td>    \n",
       "</tr>\n",
       "<tr>\n",
       "  <th>Covariance Type:</th>      <td>nonrobust</td>    <th>                     </th>      <td> </td>    \n",
       "</tr>\n",
       "</table>\n",
       "<table class=\"simpletable\">\n",
       "<tr>\n",
       "      <td></td>         <th>coef</th>     <th>std err</th>      <th>t</th>      <th>P>|t|</th>  <th>[0.025</th>    <th>0.975]</th>  \n",
       "</tr>\n",
       "<tr>\n",
       "  <th>Intercept</th> <td>    1.0005</td> <td>    0.000</td> <td> 2150.251</td> <td> 0.000</td> <td>    1.000</td> <td>    1.001</td>\n",
       "</tr>\n",
       "<tr>\n",
       "  <th>x</th>         <td>    1.0974</td> <td>    0.002</td> <td>  472.679</td> <td> 0.000</td> <td>    1.093</td> <td>    1.102</td>\n",
       "</tr>\n",
       "</table>\n",
       "<table class=\"simpletable\">\n",
       "<tr>\n",
       "  <th>Omnibus:</th>       <td> 2.727</td> <th>  Durbin-Watson:     </th> <td>   1.991</td>\n",
       "</tr>\n",
       "<tr>\n",
       "  <th>Prob(Omnibus):</th> <td> 0.256</td> <th>  Jarque-Bera (JB):  </th> <td>   2.727</td>\n",
       "</tr>\n",
       "<tr>\n",
       "  <th>Skew:</th>          <td> 0.008</td> <th>  Prob(JB):          </th> <td>   0.256</td>\n",
       "</tr>\n",
       "<tr>\n",
       "  <th>Kurtosis:</th>      <td> 3.019</td> <th>  Cond. No.          </th> <td>    73.5</td>\n",
       "</tr>\n",
       "</table><br/><br/>Notes:<br/>[1] Standard Errors assume that the covariance matrix of the errors is correctly specified."
      ],
      "text/plain": [
       "<class 'statsmodels.iolib.summary.Summary'>\n",
       "\"\"\"\n",
       "                            OLS Regression Results                            \n",
       "==============================================================================\n",
       "Dep. Variable:                      y   R-squared:                       0.691\n",
       "Model:                            OLS   Adj. R-squared:                  0.691\n",
       "Method:                 Least Squares   F-statistic:                 2.234e+05\n",
       "Date:                Wed, 09 Mar 2022   Prob (F-statistic):               0.00\n",
       "Time:                        12:14:59   Log-Likelihood:             3.1488e+05\n",
       "No. Observations:              100000   AIC:                        -6.298e+05\n",
       "Df Residuals:                   99998   BIC:                        -6.297e+05\n",
       "Df Model:                           1                                         \n",
       "Covariance Type:            nonrobust                                         \n",
       "==============================================================================\n",
       "                 coef    std err          t      P>|t|      [0.025      0.975]\n",
       "------------------------------------------------------------------------------\n",
       "Intercept      1.0005      0.000   2150.251      0.000       1.000       1.001\n",
       "x              1.0974      0.002    472.679      0.000       1.093       1.102\n",
       "==============================================================================\n",
       "Omnibus:                        2.727   Durbin-Watson:                   1.991\n",
       "Prob(Omnibus):                  0.256   Jarque-Bera (JB):                2.727\n",
       "Skew:                           0.008   Prob(JB):                        0.256\n",
       "Kurtosis:                       3.019   Cond. No.                         73.5\n",
       "==============================================================================\n",
       "\n",
       "Notes:\n",
       "[1] Standard Errors assume that the covariance matrix of the errors is correctly specified.\n",
       "\"\"\""
      ]
     },
     "execution_count": 134,
     "metadata": {},
     "output_type": "execute_result"
    }
   ],
   "source": [
    "model = api.ols(\"y ~ x\", df)\n",
    "res = model.fit()\n",
    "res.summary()"
   ]
  },
  {
   "cell_type": "code",
   "execution_count": 135,
   "id": "e51f3012",
   "metadata": {},
   "outputs": [
    {
     "data": {
      "text/html": [
       "<table class=\"simpletable\">\n",
       "<caption>OLS Regression Results</caption>\n",
       "<tr>\n",
       "  <th>Dep. Variable:</th>            <td>y</td>        <th>  R-squared:         </th>  <td>   0.713</td> \n",
       "</tr>\n",
       "<tr>\n",
       "  <th>Model:</th>                   <td>OLS</td>       <th>  Adj. R-squared:    </th>  <td>   0.713</td> \n",
       "</tr>\n",
       "<tr>\n",
       "  <th>Method:</th>             <td>Least Squares</td>  <th>  F-statistic:       </th>  <td>1.243e+05</td>\n",
       "</tr>\n",
       "<tr>\n",
       "  <th>Date:</th>             <td>Wed, 09 Mar 2022</td> <th>  Prob (F-statistic):</th>   <td>  0.00</td>  \n",
       "</tr>\n",
       "<tr>\n",
       "  <th>Time:</th>                 <td>12:15:00</td>     <th>  Log-Likelihood:    </th> <td>3.1862e+05</td>\n",
       "</tr>\n",
       "<tr>\n",
       "  <th>No. Observations:</th>      <td>100000</td>      <th>  AIC:               </th> <td>-6.372e+05</td>\n",
       "</tr>\n",
       "<tr>\n",
       "  <th>Df Residuals:</th>          <td> 99997</td>      <th>  BIC:               </th> <td>-6.372e+05</td>\n",
       "</tr>\n",
       "<tr>\n",
       "  <th>Df Model:</th>              <td>     2</td>      <th>                     </th>      <td> </td>    \n",
       "</tr>\n",
       "<tr>\n",
       "  <th>Covariance Type:</th>      <td>nonrobust</td>    <th>                     </th>      <td> </td>    \n",
       "</tr>\n",
       "</table>\n",
       "<table class=\"simpletable\">\n",
       "<tr>\n",
       "      <td></td>         <th>coef</th>     <th>std err</th>      <th>t</th>      <th>P>|t|</th>  <th>[0.025</th>    <th>0.975]</th>  \n",
       "</tr>\n",
       "<tr>\n",
       "  <th>Intercept</th> <td>    1.0007</td> <td>    0.000</td> <td> 2232.389</td> <td> 0.000</td> <td>    1.000</td> <td>    1.002</td>\n",
       "</tr>\n",
       "<tr>\n",
       "  <th>x</th>         <td>    0.8997</td> <td>    0.003</td> <td>  283.880</td> <td> 0.000</td> <td>    0.893</td> <td>    0.906</td>\n",
       "</tr>\n",
       "<tr>\n",
       "  <th>z</th>         <td>    0.3938</td> <td>    0.004</td> <td>   88.054</td> <td> 0.000</td> <td>    0.385</td> <td>    0.403</td>\n",
       "</tr>\n",
       "</table>\n",
       "<table class=\"simpletable\">\n",
       "<tr>\n",
       "  <th>Omnibus:</th>       <td> 2.380</td> <th>  Durbin-Watson:     </th> <td>   1.990</td>\n",
       "</tr>\n",
       "<tr>\n",
       "  <th>Prob(Omnibus):</th> <td> 0.304</td> <th>  Jarque-Bera (JB):  </th> <td>   2.379</td>\n",
       "</tr>\n",
       "<tr>\n",
       "  <th>Skew:</th>          <td> 0.007</td> <th>  Prob(JB):          </th> <td>   0.304</td>\n",
       "</tr>\n",
       "<tr>\n",
       "  <th>Kurtosis:</th>      <td> 3.019</td> <th>  Cond. No.          </th> <td>    166.</td>\n",
       "</tr>\n",
       "</table><br/><br/>Notes:<br/>[1] Standard Errors assume that the covariance matrix of the errors is correctly specified."
      ],
      "text/plain": [
       "<class 'statsmodels.iolib.summary.Summary'>\n",
       "\"\"\"\n",
       "                            OLS Regression Results                            \n",
       "==============================================================================\n",
       "Dep. Variable:                      y   R-squared:                       0.713\n",
       "Model:                            OLS   Adj. R-squared:                  0.713\n",
       "Method:                 Least Squares   F-statistic:                 1.243e+05\n",
       "Date:                Wed, 09 Mar 2022   Prob (F-statistic):               0.00\n",
       "Time:                        12:15:00   Log-Likelihood:             3.1862e+05\n",
       "No. Observations:              100000   AIC:                        -6.372e+05\n",
       "Df Residuals:                   99997   BIC:                        -6.372e+05\n",
       "Df Model:                           2                                         \n",
       "Covariance Type:            nonrobust                                         \n",
       "==============================================================================\n",
       "                 coef    std err          t      P>|t|      [0.025      0.975]\n",
       "------------------------------------------------------------------------------\n",
       "Intercept      1.0007      0.000   2232.389      0.000       1.000       1.002\n",
       "x              0.8997      0.003    283.880      0.000       0.893       0.906\n",
       "z              0.3938      0.004     88.054      0.000       0.385       0.403\n",
       "==============================================================================\n",
       "Omnibus:                        2.380   Durbin-Watson:                   1.990\n",
       "Prob(Omnibus):                  0.304   Jarque-Bera (JB):                2.379\n",
       "Skew:                           0.007   Prob(JB):                        0.304\n",
       "Kurtosis:                       3.019   Cond. No.                         166.\n",
       "==============================================================================\n",
       "\n",
       "Notes:\n",
       "[1] Standard Errors assume that the covariance matrix of the errors is correctly specified.\n",
       "\"\"\""
      ]
     },
     "execution_count": 135,
     "metadata": {},
     "output_type": "execute_result"
    }
   ],
   "source": [
    "model = api.ols(\"y ~ x + z\", df)\n",
    "res = model.fit()\n",
    "res.summary()"
   ]
  },
  {
   "cell_type": "markdown",
   "id": "751b7c06",
   "metadata": {},
   "source": [
    "### Instrumental variable\n",
    "\n",
    "Use $q$ to instrument the effect of x on y. Comment."
   ]
  },
  {
   "cell_type": "code",
   "execution_count": 136,
   "id": "94e431e8",
   "metadata": {},
   "outputs": [],
   "source": [
    "# difference between linearmodels and statsmodels:\n",
    "# linearmodels does not include the constant by defulat"
   ]
  },
  {
   "cell_type": "code",
   "execution_count": 137,
   "id": "14ca56ce",
   "metadata": {},
   "outputs": [],
   "source": [
    "from linearmodels import IV2SLS"
   ]
  },
  {
   "cell_type": "code",
   "execution_count": 138,
   "id": "adb6c80f",
   "metadata": {},
   "outputs": [
    {
     "data": {
      "text/html": [
       "<table class=\"simpletable\">\n",
       "<caption>IV-2SLS Estimation Summary</caption>\n",
       "<tr>\n",
       "  <th>Dep. Variable:</th>            <td>y</td>        <th>  R-squared:         </th> <td>0.6670</td> \n",
       "</tr>\n",
       "<tr>\n",
       "  <th>Estimator:</th>             <td>IV-2SLS</td>     <th>  Adj. R-squared:    </th> <td>0.6669</td> \n",
       "</tr>\n",
       "<tr>\n",
       "  <th>No. Observations:</th>      <td>100000</td>      <th>  F-statistic:       </th> <td>883.43</td> \n",
       "</tr>\n",
       "<tr>\n",
       "  <th>Date:</th>             <td>Wed, Mar 09 2022</td> <th>  P-value (F-stat)   </th> <td>0.0000</td> \n",
       "</tr>\n",
       "<tr>\n",
       "  <th>Time:</th>                 <td>12:15:00</td>     <th>  Distribution:      </th> <td>chi2(1)</td>\n",
       "</tr>\n",
       "<tr>\n",
       "  <th>Cov. Estimator:</th>        <td>robust</td>      <th>                     </th>    <td></td>    \n",
       "</tr>\n",
       "<tr>\n",
       "  <th></th>                          <td></td>         <th>                     </th>    <td></td>    \n",
       "</tr>\n",
       "</table>\n",
       "<table class=\"simpletable\">\n",
       "<caption>Parameter Estimates</caption>\n",
       "<tr>\n",
       "      <td></td>      <th>Parameter</th> <th>Std. Err.</th> <th>T-stat</th> <th>P-value</th> <th>Lower CI</th> <th>Upper CI</th>\n",
       "</tr>\n",
       "<tr>\n",
       "  <th>Intercept</th>  <td>1.0413</td>    <td>0.0060</td>   <td>173.27</td> <td>0.0000</td>   <td>1.0295</td>   <td>1.0531</td> \n",
       "</tr>\n",
       "<tr>\n",
       "  <th>x</th>          <td>0.8934</td>    <td>0.0301</td>   <td>29.723</td> <td>0.0000</td>   <td>0.8345</td>   <td>0.9523</td> \n",
       "</tr>\n",
       "</table><br/><br/>Endogenous: x<br/>Instruments: q<br/>Robust Covariance (Heteroskedastic)<br/>Debiased: False<br/>id: 0x7f09adece490"
      ],
      "text/plain": [
       "                          IV-2SLS Estimation Summary                          \n",
       "==============================================================================\n",
       "Dep. Variable:                      y   R-squared:                      0.6670\n",
       "Estimator:                    IV-2SLS   Adj. R-squared:                 0.6669\n",
       "No. Observations:              100000   F-statistic:                    883.43\n",
       "Date:                Wed, Mar 09 2022   P-value (F-stat)                0.0000\n",
       "Time:                        12:15:00   Distribution:                  chi2(1)\n",
       "Cov. Estimator:                robust                                         \n",
       "                                                                              \n",
       "                             Parameter Estimates                              \n",
       "==============================================================================\n",
       "            Parameter  Std. Err.     T-stat    P-value    Lower CI    Upper CI\n",
       "------------------------------------------------------------------------------\n",
       "Intercept      1.0413     0.0060     173.27     0.0000      1.0295      1.0531\n",
       "x              0.8934     0.0301     29.723     0.0000      0.8345      0.9523\n",
       "==============================================================================\n",
       "\n",
       "Endogenous: x\n",
       "Instruments: q\n",
       "Robust Covariance (Heteroskedastic)\n",
       "Debiased: False\n",
       "IVResults, id: 0x7f09adece490"
      ]
     },
     "execution_count": 138,
     "metadata": {},
     "output_type": "execute_result"
    }
   ],
   "source": [
    "from linearmodels import IV2SLS\n",
    "formula = (\n",
    "    \"y ~ 1 + [x ~ q]\"\n",
    ")\n",
    "mod = IV2SLS.from_formula(formula, df)\n",
    "res = mod.fit()\n",
    "res"
   ]
  },
  {
   "cell_type": "markdown",
   "id": "71c81798",
   "metadata": {},
   "source": [
    "## Return on Education"
   ]
  },
  {
   "cell_type": "markdown",
   "id": "a2dbc829",
   "metadata": {},
   "source": [
    "We follow the excellent R [tutorial](https://www.econometrics-with-r.org/12-6-exercises-10.html) from the (excellent) *Econometrics with R* book.\n",
    "\n",
    "The goal is to measure the effect of schooling on earnings, while correcting the endogeneity bias by using distance to college as an instrument."
   ]
  },
  {
   "cell_type": "markdown",
   "id": "f172361f",
   "metadata": {},
   "source": [
    "__Download the college distance and make a nice dataframe. Describe the dataset. Plot an histogram of distance.__\n",
    "\n",
    "https://vincentarelbundock.github.io/Rdatasets/datasets.html"
   ]
  },
  {
   "cell_type": "code",
   "execution_count": 1,
   "id": "0f2d34a5",
   "metadata": {},
   "outputs": [],
   "source": [
    "import statsmodels.api as sm"
   ]
  },
  {
   "cell_type": "code",
   "execution_count": 6,
   "id": "379435ac",
   "metadata": {},
   "outputs": [
    {
     "data": {
      "text/plain": [
       "\u001b[0;31mSignature:\u001b[0m \u001b[0msm\u001b[0m\u001b[0;34m.\u001b[0m\u001b[0mdatasets\u001b[0m\u001b[0;34m.\u001b[0m\u001b[0mget_rdataset\u001b[0m\u001b[0;34m(\u001b[0m\u001b[0mdataname\u001b[0m\u001b[0;34m,\u001b[0m \u001b[0mpackage\u001b[0m\u001b[0;34m=\u001b[0m\u001b[0;34m'datasets'\u001b[0m\u001b[0;34m,\u001b[0m \u001b[0mcache\u001b[0m\u001b[0;34m=\u001b[0m\u001b[0;32mFalse\u001b[0m\u001b[0;34m)\u001b[0m\u001b[0;34m\u001b[0m\u001b[0;34m\u001b[0m\u001b[0m\n",
       "\u001b[0;31mDocstring:\u001b[0m\n",
       "download and return R dataset\n",
       "\n",
       "Parameters\n",
       "----------\n",
       "dataname : str\n",
       "    The name of the dataset you want to download\n",
       "package : str\n",
       "    The package in which the dataset is found. The default is the core\n",
       "    'datasets' package.\n",
       "cache : bool or str\n",
       "    If True, will download this data into the STATSMODELS_DATA folder.\n",
       "    The default location is a folder called statsmodels_data in the\n",
       "    user home folder. Otherwise, you can specify a path to a folder to\n",
       "    use for caching the data. If False, the data will not be cached.\n",
       "\n",
       "Returns\n",
       "-------\n",
       "dataset : Dataset\n",
       "    A `statsmodels.data.utils.Dataset` instance. This objects has\n",
       "    attributes:\n",
       "\n",
       "    * data - A pandas DataFrame containing the data\n",
       "    * title - The dataset title\n",
       "    * package - The package from which the data came\n",
       "    * from_cache - Whether not cached data was retrieved\n",
       "    * __doc__ - The verbatim R documentation.\n",
       "\n",
       "Notes\n",
       "-----\n",
       "If the R dataset has an integer index. This is reset to be zero-based.\n",
       "Otherwise the index is preserved. The caching facilities are dumb. That\n",
       "is, no download dates, e-tags, or otherwise identifying information\n",
       "is checked to see if the data should be downloaded again or not. If the\n",
       "dataset is in the cache, it's used.\n",
       "\u001b[0;31mFile:\u001b[0m      ~/.local/opt/miniconda/lib/python3.8/site-packages/statsmodels/datasets/utils.py\n",
       "\u001b[0;31mType:\u001b[0m      function\n"
      ]
     },
     "metadata": {},
     "output_type": "display_data"
    }
   ],
   "source": [
    "sm.datasets.get_rdataset?"
   ]
  },
  {
   "cell_type": "code",
   "execution_count": 11,
   "id": "1e3caa3d",
   "metadata": {},
   "outputs": [],
   "source": [
    "ds = sm.datasets.get_rdataset(\"CollegeDistance\", \"AER\")"
   ]
  },
  {
   "cell_type": "code",
   "execution_count": 13,
   "id": "abae4ccd",
   "metadata": {},
   "outputs": [],
   "source": [
    "df = ds.data"
   ]
  },
  {
   "cell_type": "code",
   "execution_count": 14,
   "id": "6bcede73",
   "metadata": {},
   "outputs": [
    {
     "data": {
      "text/plain": [
       "'College Distance Data'"
      ]
     },
     "execution_count": 14,
     "metadata": {},
     "output_type": "execute_result"
    }
   ],
   "source": [
    "ds.title"
   ]
  },
  {
   "cell_type": "code",
   "execution_count": 15,
   "id": "77dd145e",
   "metadata": {},
   "outputs": [
    {
     "data": {
      "text/html": [
       "<div>\n",
       "<style scoped>\n",
       "    .dataframe tbody tr th:only-of-type {\n",
       "        vertical-align: middle;\n",
       "    }\n",
       "\n",
       "    .dataframe tbody tr th {\n",
       "        vertical-align: top;\n",
       "    }\n",
       "\n",
       "    .dataframe thead th {\n",
       "        text-align: right;\n",
       "    }\n",
       "</style>\n",
       "<table border=\"1\" class=\"dataframe\">\n",
       "  <thead>\n",
       "    <tr style=\"text-align: right;\">\n",
       "      <th></th>\n",
       "      <th>gender</th>\n",
       "      <th>ethnicity</th>\n",
       "      <th>score</th>\n",
       "      <th>fcollege</th>\n",
       "      <th>mcollege</th>\n",
       "      <th>home</th>\n",
       "      <th>urban</th>\n",
       "      <th>unemp</th>\n",
       "      <th>wage</th>\n",
       "      <th>distance</th>\n",
       "      <th>tuition</th>\n",
       "      <th>education</th>\n",
       "      <th>income</th>\n",
       "      <th>region</th>\n",
       "    </tr>\n",
       "  </thead>\n",
       "  <tbody>\n",
       "    <tr>\n",
       "      <th>1</th>\n",
       "      <td>male</td>\n",
       "      <td>other</td>\n",
       "      <td>39.150002</td>\n",
       "      <td>yes</td>\n",
       "      <td>no</td>\n",
       "      <td>yes</td>\n",
       "      <td>yes</td>\n",
       "      <td>6.2</td>\n",
       "      <td>8.09</td>\n",
       "      <td>0.2</td>\n",
       "      <td>0.88915</td>\n",
       "      <td>12</td>\n",
       "      <td>high</td>\n",
       "      <td>other</td>\n",
       "    </tr>\n",
       "    <tr>\n",
       "      <th>2</th>\n",
       "      <td>female</td>\n",
       "      <td>other</td>\n",
       "      <td>48.869999</td>\n",
       "      <td>no</td>\n",
       "      <td>no</td>\n",
       "      <td>yes</td>\n",
       "      <td>yes</td>\n",
       "      <td>6.2</td>\n",
       "      <td>8.09</td>\n",
       "      <td>0.2</td>\n",
       "      <td>0.88915</td>\n",
       "      <td>12</td>\n",
       "      <td>low</td>\n",
       "      <td>other</td>\n",
       "    </tr>\n",
       "    <tr>\n",
       "      <th>3</th>\n",
       "      <td>male</td>\n",
       "      <td>other</td>\n",
       "      <td>48.740002</td>\n",
       "      <td>no</td>\n",
       "      <td>no</td>\n",
       "      <td>yes</td>\n",
       "      <td>yes</td>\n",
       "      <td>6.2</td>\n",
       "      <td>8.09</td>\n",
       "      <td>0.2</td>\n",
       "      <td>0.88915</td>\n",
       "      <td>12</td>\n",
       "      <td>low</td>\n",
       "      <td>other</td>\n",
       "    </tr>\n",
       "    <tr>\n",
       "      <th>4</th>\n",
       "      <td>male</td>\n",
       "      <td>afam</td>\n",
       "      <td>40.400002</td>\n",
       "      <td>no</td>\n",
       "      <td>no</td>\n",
       "      <td>yes</td>\n",
       "      <td>yes</td>\n",
       "      <td>6.2</td>\n",
       "      <td>8.09</td>\n",
       "      <td>0.2</td>\n",
       "      <td>0.88915</td>\n",
       "      <td>12</td>\n",
       "      <td>low</td>\n",
       "      <td>other</td>\n",
       "    </tr>\n",
       "    <tr>\n",
       "      <th>5</th>\n",
       "      <td>female</td>\n",
       "      <td>other</td>\n",
       "      <td>40.480000</td>\n",
       "      <td>no</td>\n",
       "      <td>no</td>\n",
       "      <td>no</td>\n",
       "      <td>yes</td>\n",
       "      <td>5.6</td>\n",
       "      <td>8.09</td>\n",
       "      <td>0.4</td>\n",
       "      <td>0.88915</td>\n",
       "      <td>13</td>\n",
       "      <td>low</td>\n",
       "      <td>other</td>\n",
       "    </tr>\n",
       "  </tbody>\n",
       "</table>\n",
       "</div>"
      ],
      "text/plain": [
       "   gender ethnicity      score fcollege mcollege home urban  unemp  wage  \\\n",
       "1    male     other  39.150002      yes       no  yes   yes    6.2  8.09   \n",
       "2  female     other  48.869999       no       no  yes   yes    6.2  8.09   \n",
       "3    male     other  48.740002       no       no  yes   yes    6.2  8.09   \n",
       "4    male      afam  40.400002       no       no  yes   yes    6.2  8.09   \n",
       "5  female     other  40.480000       no       no   no   yes    5.6  8.09   \n",
       "\n",
       "   distance  tuition  education income region  \n",
       "1       0.2  0.88915         12   high  other  \n",
       "2       0.2  0.88915         12    low  other  \n",
       "3       0.2  0.88915         12    low  other  \n",
       "4       0.2  0.88915         12    low  other  \n",
       "5       0.4  0.88915         13    low  other  "
      ]
     },
     "execution_count": 15,
     "metadata": {},
     "output_type": "execute_result"
    }
   ],
   "source": [
    "df.head()"
   ]
  },
  {
   "cell_type": "code",
   "execution_count": 17,
   "id": "2f57f8bf",
   "metadata": {},
   "outputs": [
    {
     "data": {
      "text/html": [
       "<div>\n",
       "<style scoped>\n",
       "    .dataframe tbody tr th:only-of-type {\n",
       "        vertical-align: middle;\n",
       "    }\n",
       "\n",
       "    .dataframe tbody tr th {\n",
       "        vertical-align: top;\n",
       "    }\n",
       "\n",
       "    .dataframe thead th {\n",
       "        text-align: right;\n",
       "    }\n",
       "</style>\n",
       "<table border=\"1\" class=\"dataframe\">\n",
       "  <thead>\n",
       "    <tr style=\"text-align: right;\">\n",
       "      <th></th>\n",
       "      <th>score</th>\n",
       "      <th>unemp</th>\n",
       "      <th>wage</th>\n",
       "      <th>distance</th>\n",
       "      <th>tuition</th>\n",
       "      <th>education</th>\n",
       "    </tr>\n",
       "  </thead>\n",
       "  <tbody>\n",
       "    <tr>\n",
       "      <th>count</th>\n",
       "      <td>4739.000000</td>\n",
       "      <td>4739.000000</td>\n",
       "      <td>4739.000000</td>\n",
       "      <td>4739.000000</td>\n",
       "      <td>4739.000000</td>\n",
       "      <td>4739.000000</td>\n",
       "    </tr>\n",
       "    <tr>\n",
       "      <th>mean</th>\n",
       "      <td>50.889029</td>\n",
       "      <td>7.597215</td>\n",
       "      <td>9.500506</td>\n",
       "      <td>1.802870</td>\n",
       "      <td>0.814608</td>\n",
       "      <td>13.807765</td>\n",
       "    </tr>\n",
       "    <tr>\n",
       "      <th>std</th>\n",
       "      <td>8.701910</td>\n",
       "      <td>2.763581</td>\n",
       "      <td>1.343067</td>\n",
       "      <td>2.297128</td>\n",
       "      <td>0.339504</td>\n",
       "      <td>1.789107</td>\n",
       "    </tr>\n",
       "    <tr>\n",
       "      <th>min</th>\n",
       "      <td>28.950001</td>\n",
       "      <td>1.400000</td>\n",
       "      <td>6.590000</td>\n",
       "      <td>0.000000</td>\n",
       "      <td>0.257510</td>\n",
       "      <td>12.000000</td>\n",
       "    </tr>\n",
       "    <tr>\n",
       "      <th>25%</th>\n",
       "      <td>43.924999</td>\n",
       "      <td>5.900000</td>\n",
       "      <td>8.850000</td>\n",
       "      <td>0.400000</td>\n",
       "      <td>0.484990</td>\n",
       "      <td>12.000000</td>\n",
       "    </tr>\n",
       "    <tr>\n",
       "      <th>50%</th>\n",
       "      <td>51.189999</td>\n",
       "      <td>7.100000</td>\n",
       "      <td>9.680000</td>\n",
       "      <td>1.000000</td>\n",
       "      <td>0.824480</td>\n",
       "      <td>13.000000</td>\n",
       "    </tr>\n",
       "    <tr>\n",
       "      <th>75%</th>\n",
       "      <td>57.769999</td>\n",
       "      <td>8.900000</td>\n",
       "      <td>10.150000</td>\n",
       "      <td>2.500000</td>\n",
       "      <td>1.127020</td>\n",
       "      <td>16.000000</td>\n",
       "    </tr>\n",
       "    <tr>\n",
       "      <th>max</th>\n",
       "      <td>72.809998</td>\n",
       "      <td>24.900000</td>\n",
       "      <td>12.960000</td>\n",
       "      <td>20.000000</td>\n",
       "      <td>1.404160</td>\n",
       "      <td>18.000000</td>\n",
       "    </tr>\n",
       "  </tbody>\n",
       "</table>\n",
       "</div>"
      ],
      "text/plain": [
       "             score        unemp         wage     distance      tuition  \\\n",
       "count  4739.000000  4739.000000  4739.000000  4739.000000  4739.000000   \n",
       "mean     50.889029     7.597215     9.500506     1.802870     0.814608   \n",
       "std       8.701910     2.763581     1.343067     2.297128     0.339504   \n",
       "min      28.950001     1.400000     6.590000     0.000000     0.257510   \n",
       "25%      43.924999     5.900000     8.850000     0.400000     0.484990   \n",
       "50%      51.189999     7.100000     9.680000     1.000000     0.824480   \n",
       "75%      57.769999     8.900000    10.150000     2.500000     1.127020   \n",
       "max      72.809998    24.900000    12.960000    20.000000     1.404160   \n",
       "\n",
       "         education  \n",
       "count  4739.000000  \n",
       "mean     13.807765  \n",
       "std       1.789107  \n",
       "min      12.000000  \n",
       "25%      12.000000  \n",
       "50%      13.000000  \n",
       "75%      16.000000  \n",
       "max      18.000000  "
      ]
     },
     "execution_count": 17,
     "metadata": {},
     "output_type": "execute_result"
    }
   ],
   "source": [
    "# wage looks constant. Check there is actually some variability\n",
    "df.describe()"
   ]
  },
  {
   "cell_type": "code",
   "execution_count": 18,
   "id": "485b85eb",
   "metadata": {},
   "outputs": [],
   "source": [
    "from matplotlib import pyplot as plt"
   ]
  },
  {
   "cell_type": "code",
   "execution_count": 22,
   "id": "82169dca",
   "metadata": {},
   "outputs": [
    {
     "data": {
      "text/plain": [
       "(array([1091.,  923.,  601.,  534.,   92.,  277.,  219.,  126.,  173.,\n",
       "          36.,  168.,   88.,  126.,   17.,    0.,   43.,   47.,   48.,\n",
       "          10.,    8.,   19.,    0.,   26.,    0.,    0.,    6.,    4.,\n",
       "           7.,    0.,    0.,   10.,    0.,    0.,    0.,    0.,    4.,\n",
       "           0.,   15.,    0.,    0.,   17.,    0.,    0.,    0.,    0.,\n",
       "           0.,    0.,    0.,    0.,    4.]),\n",
       " array([ 0. ,  0.4,  0.8,  1.2,  1.6,  2. ,  2.4,  2.8,  3.2,  3.6,  4. ,\n",
       "         4.4,  4.8,  5.2,  5.6,  6. ,  6.4,  6.8,  7.2,  7.6,  8. ,  8.4,\n",
       "         8.8,  9.2,  9.6, 10. , 10.4, 10.8, 11.2, 11.6, 12. , 12.4, 12.8,\n",
       "        13.2, 13.6, 14. , 14.4, 14.8, 15.2, 15.6, 16. , 16.4, 16.8, 17.2,\n",
       "        17.6, 18. , 18.4, 18.8, 19.2, 19.6, 20. ]),\n",
       " <BarContainer object of 50 artists>)"
      ]
     },
     "execution_count": 22,
     "metadata": {},
     "output_type": "execute_result"
    },
    {
     "data": {
      "image/png": "[encoded data removed]",
      "text/plain": [
       "<Figure size 432x288 with 1 Axes>"
      ]
     },
     "metadata": {
      "needs_background": "light"
     },
     "output_type": "display_data"
    }
   ],
   "source": [
    "plt.hist(df['distance'], bins=50)"
   ]
  },
  {
   "cell_type": "markdown",
   "id": "ca8ec743",
   "metadata": {},
   "source": [
    "__Run the naive regression $income=\\beta_0 + \\beta_1 \\text{education} + u$__\n",
    "\n"
   ]
  },
  {
   "cell_type": "code",
   "execution_count": 23,
   "id": "6727849f",
   "metadata": {},
   "outputs": [],
   "source": [
    "import statsmodels.formula.api as api"
   ]
  },
  {
   "cell_type": "code",
   "execution_count": 25,
   "id": "b2d3cf57",
   "metadata": {},
   "outputs": [
    {
     "ename": "ValueError",
     "evalue": "endog has evaluated to an array with multiple columns that has shape (4739, 2). This occurs when the variable converted to endog is non-numeric (e.g., bool or str).",
     "output_type": "error",
     "traceback": [
      "\u001b[0;31m---------------------------------------------------------------------------\u001b[0m",
      "\u001b[0;31mValueError\u001b[0m                                Traceback (most recent call last)",
      "\u001b[0;32m<ipython-input-25-c6c3ae42a1c2>\u001b[0m in \u001b[0;36m<module>\u001b[0;34m\u001b[0m\n\u001b[0;32m----> 1\u001b[0;31m \u001b[0mapi\u001b[0m\u001b[0;34m.\u001b[0m\u001b[0mols\u001b[0m\u001b[0;34m(\u001b[0m\u001b[0;34m\"income ~ education\"\u001b[0m\u001b[0;34m,\u001b[0m \u001b[0mdf\u001b[0m\u001b[0;34m)\u001b[0m\u001b[0;34m\u001b[0m\u001b[0;34m\u001b[0m\u001b[0m\n\u001b[0m",
      "\u001b[0;32m~/.local/opt/miniconda/lib/python3.8/site-packages/statsmodels/base/model.py\u001b[0m in \u001b[0;36mfrom_formula\u001b[0;34m(cls, formula, data, subset, drop_cols, *args, **kwargs)\u001b[0m\n\u001b[1;32m    173\u001b[0m         if (max_endog is not None and\n\u001b[1;32m    174\u001b[0m                 endog.ndim > 1 and endog.shape[1] > max_endog):\n\u001b[0;32m--> 175\u001b[0;31m             raise ValueError('endog has evaluated to an array with multiple '\n\u001b[0m\u001b[1;32m    176\u001b[0m                              \u001b[0;34m'columns that has shape {0}. This occurs when '\u001b[0m\u001b[0;34m\u001b[0m\u001b[0;34m\u001b[0m\u001b[0m\n\u001b[1;32m    177\u001b[0m                              \u001b[0;34m'the variable converted to endog is non-numeric'\u001b[0m\u001b[0;34m\u001b[0m\u001b[0;34m\u001b[0m\u001b[0m\n",
      "\u001b[0;31mValueError\u001b[0m: endog has evaluated to an array with multiple columns that has shape (4739, 2). This occurs when the variable converted to endog is non-numeric (e.g., bool or str)."
     ]
    }
   ],
   "source": [
    "api.ols(\"C(income) ~ education\", df)"
   ]
  },
  {
   "cell_type": "code",
   "execution_count": 32,
   "id": "627e0d2c",
   "metadata": {},
   "outputs": [],
   "source": [
    "# education variable takes string values (\"high\" or \"low\"). \n",
    "# we need to convert them into 1 and 0 first\n",
    "df['income_binary'] = (df['income'] == \"high\")*1"
   ]
  },
  {
   "cell_type": "code",
   "execution_count": 35,
   "id": "566dabaf",
   "metadata": {},
   "outputs": [],
   "source": [
    "model = api.ols(\"income_binary ~ education\", df)\n",
    "result = model.fit()"
   ]
  },
  {
   "cell_type": "code",
   "execution_count": 36,
   "id": "cd62b2eb",
   "metadata": {},
   "outputs": [
    {
     "data": {
      "text/html": [
       "<table class=\"simpletable\">\n",
       "<caption>OLS Regression Results</caption>\n",
       "<tr>\n",
       "  <th>Dep. Variable:</th>      <td>income_binary</td>  <th>  R-squared:         </th> <td>   0.048</td>\n",
       "</tr>\n",
       "<tr>\n",
       "  <th>Model:</th>                   <td>OLS</td>       <th>  Adj. R-squared:    </th> <td>   0.048</td>\n",
       "</tr>\n",
       "<tr>\n",
       "  <th>Method:</th>             <td>Least Squares</td>  <th>  F-statistic:       </th> <td>   239.0</td>\n",
       "</tr>\n",
       "<tr>\n",
       "  <th>Date:</th>             <td>Tue, 15 Mar 2022</td> <th>  Prob (F-statistic):</th> <td>1.22e-52</td>\n",
       "</tr>\n",
       "<tr>\n",
       "  <th>Time:</th>                 <td>09:34:48</td>     <th>  Log-Likelihood:    </th> <td> -2853.5</td>\n",
       "</tr>\n",
       "<tr>\n",
       "  <th>No. Observations:</th>      <td>  4739</td>      <th>  AIC:               </th> <td>   5711.</td>\n",
       "</tr>\n",
       "<tr>\n",
       "  <th>Df Residuals:</th>          <td>  4737</td>      <th>  BIC:               </th> <td>   5724.</td>\n",
       "</tr>\n",
       "<tr>\n",
       "  <th>Df Model:</th>              <td>     1</td>      <th>                     </th>     <td> </td>   \n",
       "</tr>\n",
       "<tr>\n",
       "  <th>Covariance Type:</th>      <td>nonrobust</td>    <th>                     </th>     <td> </td>   \n",
       "</tr>\n",
       "</table>\n",
       "<table class=\"simpletable\">\n",
       "<tr>\n",
       "      <td></td>         <th>coef</th>     <th>std err</th>      <th>t</th>      <th>P>|t|</th>  <th>[0.025</th>    <th>0.975]</th>  \n",
       "</tr>\n",
       "<tr>\n",
       "  <th>Intercept</th> <td>   -0.4780</td> <td>    0.050</td> <td>   -9.567</td> <td> 0.000</td> <td>   -0.576</td> <td>   -0.380</td>\n",
       "</tr>\n",
       "<tr>\n",
       "  <th>education</th> <td>    0.0555</td> <td>    0.004</td> <td>   15.460</td> <td> 0.000</td> <td>    0.048</td> <td>    0.063</td>\n",
       "</tr>\n",
       "</table>\n",
       "<table class=\"simpletable\">\n",
       "<tr>\n",
       "  <th>Omnibus:</th>       <td>1510.859</td> <th>  Durbin-Watson:     </th> <td>   1.791</td> \n",
       "</tr>\n",
       "<tr>\n",
       "  <th>Prob(Omnibus):</th>  <td> 0.000</td>  <th>  Jarque-Bera (JB):  </th> <td> 795.036</td> \n",
       "</tr>\n",
       "<tr>\n",
       "  <th>Skew:</th>           <td> 0.871</td>  <th>  Prob(JB):          </th> <td>2.29e-173</td>\n",
       "</tr>\n",
       "<tr>\n",
       "  <th>Kurtosis:</th>       <td> 2.003</td>  <th>  Cond. No.          </th> <td>    109.</td> \n",
       "</tr>\n",
       "</table><br/><br/>Notes:<br/>[1] Standard Errors assume that the covariance matrix of the errors is correctly specified."
      ],
      "text/plain": [
       "<class 'statsmodels.iolib.summary.Summary'>\n",
       "\"\"\"\n",
       "                            OLS Regression Results                            \n",
       "==============================================================================\n",
       "Dep. Variable:          income_binary   R-squared:                       0.048\n",
       "Model:                            OLS   Adj. R-squared:                  0.048\n",
       "Method:                 Least Squares   F-statistic:                     239.0\n",
       "Date:                Tue, 15 Mar 2022   Prob (F-statistic):           1.22e-52\n",
       "Time:                        09:34:48   Log-Likelihood:                -2853.5\n",
       "No. Observations:                4739   AIC:                             5711.\n",
       "Df Residuals:                    4737   BIC:                             5724.\n",
       "Df Model:                           1                                         \n",
       "Covariance Type:            nonrobust                                         \n",
       "==============================================================================\n",
       "                 coef    std err          t      P>|t|      [0.025      0.975]\n",
       "------------------------------------------------------------------------------\n",
       "Intercept     -0.4780      0.050     -9.567      0.000      -0.576      -0.380\n",
       "education      0.0555      0.004     15.460      0.000       0.048       0.063\n",
       "==============================================================================\n",
       "Omnibus:                     1510.859   Durbin-Watson:                   1.791\n",
       "Prob(Omnibus):                  0.000   Jarque-Bera (JB):              795.036\n",
       "Skew:                           0.871   Prob(JB):                    2.29e-173\n",
       "Kurtosis:                       2.003   Cond. No.                         109.\n",
       "==============================================================================\n",
       "\n",
       "Notes:\n",
       "[1] Standard Errors assume that the covariance matrix of the errors is correctly specified.\n",
       "\"\"\""
      ]
     },
     "execution_count": 36,
     "metadata": {},
     "output_type": "execute_result"
    }
   ],
   "source": [
    "result.summary()"
   ]
  },
  {
   "cell_type": "markdown",
   "id": "1657ddec",
   "metadata": {},
   "source": [
    "The p-value associated to the Fisher statistics is negligible: the model is globally significant. \n",
    "Predictive power is very low (R^2 ~ 5%): the effect of education on income is small w.r.t. to the effect of other factors.\n",
    "\n",
    "Coefficients for interecept and education terms are significant at the 0.1% threshold."
   ]
  },
  {
   "cell_type": "code",
   "execution_count": 38,
   "id": "19638a17",
   "metadata": {},
   "outputs": [
    {
     "data": {
      "text/html": [
       "<div>\n",
       "<style scoped>\n",
       "    .dataframe tbody tr th:only-of-type {\n",
       "        vertical-align: middle;\n",
       "    }\n",
       "\n",
       "    .dataframe tbody tr th {\n",
       "        vertical-align: top;\n",
       "    }\n",
       "\n",
       "    .dataframe thead th {\n",
       "        text-align: right;\n",
       "    }\n",
       "</style>\n",
       "<table border=\"1\" class=\"dataframe\">\n",
       "  <thead>\n",
       "    <tr style=\"text-align: right;\">\n",
       "      <th></th>\n",
       "      <th>gender</th>\n",
       "      <th>ethnicity</th>\n",
       "      <th>score</th>\n",
       "      <th>fcollege</th>\n",
       "      <th>mcollege</th>\n",
       "      <th>home</th>\n",
       "      <th>urban</th>\n",
       "      <th>unemp</th>\n",
       "      <th>wage</th>\n",
       "      <th>distance</th>\n",
       "      <th>tuition</th>\n",
       "      <th>education</th>\n",
       "      <th>income</th>\n",
       "      <th>region</th>\n",
       "      <th>income_binary</th>\n",
       "    </tr>\n",
       "  </thead>\n",
       "  <tbody>\n",
       "    <tr>\n",
       "      <th>1</th>\n",
       "      <td>male</td>\n",
       "      <td>other</td>\n",
       "      <td>39.150002</td>\n",
       "      <td>yes</td>\n",
       "      <td>no</td>\n",
       "      <td>yes</td>\n",
       "      <td>yes</td>\n",
       "      <td>6.2</td>\n",
       "      <td>8.09</td>\n",
       "      <td>0.2</td>\n",
       "      <td>0.88915</td>\n",
       "      <td>12</td>\n",
       "      <td>high</td>\n",
       "      <td>other</td>\n",
       "      <td>1</td>\n",
       "    </tr>\n",
       "    <tr>\n",
       "      <th>2</th>\n",
       "      <td>female</td>\n",
       "      <td>other</td>\n",
       "      <td>48.869999</td>\n",
       "      <td>no</td>\n",
       "      <td>no</td>\n",
       "      <td>yes</td>\n",
       "      <td>yes</td>\n",
       "      <td>6.2</td>\n",
       "      <td>8.09</td>\n",
       "      <td>0.2</td>\n",
       "      <td>0.88915</td>\n",
       "      <td>12</td>\n",
       "      <td>low</td>\n",
       "      <td>other</td>\n",
       "      <td>0</td>\n",
       "    </tr>\n",
       "    <tr>\n",
       "      <th>3</th>\n",
       "      <td>male</td>\n",
       "      <td>other</td>\n",
       "      <td>48.740002</td>\n",
       "      <td>no</td>\n",
       "      <td>no</td>\n",
       "      <td>yes</td>\n",
       "      <td>yes</td>\n",
       "      <td>6.2</td>\n",
       "      <td>8.09</td>\n",
       "      <td>0.2</td>\n",
       "      <td>0.88915</td>\n",
       "      <td>12</td>\n",
       "      <td>low</td>\n",
       "      <td>other</td>\n",
       "      <td>0</td>\n",
       "    </tr>\n",
       "    <tr>\n",
       "      <th>4</th>\n",
       "      <td>male</td>\n",
       "      <td>afam</td>\n",
       "      <td>40.400002</td>\n",
       "      <td>no</td>\n",
       "      <td>no</td>\n",
       "      <td>yes</td>\n",
       "      <td>yes</td>\n",
       "      <td>6.2</td>\n",
       "      <td>8.09</td>\n",
       "      <td>0.2</td>\n",
       "      <td>0.88915</td>\n",
       "      <td>12</td>\n",
       "      <td>low</td>\n",
       "      <td>other</td>\n",
       "      <td>0</td>\n",
       "    </tr>\n",
       "    <tr>\n",
       "      <th>5</th>\n",
       "      <td>female</td>\n",
       "      <td>other</td>\n",
       "      <td>40.480000</td>\n",
       "      <td>no</td>\n",
       "      <td>no</td>\n",
       "      <td>no</td>\n",
       "      <td>yes</td>\n",
       "      <td>5.6</td>\n",
       "      <td>8.09</td>\n",
       "      <td>0.4</td>\n",
       "      <td>0.88915</td>\n",
       "      <td>13</td>\n",
       "      <td>low</td>\n",
       "      <td>other</td>\n",
       "      <td>0</td>\n",
       "    </tr>\n",
       "  </tbody>\n",
       "</table>\n",
       "</div>"
      ],
      "text/plain": [
       "   gender ethnicity      score fcollege mcollege home urban  unemp  wage  \\\n",
       "1    male     other  39.150002      yes       no  yes   yes    6.2  8.09   \n",
       "2  female     other  48.869999       no       no  yes   yes    6.2  8.09   \n",
       "3    male     other  48.740002       no       no  yes   yes    6.2  8.09   \n",
       "4    male      afam  40.400002       no       no  yes   yes    6.2  8.09   \n",
       "5  female     other  40.480000       no       no   no   yes    5.6  8.09   \n",
       "\n",
       "   distance  tuition  education income region  income_binary  \n",
       "1       0.2  0.88915         12   high  other              1  \n",
       "2       0.2  0.88915         12    low  other              0  \n",
       "3       0.2  0.88915         12    low  other              0  \n",
       "4       0.2  0.88915         12    low  other              0  \n",
       "5       0.4  0.88915         13    low  other              0  "
      ]
     },
     "execution_count": 38,
     "metadata": {},
     "output_type": "execute_result"
    }
   ],
   "source": [
    "df.head()"
   ]
  },
  {
   "cell_type": "code",
   "execution_count": 40,
   "id": "c0f72ea5",
   "metadata": {},
   "outputs": [
    {
     "data": {
      "text/plain": [
       "array(['other', 'afam', 'hispanic'], dtype=object)"
      ]
     },
     "execution_count": 40,
     "metadata": {},
     "output_type": "execute_result"
    }
   ],
   "source": [
    "df['ethnicity'].unique()"
   ]
  },
  {
   "cell_type": "markdown",
   "id": "bf7a87cd",
   "metadata": {},
   "source": [
    "__Augment the regression with `unemp`, `hispanic`, `af-am`, `female` and `urban`__"
   ]
  },
  {
   "cell_type": "code",
   "execution_count": 46,
   "id": "214c014b",
   "metadata": {},
   "outputs": [],
   "source": [
    "from patsy import Treatment"
   ]
  },
  {
   "cell_type": "code",
   "execution_count": 54,
   "id": "325e7e78",
   "metadata": {},
   "outputs": [],
   "source": [
    "model = api.ols(\"income_binary ~ education + C(gender,Treatment(reference='male')) + C(ethnicity,Treatment(reference='other')) + urban + unemp\", df)\n",
    "result = model.fit()"
   ]
  },
  {
   "cell_type": "code",
   "execution_count": 55,
   "id": "bd33a481",
   "metadata": {},
   "outputs": [
    {
     "data": {
      "text/html": [
       "<table class=\"simpletable\">\n",
       "<caption>OLS Regression Results</caption>\n",
       "<tr>\n",
       "  <th>Dep. Variable:</th>      <td>income_binary</td>  <th>  R-squared:         </th> <td>   0.083</td>\n",
       "</tr>\n",
       "<tr>\n",
       "  <th>Model:</th>                   <td>OLS</td>       <th>  Adj. R-squared:    </th> <td>   0.082</td>\n",
       "</tr>\n",
       "<tr>\n",
       "  <th>Method:</th>             <td>Least Squares</td>  <th>  F-statistic:       </th> <td>   71.34</td>\n",
       "</tr>\n",
       "<tr>\n",
       "  <th>Date:</th>             <td>Tue, 15 Mar 2022</td> <th>  Prob (F-statistic):</th> <td>2.00e-85</td>\n",
       "</tr>\n",
       "<tr>\n",
       "  <th>Time:</th>                 <td>09:51:02</td>     <th>  Log-Likelihood:    </th> <td> -2764.9</td>\n",
       "</tr>\n",
       "<tr>\n",
       "  <th>No. Observations:</th>      <td>  4739</td>      <th>  AIC:               </th> <td>   5544.</td>\n",
       "</tr>\n",
       "<tr>\n",
       "  <th>Df Residuals:</th>          <td>  4732</td>      <th>  BIC:               </th> <td>   5589.</td>\n",
       "</tr>\n",
       "<tr>\n",
       "  <th>Df Model:</th>              <td>     6</td>      <th>                     </th>     <td> </td>   \n",
       "</tr>\n",
       "<tr>\n",
       "  <th>Covariance Type:</th>      <td>nonrobust</td>    <th>                     </th>     <td> </td>   \n",
       "</tr>\n",
       "</table>\n",
       "<table class=\"simpletable\">\n",
       "<tr>\n",
       "                             <td></td>                               <th>coef</th>     <th>std err</th>      <th>t</th>      <th>P>|t|</th>  <th>[0.025</th>    <th>0.975]</th>  \n",
       "</tr>\n",
       "<tr>\n",
       "  <th>Intercept</th>                                              <td>   -0.2433</td> <td>    0.054</td> <td>   -4.528</td> <td> 0.000</td> <td>   -0.349</td> <td>   -0.138</td>\n",
       "</tr>\n",
       "<tr>\n",
       "  <th>C(gender, Treatment(reference='male'))[T.female]</th>       <td>   -0.0490</td> <td>    0.013</td> <td>   -3.861</td> <td> 0.000</td> <td>   -0.074</td> <td>   -0.024</td>\n",
       "</tr>\n",
       "<tr>\n",
       "  <th>C(ethnicity, Treatment(reference='other'))[T.afam]</th>     <td>   -0.1235</td> <td>    0.018</td> <td>   -6.920</td> <td> 0.000</td> <td>   -0.159</td> <td>   -0.089</td>\n",
       "</tr>\n",
       "<tr>\n",
       "  <th>C(ethnicity, Treatment(reference='other'))[T.hispanic]</th> <td>   -0.1532</td> <td>    0.017</td> <td>   -9.197</td> <td> 0.000</td> <td>   -0.186</td> <td>   -0.121</td>\n",
       "</tr>\n",
       "<tr>\n",
       "  <th>urban[T.yes]</th>                                           <td>   -0.0470</td> <td>    0.015</td> <td>   -3.073</td> <td> 0.002</td> <td>   -0.077</td> <td>   -0.017</td>\n",
       "</tr>\n",
       "<tr>\n",
       "  <th>education</th>                                              <td>    0.0511</td> <td>    0.004</td> <td>   14.422</td> <td> 0.000</td> <td>    0.044</td> <td>    0.058</td>\n",
       "</tr>\n",
       "<tr>\n",
       "  <th>unemp</th>                                                  <td>   -0.0115</td> <td>    0.002</td> <td>   -5.006</td> <td> 0.000</td> <td>   -0.016</td> <td>   -0.007</td>\n",
       "</tr>\n",
       "</table>\n",
       "<table class=\"simpletable\">\n",
       "<tr>\n",
       "  <th>Omnibus:</th>       <td>1212.294</td> <th>  Durbin-Watson:     </th> <td>   1.836</td> \n",
       "</tr>\n",
       "<tr>\n",
       "  <th>Prob(Omnibus):</th>  <td> 0.000</td>  <th>  Jarque-Bera (JB):  </th> <td> 697.989</td> \n",
       "</tr>\n",
       "<tr>\n",
       "  <th>Skew:</th>           <td> 0.813</td>  <th>  Prob(JB):          </th> <td>2.71e-152</td>\n",
       "</tr>\n",
       "<tr>\n",
       "  <th>Kurtosis:</th>       <td> 2.055</td>  <th>  Cond. No.          </th> <td>    136.</td> \n",
       "</tr>\n",
       "</table><br/><br/>Notes:<br/>[1] Standard Errors assume that the covariance matrix of the errors is correctly specified."
      ],
      "text/plain": [
       "<class 'statsmodels.iolib.summary.Summary'>\n",
       "\"\"\"\n",
       "                            OLS Regression Results                            \n",
       "==============================================================================\n",
       "Dep. Variable:          income_binary   R-squared:                       0.083\n",
       "Model:                            OLS   Adj. R-squared:                  0.082\n",
       "Method:                 Least Squares   F-statistic:                     71.34\n",
       "Date:                Tue, 15 Mar 2022   Prob (F-statistic):           2.00e-85\n",
       "Time:                        09:51:02   Log-Likelihood:                -2764.9\n",
       "No. Observations:                4739   AIC:                             5544.\n",
       "Df Residuals:                    4732   BIC:                             5589.\n",
       "Df Model:                           6                                         \n",
       "Covariance Type:            nonrobust                                         \n",
       "==========================================================================================================================\n",
       "                                                             coef    std err          t      P>|t|      [0.025      0.975]\n",
       "--------------------------------------------------------------------------------------------------------------------------\n",
       "Intercept                                                 -0.2433      0.054     -4.528      0.000      -0.349      -0.138\n",
       "C(gender, Treatment(reference='male'))[T.female]          -0.0490      0.013     -3.861      0.000      -0.074      -0.024\n",
       "C(ethnicity, Treatment(reference='other'))[T.afam]        -0.1235      0.018     -6.920      0.000      -0.159      -0.089\n",
       "C(ethnicity, Treatment(reference='other'))[T.hispanic]    -0.1532      0.017     -9.197      0.000      -0.186      -0.121\n",
       "urban[T.yes]                                              -0.0470      0.015     -3.073      0.002      -0.077      -0.017\n",
       "education                                                  0.0511      0.004     14.422      0.000       0.044       0.058\n",
       "unemp                                                     -0.0115      0.002     -5.006      0.000      -0.016      -0.007\n",
       "==============================================================================\n",
       "Omnibus:                     1212.294   Durbin-Watson:                   1.836\n",
       "Prob(Omnibus):                  0.000   Jarque-Bera (JB):              697.989\n",
       "Skew:                           0.813   Prob(JB):                    2.71e-152\n",
       "Kurtosis:                       2.055   Cond. No.                         136.\n",
       "==============================================================================\n",
       "\n",
       "Notes:\n",
       "[1] Standard Errors assume that the covariance matrix of the errors is correctly specified.\n",
       "\"\"\""
      ]
     },
     "execution_count": 55,
     "metadata": {},
     "output_type": "execute_result"
    }
   ],
   "source": [
    "result.summary()"
   ]
  },
  {
   "cell_type": "markdown",
   "id": "2fbb99cb",
   "metadata": {},
   "source": [
    "__Comment the results and explain the selection problem__"
   ]
  },
  {
   "cell_type": "markdown",
   "id": "ced8d847",
   "metadata": {},
   "source": [
    "All coefficients are significant at the 1% level. \n",
    "Prediction power is higher : R^2 about 8%."
   ]
  },
  {
   "cell_type": "markdown",
   "id": "7ef245e7",
   "metadata": {},
   "source": [
    "__Explain why distance to college might be used to instrument the effect of schooling.__"
   ]
  },
  {
   "cell_type": "markdown",
   "id": "b032b1a3",
   "metadata": {},
   "source": [
    "We need an instrument that:\n",
    "\n",
    "- is correlated with schooling: \n",
    "    - distance to college affects chances to go to university hence schooling\n",
    "- independent from other factors (gender, ethnicity, ...)\n",
    "    \n",
    "The effect of \"distance to college\" on income, is only through its effect on education."
   ]
  },
  {
   "cell_type": "markdown",
   "id": "1f08a5b4",
   "metadata": {},
   "source": [
    "__Run an IV regression, where `distance` is used to instrument schooling.__"
   ]
  },
  {
   "cell_type": "markdown",
   "id": "7ee16e5c",
   "metadata": {},
   "source": [
    "look at: \n",
    "    https://bashtage.github.io/linearmodels/\n",
    "   (two-stage least squares)"
   ]
  },
  {
   "cell_type": "code",
   "execution_count": null,
   "id": "5a025286",
   "metadata": {},
   "outputs": [],
   "source": [
    "# remember that linearmodels does not include constants by default\n",
    "# we take the same formula and add the constant"
   ]
  },
  {
   "cell_type": "code",
   "execution_count": 62,
   "id": "49e6c26a",
   "metadata": {},
   "outputs": [
    {
     "data": {
      "text/html": [
       "<table class=\"simpletable\">\n",
       "<caption>IV-2SLS Estimation Summary</caption>\n",
       "<tr>\n",
       "  <th>Dep. Variable:</th>      <td>income_binary</td>  <th>  R-squared:         </th> <td>-0.2734</td>\n",
       "</tr>\n",
       "<tr>\n",
       "  <th>Estimator:</th>             <td>IV-2SLS</td>     <th>  Adj. R-squared:    </th> <td>-0.2750</td>\n",
       "</tr>\n",
       "<tr>\n",
       "  <th>No. Observations:</th>       <td>4739</td>       <th>  F-statistic:       </th> <td>213.68</td> \n",
       "</tr>\n",
       "<tr>\n",
       "  <th>Date:</th>             <td>Tue, Mar 15 2022</td> <th>  P-value (F-stat)   </th> <td>0.0000</td> \n",
       "</tr>\n",
       "<tr>\n",
       "  <th>Time:</th>                 <td>10:12:51</td>     <th>  Distribution:      </th> <td>chi2(6)</td>\n",
       "</tr>\n",
       "<tr>\n",
       "  <th>Cov. Estimator:</th>        <td>robust</td>      <th>                     </th>    <td></td>    \n",
       "</tr>\n",
       "<tr>\n",
       "  <th></th>                          <td></td>         <th>                     </th>    <td></td>    \n",
       "</tr>\n",
       "</table>\n",
       "<table class=\"simpletable\">\n",
       "<caption>Parameter Estimates</caption>\n",
       "<tr>\n",
       "                             <td></td>                            <th>Parameter</th> <th>Std. Err.</th> <th>T-stat</th>  <th>P-value</th> <th>Lower CI</th> <th>Upper CI</th>\n",
       "</tr>\n",
       "<tr>\n",
       "  <th>Intercept</th>                                               <td>-2.3763</td>   <td>0.5316</td>   <td>-4.4699</td> <td>0.0000</td>   <td>-3.4182</td>  <td>-1.3343</td>\n",
       "</tr>\n",
       "<tr>\n",
       "  <th>C(gender, Treatment(reference='male'))[T.female]</th>        <td>-0.0456</td>   <td>0.0150</td>   <td>-3.0301</td> <td>0.0024</td>   <td>-0.0750</td>  <td>-0.0161</td>\n",
       "</tr>\n",
       "<tr>\n",
       "  <th>C(ethnicity, Treatment(reference='other'))[T.afam]</th>      <td>-0.0456</td>   <td>0.0283</td>   <td>-1.6123</td> <td>0.1069</td>   <td>-0.1011</td>  <td>0.0098</td> \n",
       "</tr>\n",
       "<tr>\n",
       "  <th>C(ethnicity, Treatment(reference='other'))[T.hispanic]</th>  <td>-0.1075</td>   <td>0.0223</td>   <td>-4.8322</td> <td>0.0000</td>   <td>-0.1511</td>  <td>-0.0639</td>\n",
       "</tr>\n",
       "<tr>\n",
       "  <th>urban[T.yes]</th>                                            <td>-0.0527</td>   <td>0.0182</td>   <td>-2.8947</td> <td>0.0038</td>   <td>-0.0884</td>  <td>-0.0170</td>\n",
       "</tr>\n",
       "<tr>\n",
       "  <th>unemp</th>                                                   <td>-0.0101</td>   <td>0.0027</td>   <td>-3.7771</td> <td>0.0002</td>   <td>-0.0153</td>  <td>-0.0048</td>\n",
       "</tr>\n",
       "<tr>\n",
       "  <th>education</th>                                               <td>0.2032</td>    <td>0.0378</td>   <td>5.3800</td>  <td>0.0000</td>   <td>0.1292</td>   <td>0.2773</td> \n",
       "</tr>\n",
       "</table><br/><br/>Endogenous: education<br/>Instruments: distance<br/>Robust Covariance (Heteroskedastic)<br/>Debiased: False<br/>id: 0x7f3f2323f0d0"
      ],
      "text/plain": [
       "                          IV-2SLS Estimation Summary                          \n",
       "==============================================================================\n",
       "Dep. Variable:          income_binary   R-squared:                     -0.2734\n",
       "Estimator:                    IV-2SLS   Adj. R-squared:                -0.2750\n",
       "No. Observations:                4739   F-statistic:                    213.68\n",
       "Date:                Tue, Mar 15 2022   P-value (F-stat)                0.0000\n",
       "Time:                        10:12:51   Distribution:                  chi2(6)\n",
       "Cov. Estimator:                robust                                         \n",
       "                                                                              \n",
       "                                                   Parameter Estimates                                                    \n",
       "==========================================================================================================================\n",
       "                                                        Parameter  Std. Err.     T-stat    P-value    Lower CI    Upper CI\n",
       "--------------------------------------------------------------------------------------------------------------------------\n",
       "Intercept                                                 -2.3763     0.5316    -4.4699     0.0000     -3.4182     -1.3343\n",
       "C(gender, Treatment(reference='male'))[T.female]          -0.0456     0.0150    -3.0301     0.0024     -0.0750     -0.0161\n",
       "C(ethnicity, Treatment(reference='other'))[T.afam]        -0.0456     0.0283    -1.6123     0.1069     -0.1011      0.0098\n",
       "C(ethnicity, Treatment(reference='other'))[T.hispanic]    -0.1075     0.0223    -4.8322     0.0000     -0.1511     -0.0639\n",
       "urban[T.yes]                                              -0.0527     0.0182    -2.8947     0.0038     -0.0884     -0.0170\n",
       "unemp                                                     -0.0101     0.0027    -3.7771     0.0002     -0.0153     -0.0048\n",
       "education                                                  0.2032     0.0378     5.3800     0.0000      0.1292      0.2773\n",
       "==========================================================================================================================\n",
       "\n",
       "Endogenous: education\n",
       "Instruments: distance\n",
       "Robust Covariance (Heteroskedastic)\n",
       "Debiased: False\n",
       "IVResults, id: 0x7f3f2323f0d0"
      ]
     },
     "execution_count": 62,
     "metadata": {},
     "output_type": "execute_result"
    }
   ],
   "source": [
    "from linearmodels import IV2SLS\n",
    "formula = (\n",
    "\"income_binary ~ 1 + [education~distance] + C(gender,Treatment(reference='male')) + C(ethnicity,Treatment(reference='other')) + urban + unemp\"\n",
    ")\n",
    "mod = IV2SLS.from_formula(formula, df)\n",
    "res = mod.fit()\n",
    "res"
   ]
  },
  {
   "cell_type": "markdown",
   "id": "e10cebf1",
   "metadata": {},
   "source": [
    "__Comment the results. Compare with the R tutorials.__"
   ]
  },
  {
   "cell_type": "markdown",
   "id": "3319e178",
   "metadata": {},
   "source": [
    "R^2 is negative, but we can't compare it with the non-IV regression."
   ]
  },
  {
   "cell_type": "markdown",
   "id": "bdee8852",
   "metadata": {},
   "source": [
    "All coefficients are significant at the 1% level, save for ethnicity (for category \"afam\").\n",
    "With the instrumentation strategy, the effect of education on salary, is 4 times higher than without it."
   ]
  },
  {
   "cell_type": "code",
   "execution_count": null,
   "id": "4d131e8d",
   "metadata": {},
   "outputs": [],
   "source": []
  }
 ],
 "metadata": {
  "kernelspec": {
   "display_name": "Python 3",
   "language": "python",
   "name": "python3"
  },
  "language_info": {
   "codemirror_mode": {
    "name": "ipython",
    "version": 3
   },
   "file_extension": ".py",
   "mimetype": "text/x-python",
   "name": "python",
   "nbconvert_exporter": "python",
   "pygments_lexer": "ipython3",
   "version": "3.8.3"
  }
 },
 "nbformat": 4,
 "nbformat_minor": 5
}
