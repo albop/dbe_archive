{
 "cells": [
  {
   "cell_type": "code",
   "execution_count": 2,
   "id": "fd09924e-8c0b-4d93-a5d5-af29fd1e7595",
   "metadata": {},
   "outputs": [],
   "source": [
    "import pandas as pd"
   ]
  },
  {
   "cell_type": "code",
   "execution_count": 3,
   "id": "d974773f-72ba-4ec0-b9c1-4d0d9355ca86",
   "metadata": {},
   "outputs": [
    {
     "data": {
      "text/plain": [
       "136"
      ]
     },
     "execution_count": 3,
     "metadata": {},
     "output_type": "execute_result"
    }
   ],
   "source": [
    "txt = \"\"\"year;country;measure\n",
    "2018;\"france\";950.0\n",
    "2019;\"france\";960.0\n",
    "2020;\"france\";1000.0\n",
    "2018;\"usa\";2500.0\n",
    "2019;\"usa\";2150.0\n",
    "2020;\"usa\";2300.0\n",
    "\"\"\"\n",
    "open('annoying_dummy_file.csv','w').write(txt) # we wri"
   ]
  },
  {
   "cell_type": "code",
   "execution_count": null,
   "id": "cc96fbbc-f27e-4e36-8e66-7dd7967c33fe",
   "metadata": {},
   "outputs": [],
   "source": []
  }
 ],
 "metadata": {
  "kernelspec": {
   "display_name": "Python 3 (ipykernel)",
   "language": "python",
   "name": "python3"
  },
  "language_info": {
   "codemirror_mode": {
    "name": "ipython",
    "version": 3
   },
   "file_extension": ".py",
   "mimetype": "text/x-python",
   "name": "python",
   "nbconvert_exporter": "python",
   "pygments_lexer": "ipython3",
   "version": "3.10.6"
  }
 },
 "nbformat": 4,
 "nbformat_minor": 5
}
