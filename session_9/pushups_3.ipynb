{
 "cells": [
  {
   "attachments": {},
   "cell_type": "markdown",
   "id": "egyptian-walter",
   "metadata": {},
   "source": [
    "# Sklearn: sparse regression"
   ]
  },
  {
   "cell_type": "markdown",
   "id": "orange-potter",
   "metadata": {},
   "source": [
    "## Predicting Breast Cancer\n",
    "\n",
    "Sklearn includes the Winsconsin breast cancer database. It associates medical outcomes for tumor observation, with several characteristics. Can a machine learn how to predict whether a cancer is benign or malignant ?"
   ]
  },
  {
   "cell_type": "markdown",
   "id": "beginning-romance",
   "metadata": {},
   "source": [
    "__Import the Breast Cancer Dataset from sklearn. Describe it.__"
   ]
  },
  {
   "cell_type": "code",
   "execution_count": null,
   "id": "e5dd277c",
   "metadata": {},
   "outputs": [],
   "source": []
  },
  {
   "attachments": {},
   "cell_type": "markdown",
   "id": "advanced-separation",
   "metadata": {},
   "source": [
    "__Properly train a linear logistic regression to predict cancer morbidity.__"
   ]
  },
  {
   "cell_type": "code",
   "execution_count": null,
   "id": "2a786e58",
   "metadata": {},
   "outputs": [],
   "source": []
  },
  {
   "cell_type": "markdown",
   "id": "51dd8433",
   "metadata": {},
   "source": [
    "__Use k-fold validation to validate the model__"
   ]
  },
  {
   "cell_type": "code",
   "execution_count": null,
   "id": "09cb1f9f",
   "metadata": {},
   "outputs": [],
   "source": []
  },
  {
   "cell_type": "markdown",
   "id": "variable-drunk",
   "metadata": {},
   "source": [
    "__Try with other classifiers. Which one is best?__"
   ]
  },
  {
   "cell_type": "code",
   "execution_count": null,
   "id": "straight-semiconductor",
   "metadata": {},
   "outputs": [],
   "source": []
  }
 ],
 "metadata": {
  "kernelspec": {
   "display_name": "Python 3",
   "language": "python",
   "name": "python3"
  },
  "language_info": {
   "codemirror_mode": {
    "name": "ipython",
    "version": 3
   },
   "file_extension": ".py",
   "mimetype": "text/x-python",
   "name": "python",
   "nbconvert_exporter": "python",
   "pygments_lexer": "ipython3",
   "version": "3.8.5"
  }
 },
 "nbformat": 4,
 "nbformat_minor": 5
}
