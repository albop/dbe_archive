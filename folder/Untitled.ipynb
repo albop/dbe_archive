{
 "cells": [
  {
   "cell_type": "code",
   "execution_count": 1,
   "id": "fd78364c-ecf5-40f8-b9c0-ba61d5a68f0c",
   "metadata": {},
   "outputs": [],
   "source": [
    "import pandas as pd"
   ]
  },
  {
   "cell_type": "code",
   "execution_count": 2,
   "id": "df8c6a2a-42fe-4d11-a4ed-cd87cc2012ca",
   "metadata": {},
   "outputs": [
    {
     "data": {
      "text/plain": [
       "136"
      ]
     },
     "execution_count": 2,
     "metadata": {},
     "output_type": "execute_result"
    }
   ],
   "source": [
    "txt = \"\"\"year;country;measure\n",
    "2018;\"france\";950.0\n",
    "2019;\"france\";960.0\n",
    "2020;\"france\";1000.0\n",
    "2018;\"usa\";2500.0\n",
    "2019;\"usa\";2150.0\n",
    "2020;\"usa\";2300.0\n",
    "\"\"\"\n",
    "open('annoying_dummy_file.csv','w').write(txt) # we wri"
   ]
  },
  {
   "cell_type": "code",
   "execution_count": 7,
   "id": "ef511a22-35ab-47f6-bc13-c04c022a3fc5",
   "metadata": {},
   "outputs": [],
   "source": [
    "df = pd.read_csv(\"annoying_dummy_file.csv\",sep=\";\")"
   ]
  },
  {
   "cell_type": "code",
   "execution_count": 8,
   "id": "b5ad445a-89c2-4cb6-97d3-2ed8120c6b87",
   "metadata": {},
   "outputs": [
    {
     "data": {
      "text/html": [
       "<div>\n",
       "<style scoped>\n",
       "    .dataframe tbody tr th:only-of-type {\n",
       "        vertical-align: middle;\n",
       "    }\n",
       "\n",
       "    .dataframe tbody tr th {\n",
       "        vertical-align: top;\n",
       "    }\n",
       "\n",
       "    .dataframe thead th {\n",
       "        text-align: right;\n",
       "    }\n",
       "</style>\n",
       "<table border=\"1\" class=\"dataframe\">\n",
       "  <thead>\n",
       "    <tr style=\"text-align: right;\">\n",
       "      <th></th>\n",
       "      <th>year</th>\n",
       "      <th>country</th>\n",
       "      <th>measure</th>\n",
       "    </tr>\n",
       "  </thead>\n",
       "  <tbody>\n",
       "    <tr>\n",
       "      <th>0</th>\n",
       "      <td>2018</td>\n",
       "      <td>france</td>\n",
       "      <td>950.0</td>\n",
       "    </tr>\n",
       "    <tr>\n",
       "      <th>1</th>\n",
       "      <td>2019</td>\n",
       "      <td>france</td>\n",
       "      <td>960.0</td>\n",
       "    </tr>\n",
       "    <tr>\n",
       "      <th>2</th>\n",
       "      <td>2020</td>\n",
       "      <td>france</td>\n",
       "      <td>1000.0</td>\n",
       "    </tr>\n",
       "    <tr>\n",
       "      <th>3</th>\n",
       "      <td>2018</td>\n",
       "      <td>usa</td>\n",
       "      <td>2500.0</td>\n",
       "    </tr>\n",
       "    <tr>\n",
       "      <th>4</th>\n",
       "      <td>2019</td>\n",
       "      <td>usa</td>\n",
       "      <td>2150.0</td>\n",
       "    </tr>\n",
       "    <tr>\n",
       "      <th>5</th>\n",
       "      <td>2020</td>\n",
       "      <td>usa</td>\n",
       "      <td>2300.0</td>\n",
       "    </tr>\n",
       "  </tbody>\n",
       "</table>\n",
       "</div>"
      ],
      "text/plain": [
       "   year country  measure\n",
       "0  2018  france    950.0\n",
       "1  2019  france    960.0\n",
       "2  2020  france   1000.0\n",
       "3  2018     usa   2500.0\n",
       "4  2019     usa   2150.0\n",
       "5  2020     usa   2300.0"
      ]
     },
     "execution_count": 8,
     "metadata": {},
     "output_type": "execute_result"
    }
   ],
   "source": [
    "df"
   ]
  },
  {
   "cell_type": "code",
   "execution_count": 10,
   "id": "c1fffc73-2353-453c-ba92-994da55b6376",
   "metadata": {},
   "outputs": [
    {
     "name": "stdout",
     "output_type": "stream",
     "text": [
      "Collecting vega_datasets\n",
      "  Downloading vega_datasets-0.9.0-py3-none-any.whl (210 kB)\n",
      "\u001b[2K     \u001b[38;2;114;156;31m━━━━━━━━━━━━━━━━━━━━━━━━━━━━━━━━━━━━━━━\u001b[0m \u001b[32m210.8/210.8 kB\u001b[0m \u001b[31m5.5 MB/s\u001b[0m eta \u001b[36m0:00:00\u001b[0m[31m8.6 MB/s\u001b[0m eta \u001b[36m0:00:01\u001b[0m\n",
      "\u001b[?25hRequirement already satisfied: pandas in /home/pablo/.local/opt/mambaforge/lib/python3.10/site-packages (from vega_datasets) (1.4.4)\n",
      "Requirement already satisfied: python-dateutil>=2.8.1 in /home/pablo/.local/opt/mambaforge/lib/python3.10/site-packages (from pandas->vega_datasets) (2.8.2)\n",
      "Requirement already satisfied: pytz>=2020.1 in /home/pablo/.local/opt/mambaforge/lib/python3.10/site-packages (from pandas->vega_datasets) (2022.2.1)\n",
      "Requirement already satisfied: numpy>=1.21.0 in /home/pablo/.local/opt/mambaforge/lib/python3.10/site-packages (from pandas->vega_datasets) (1.22.4)\n",
      "Requirement already satisfied: six>=1.5 in /home/pablo/.local/opt/mambaforge/lib/python3.10/site-packages (from python-dateutil>=2.8.1->pandas->vega_datasets) (1.16.0)\n",
      "Installing collected packages: vega_datasets\n",
      "Successfully installed vega_datasets-0.9.0\n"
     ]
    }
   ],
   "source": [
    "!pip install vega_datasets"
   ]
  },
  {
   "cell_type": "code",
   "execution_count": 11,
   "id": "a071588b-4e2c-46fe-ac3d-d9581bd35c66",
   "metadata": {},
   "outputs": [
    {
     "data": {
      "text/html": [
       "<div>\n",
       "<style scoped>\n",
       "    .dataframe tbody tr th:only-of-type {\n",
       "        vertical-align: middle;\n",
       "    }\n",
       "\n",
       "    .dataframe tbody tr th {\n",
       "        vertical-align: top;\n",
       "    }\n",
       "\n",
       "    .dataframe thead th {\n",
       "        text-align: right;\n",
       "    }\n",
       "</style>\n",
       "<table border=\"1\" class=\"dataframe\">\n",
       "  <thead>\n",
       "    <tr style=\"text-align: right;\">\n",
       "      <th></th>\n",
       "      <th>sepalLength</th>\n",
       "      <th>sepalWidth</th>\n",
       "      <th>petalLength</th>\n",
       "      <th>petalWidth</th>\n",
       "      <th>species</th>\n",
       "    </tr>\n",
       "  </thead>\n",
       "  <tbody>\n",
       "    <tr>\n",
       "      <th>0</th>\n",
       "      <td>5.1</td>\n",
       "      <td>3.5</td>\n",
       "      <td>1.4</td>\n",
       "      <td>0.2</td>\n",
       "      <td>setosa</td>\n",
       "    </tr>\n",
       "    <tr>\n",
       "      <th>1</th>\n",
       "      <td>4.9</td>\n",
       "      <td>3.0</td>\n",
       "      <td>1.4</td>\n",
       "      <td>0.2</td>\n",
       "      <td>setosa</td>\n",
       "    </tr>\n",
       "    <tr>\n",
       "      <th>2</th>\n",
       "      <td>4.7</td>\n",
       "      <td>3.2</td>\n",
       "      <td>1.3</td>\n",
       "      <td>0.2</td>\n",
       "      <td>setosa</td>\n",
       "    </tr>\n",
       "    <tr>\n",
       "      <th>3</th>\n",
       "      <td>4.6</td>\n",
       "      <td>3.1</td>\n",
       "      <td>1.5</td>\n",
       "      <td>0.2</td>\n",
       "      <td>setosa</td>\n",
       "    </tr>\n",
       "    <tr>\n",
       "      <th>4</th>\n",
       "      <td>5.0</td>\n",
       "      <td>3.6</td>\n",
       "      <td>1.4</td>\n",
       "      <td>0.2</td>\n",
       "      <td>setosa</td>\n",
       "    </tr>\n",
       "    <tr>\n",
       "      <th>...</th>\n",
       "      <td>...</td>\n",
       "      <td>...</td>\n",
       "      <td>...</td>\n",
       "      <td>...</td>\n",
       "      <td>...</td>\n",
       "    </tr>\n",
       "    <tr>\n",
       "      <th>145</th>\n",
       "      <td>6.7</td>\n",
       "      <td>3.0</td>\n",
       "      <td>5.2</td>\n",
       "      <td>2.3</td>\n",
       "      <td>virginica</td>\n",
       "    </tr>\n",
       "    <tr>\n",
       "      <th>146</th>\n",
       "      <td>6.3</td>\n",
       "      <td>2.5</td>\n",
       "      <td>5.0</td>\n",
       "      <td>1.9</td>\n",
       "      <td>virginica</td>\n",
       "    </tr>\n",
       "    <tr>\n",
       "      <th>147</th>\n",
       "      <td>6.5</td>\n",
       "      <td>3.0</td>\n",
       "      <td>5.2</td>\n",
       "      <td>2.0</td>\n",
       "      <td>virginica</td>\n",
       "    </tr>\n",
       "    <tr>\n",
       "      <th>148</th>\n",
       "      <td>6.2</td>\n",
       "      <td>3.4</td>\n",
       "      <td>5.4</td>\n",
       "      <td>2.3</td>\n",
       "      <td>virginica</td>\n",
       "    </tr>\n",
       "    <tr>\n",
       "      <th>149</th>\n",
       "      <td>5.9</td>\n",
       "      <td>3.0</td>\n",
       "      <td>5.1</td>\n",
       "      <td>1.8</td>\n",
       "      <td>virginica</td>\n",
       "    </tr>\n",
       "  </tbody>\n",
       "</table>\n",
       "<p>150 rows × 5 columns</p>\n",
       "</div>"
      ],
      "text/plain": [
       "     sepalLength  sepalWidth  petalLength  petalWidth    species\n",
       "0            5.1         3.5          1.4         0.2     setosa\n",
       "1            4.9         3.0          1.4         0.2     setosa\n",
       "2            4.7         3.2          1.3         0.2     setosa\n",
       "3            4.6         3.1          1.5         0.2     setosa\n",
       "4            5.0         3.6          1.4         0.2     setosa\n",
       "..           ...         ...          ...         ...        ...\n",
       "145          6.7         3.0          5.2         2.3  virginica\n",
       "146          6.3         2.5          5.0         1.9  virginica\n",
       "147          6.5         3.0          5.2         2.0  virginica\n",
       "148          6.2         3.4          5.4         2.3  virginica\n",
       "149          5.9         3.0          5.1         1.8  virginica\n",
       "\n",
       "[150 rows x 5 columns]"
      ]
     },
     "execution_count": 11,
     "metadata": {},
     "output_type": "execute_result"
    }
   ],
   "source": [
    "import vega_datasets\n",
    "df = vega_datasets.data('iris')\n",
    "df"
   ]
  },
  {
   "cell_type": "code",
   "execution_count": 13,
   "id": "cfea5519-290a-4307-83e1-16fb8b03b28d",
   "metadata": {},
   "outputs": [
    {
     "name": "stdout",
     "output_type": "stream",
     "text": [
      "Collecting dbnomics\n",
      "  Downloading DBnomics-1.2.3-py3-none-any.whl (20 kB)\n",
      "Requirement already satisfied: requests>=2.18.4 in /home/pablo/.local/opt/mambaforge/lib/python3.10/site-packages (from dbnomics) (2.28.1)\n",
      "Requirement already satisfied: pandas>=0.21 in /home/pablo/.local/opt/mambaforge/lib/python3.10/site-packages (from dbnomics) (1.4.4)\n",
      "Requirement already satisfied: python-dateutil>=2.8.1 in /home/pablo/.local/opt/mambaforge/lib/python3.10/site-packages (from pandas>=0.21->dbnomics) (2.8.2)\n",
      "Requirement already satisfied: pytz>=2020.1 in /home/pablo/.local/opt/mambaforge/lib/python3.10/site-packages (from pandas>=0.21->dbnomics) (2022.2.1)\n",
      "Requirement already satisfied: numpy>=1.21.0 in /home/pablo/.local/opt/mambaforge/lib/python3.10/site-packages (from pandas>=0.21->dbnomics) (1.22.4)\n",
      "Requirement already satisfied: charset-normalizer<3,>=2 in /home/pablo/.local/opt/mambaforge/lib/python3.10/site-packages (from requests>=2.18.4->dbnomics) (2.1.1)\n",
      "Requirement already satisfied: urllib3<1.27,>=1.21.1 in /home/pablo/.local/opt/mambaforge/lib/python3.10/site-packages (from requests>=2.18.4->dbnomics) (1.26.11)\n",
      "Requirement already satisfied: idna<4,>=2.5 in /home/pablo/.local/opt/mambaforge/lib/python3.10/site-packages (from requests>=2.18.4->dbnomics) (3.3)\n",
      "Requirement already satisfied: certifi>=2017.4.17 in /home/pablo/.local/opt/mambaforge/lib/python3.10/site-packages (from requests>=2.18.4->dbnomics) (2022.9.24)\n",
      "Requirement already satisfied: six>=1.5 in /home/pablo/.local/opt/mambaforge/lib/python3.10/site-packages (from python-dateutil>=2.8.1->pandas>=0.21->dbnomics) (1.16.0)\n",
      "Installing collected packages: dbnomics\n",
      "Successfully installed dbnomics-1.2.3\n"
     ]
    }
   ],
   "source": [
    "!pip install dbnomics"
   ]
  },
  {
   "cell_type": "code",
   "execution_count": 14,
   "id": "c958c2b9-2e93-4989-bc05-1e1a5bb97e4f",
   "metadata": {},
   "outputs": [],
   "source": [
    "import dbnomics"
   ]
  },
  {
   "cell_type": "code",
   "execution_count": 16,
   "id": "282f731c-5b25-4c43-940a-7c44ffd563e5",
   "metadata": {},
   "outputs": [],
   "source": [
    "df = dbnomics.fetch_series(\"OECD/MEI/FRA.CPALTT01.CTGY.M\")"
   ]
  },
  {
   "cell_type": "code",
   "execution_count": 22,
   "id": "87b2ab41-dcaf-4adf-a077-2e3b373eabc4",
   "metadata": {},
   "outputs": [
    {
     "data": {
      "text/plain": [
       "<AxesSubplot: >"
      ]
     },
     "execution_count": 22,
     "metadata": {},
     "output_type": "execute_result"
    },
    {
     "data": {
      "image/png": "[encoded data removed]",
      "text/plain": [
       "<Figure size 640x480 with 1 Axes>"
      ]
     },
     "metadata": {},
     "output_type": "display_data"
    }
   ],
   "source": [
    "df['value'].plot()"
   ]
  },
  {
   "cell_type": "code",
   "execution_count": null,
   "id": "cad8b787-63f7-4bbd-8637-0bb71ce4a1f9",
   "metadata": {},
   "outputs": [],
   "source": []
  }
 ],
 "metadata": {
  "kernelspec": {
   "display_name": "Python 3 (ipykernel)",
   "language": "python",
   "name": "python3"
  },
  "language_info": {
   "codemirror_mode": {
    "name": "ipython",
    "version": 3
   },
   "file_extension": ".py",
   "mimetype": "text/x-python",
   "name": "python",
   "nbconvert_exporter": "python",
   "pygments_lexer": "ipython3",
   "version": "3.10.6"
  }
 },
 "nbformat": 4,
 "nbformat_minor": 5
}
