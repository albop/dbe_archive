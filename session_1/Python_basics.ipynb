{
 "cells": [
  {
   "cell_type": "markdown",
   "metadata": {
    "slideshow": {
     "slide_type": "slide"
    }
   },
   "source": [
    "# Introduction to Python\n",
    "\n",
    "![](just_google_it.jpg)"
   ]
  },
  {
   "cell_type": "markdown",
   "metadata": {
    "slideshow": {
     "slide_type": "slide"
    }
   },
   "source": [
    "## Set-up"
   ]
  },
  {
   "cell_type": "markdown",
   "metadata": {
    "slideshow": {
     "slide_type": "fragment"
    }
   },
   "source": [
    "To run this tutorial you need a version of Python greater than 3.6."
   ]
  },
  {
   "cell_type": "markdown",
   "metadata": {
    "slideshow": {
     "slide_type": "fragment"
    }
   },
   "source": [
    "If you use your own computer, I recommend downloading Anaconda Python https://www.anaconda.com/distribution/. Anaconda is a package manager, which allows to install many python libraries as well as a few useful binary dependencies which are complicated to install otherwise. When installing anaconda make sure you install it in user space, so that you can later install and update libraries without admin rights."
   ]
  },
  {
   "cell_type": "markdown",
   "metadata": {},
   "source": [
    "### Jupyter Notebook\n",
    "\n",
    "Jupyter Notebook have become the standard for literate programming (i.e. mix code and program). They need a special server to be run. You can run one locally (Jupyter Lab) or use an online one (Colab). If you use VSCode and open a notebook it will launch a server for you.\n",
    "\n",
    "Once a notebook is open, you can execute a cell and move to the next one by pressing shift+Enter. Results are printed below each cell."
   ]
  },
  {
   "cell_type": "markdown",
   "metadata": {
    "slideshow": {
     "slide_type": "slide"
    }
   },
   "source": [
    "### Intepreter / Python script\n",
    "\n",
    "Type `python` in a console or terminal. You get an interactive prompt, where you can evaluate any expression. If it is installed, you can use a nicer, interactive prompt: `ipython`.\n",
    "\n",
    "It is possible to run python programs in a non-interactive way from the command line. Just type `python` followed by the file (ending in `.py`) that you want to run.\n",
    "\n",
    "Python scripts can be edited using any text editor. If you don't have strong views, I recommend Visual Studio Code."
   ]
  },
  {
   "cell_type": "markdown",
   "metadata": {
    "slideshow": {
     "slide_type": "slide"
    }
   },
   "source": [
    "## Basic Types"
   ]
  },
  {
   "cell_type": "markdown",
   "metadata": {},
   "source": [
    "### numbers"
   ]
  },
  {
   "cell_type": "code",
   "execution_count": null,
   "metadata": {},
   "outputs": [],
   "source": [
    "# integers and floats"
   ]
  },
  {
   "cell_type": "code",
   "execution_count": null,
   "metadata": {},
   "outputs": [],
   "source": [
    "1"
   ]
  },
  {
   "cell_type": "code",
   "execution_count": null,
   "metadata": {},
   "outputs": [],
   "source": [
    "1.0"
   ]
  },
  {
   "cell_type": "code",
   "execution_count": null,
   "metadata": {},
   "outputs": [],
   "source": [
    "# conversion with int() and float()\n"
   ]
  },
  {
   "cell_type": "code",
   "execution_count": null,
   "metadata": {},
   "outputs": [],
   "source": [
    "# floor: int()"
   ]
  },
  {
   "cell_type": "code",
   "execution_count": null,
   "metadata": {},
   "outputs": [],
   "source": [
    "# no difference between various types of floats (16 bits, 32 bits, 64 bits, ...)"
   ]
  },
  {
   "cell_type": "code",
   "execution_count": null,
   "metadata": {},
   "outputs": [],
   "source": [
    "# usual operations + - *\n",
    "print( 2 + 3 )\n",
    "print( 9 - 6 )\n",
    "print( 3 / 2 )\n",
    "print(2304310958 * 41324)"
   ]
  },
  {
   "cell_type": "code",
   "execution_count": null,
   "metadata": {},
   "outputs": [],
   "source": [
    "# divisions / and //\n",
    "print(3 / 4)\n",
    "print(13 // 4)"
   ]
  },
  {
   "cell_type": "code",
   "execution_count": null,
   "metadata": {},
   "outputs": [],
   "source": [
    "# exponentiation ** (not ^!)\n",
    "# (1.04)^10\n",
    "(1.04)**10"
   ]
  },
  {
   "cell_type": "code",
   "execution_count": null,
   "metadata": {},
   "outputs": [],
   "source": [
    "# comparison operators: >, <, >=, <=, ==\n",
    "\n",
    "print((1.0453432)*(0.96)  > 1.001 )\n",
    "\n",
    "print(1.001 >= 1.001)"
   ]
  },
  {
   "cell_type": "code",
   "execution_count": null,
   "metadata": {},
   "outputs": [],
   "source": [
    "# comparison operators can be chained:\n",
    "print(0.2<0.4<0.5)\n",
    "print(0.5<=0.4<=0.5) # equivalent to ((0.5<=0.4) and(0.4<=0.5))"
   ]
  },
  {
   "cell_type": "markdown",
   "metadata": {},
   "source": [
    "### special types: boolean and None\n",
    "\n",
    "There are only two booleans: `True` and `False` (note uppercase). `None` is a dummy type, which is used when no other type fits."
   ]
  },
  {
   "cell_type": "code",
   "execution_count": null,
   "metadata": {},
   "outputs": [],
   "source": [
    "print( False )\n",
    "True"
   ]
  },
  {
   "cell_type": "code",
   "execution_count": null,
   "metadata": {},
   "outputs": [],
   "source": [
    "(True, False, None)"
   ]
  },
  {
   "cell_type": "code",
   "execution_count": null,
   "metadata": {},
   "outputs": [],
   "source": [
    "None"
   ]
  },
  {
   "cell_type": "markdown",
   "metadata": {},
   "source": [
    "Double equal sign tests for equality. Result should always be a boolean."
   ]
  },
  {
   "cell_type": "code",
   "execution_count": null,
   "metadata": {},
   "outputs": [],
   "source": [
    "True==False"
   ]
  },
  {
   "cell_type": "markdown",
   "metadata": {},
   "source": [
    "Logical operators are `not`, `and` and `or`:"
   ]
  },
  {
   "cell_type": "code",
   "execution_count": null,
   "metadata": {},
   "outputs": [],
   "source": [
    "(True or False)"
   ]
  },
  {
   "cell_type": "code",
   "execution_count": null,
   "metadata": {},
   "outputs": [],
   "source": [
    "not (True or False)"
   ]
  },
  {
   "cell_type": "code",
   "execution_count": null,
   "metadata": {},
   "outputs": [],
   "source": [
    "(1.3**1.04 > 1.9) | (1000**1143>1001**1142)"
   ]
  },
  {
   "cell_type": "markdown",
   "metadata": {},
   "source": [
    "Operators `or` and `and` can be replaced by `|` and `&` respectively. They are *non-greedy*, that is terms are not evaluated if the result of the comparison is already known."
   ]
  },
  {
   "cell_type": "code",
   "execution_count": null,
   "metadata": {},
   "outputs": [],
   "source": [
    "False and (print(\"Hello\"))"
   ]
  },
  {
   "cell_type": "code",
   "execution_count": null,
   "metadata": {},
   "outputs": [],
   "source": [
    "print( (print(\"Hello\")) and False )"
   ]
  },
  {
   "cell_type": "markdown",
   "metadata": {},
   "source": [
    "### strings"
   ]
  },
  {
   "cell_type": "markdown",
   "metadata": {},
   "source": [
    "#### definition"
   ]
  },
  {
   "cell_type": "markdown",
   "metadata": {},
   "source": [
    "Strings are defined by enclosing characters either by `'` (single quotes) or `\"` (double quote). Single quotes strings can contain double quotes strings and vice-versa."
   ]
  },
  {
   "cell_type": "code",
   "execution_count": null,
   "metadata": {},
   "outputs": [],
   "source": [
    "\"name\""
   ]
  },
  {
   "cell_type": "code",
   "execution_count": null,
   "metadata": {},
   "outputs": [],
   "source": [
    "'name'"
   ]
  },
  {
   "cell_type": "code",
   "execution_count": null,
   "metadata": {},
   "outputs": [],
   "source": [
    "'I say \"hello\"'"
   ]
  },
  {
   "cell_type": "code",
   "execution_count": null,
   "metadata": {},
   "outputs": [],
   "source": [
    "\"You can 'quote' me\""
   ]
  },
  {
   "cell_type": "markdown",
   "metadata": {},
   "source": [
    "Strings spanning over sever lines can be defined with triple quotes (single or double)."
   ]
  },
  {
   "cell_type": "code",
   "execution_count": null,
   "metadata": {},
   "outputs": [],
   "source": [
    "s = \"\"\"¿Qué es la vida? Un frenesí.\n",
    "¿Qué es la vida? Una ilusión,\n",
    "una sombra, una ficción,\n",
    "y el mayor bien es pequeño;\n",
    "que toda la vida es sueño,\n",
    "y los sueños, sueños son.\n",
    "\"\"\""
   ]
  },
  {
   "cell_type": "markdown",
   "metadata": {},
   "source": [
    "It is also possible to use the newline character `\\n`."
   ]
  },
  {
   "cell_type": "code",
   "execution_count": null,
   "metadata": {},
   "outputs": [],
   "source": [
    "\"La vida es sueño,\\ny los sueños, sueños son.\""
   ]
  },
  {
   "cell_type": "code",
   "execution_count": null,
   "metadata": {},
   "outputs": [],
   "source": [
    "print(\"La vida es sueño,\\ny los sueños, sueños son.\")"
   ]
  },
  {
   "cell_type": "markdown",
   "metadata": {},
   "source": [
    "#### character sets"
   ]
  },
  {
   "cell_type": "markdown",
   "metadata": {},
   "source": [
    "Strings can contain any unicode character:"
   ]
  },
  {
   "cell_type": "code",
   "execution_count": null,
   "metadata": {},
   "outputs": [],
   "source": [
    "s = \"🎻⽻༽\""
   ]
  },
  {
   "cell_type": "markdown",
   "metadata": {},
   "source": [
    "*Refresher*: ASCII vs unicode\n",
    "\n",
    "ASCII (or ASCII-US) is an old standard which codes a character with 7 bits (or 8 bits for extended ASCII). This allows to code 128 different characters (256 for ex-ASCII).\n",
    "\n"
   ]
  },
  {
   "cell_type": "markdown",
   "metadata": {},
   "source": [
    "Only a subset of these characters can be printed regularly."
   ]
  },
  {
   "cell_type": "code",
   "execution_count": null,
   "metadata": {},
   "outputs": [],
   "source": [
    "chr(44)"
   ]
  },
  {
   "cell_type": "code",
   "execution_count": null,
   "metadata": {},
   "outputs": [],
   "source": [
    "# ASCII: \n",
    "for i in range(32,127):\n",
    "    print( chr(i), end=' ')"
   ]
  },
  {
   "cell_type": "markdown",
   "metadata": {},
   "source": [
    "The other characters include *delete*, *newline* and *carriage return* among others."
   ]
  },
  {
   "cell_type": "code",
   "execution_count": null,
   "metadata": {},
   "outputs": [],
   "source": [
    "s = 'This is\\na\\nmultiline string.' # note the newline character '\\n'"
   ]
  },
  {
   "cell_type": "code",
   "execution_count": null,
   "metadata": {},
   "outputs": [],
   "source": [
    "# print(s)\n",
    "len(s)"
   ]
  },
  {
   "cell_type": "markdown",
   "metadata": {},
   "source": [
    "Some antiquated platforms still use newline + carriage return at the end of each line. This is absolutely not required and causes incompatibilities."
   ]
  },
  {
   "cell_type": "code",
   "execution_count": null,
   "metadata": {},
   "outputs": [],
   "source": [
    "s2 = 'This is\\n\\ra\\n\\rmultiline string.' # note the newline character '\\n' and carriager return '\\r'"
   ]
  },
  {
   "cell_type": "code",
   "execution_count": null,
   "metadata": {},
   "outputs": [],
   "source": [
    "print(s2)\n",
    "print(len(s2))"
   ]
  },
  {
   "cell_type": "markdown",
   "metadata": {},
   "source": [
    "Unicode contains a repertoire of over 137,000 characters with all ASCII characters as subcases\n",
    "\n",
    "To type: copy/paste, ctrl+shift+hexadecimal, latex + tab"
   ]
  },
  {
   "cell_type": "code",
   "execution_count": null,
   "metadata": {},
   "outputs": [],
   "source": [
    "# example\n",
    "Æ\n",
    "γ\n",
    "\n",
    "Ü"
   ]
  },
  {
   "cell_type": "markdown",
   "metadata": {},
   "source": [
    "Variable names aka identifiers can contain unicode characters with some restrictions:\n",
    "- they cannot start with a digit\n",
    "- they can't contain special variables ('!,#,@,%,$' and other unicode specials ???)\n",
    "- they can contain underscore"
   ]
  },
  {
   "cell_type": "markdown",
   "metadata": {},
   "source": [
    "#### operations"
   ]
  },
  {
   "cell_type": "markdown",
   "metadata": {},
   "source": [
    "concatenation"
   ]
  },
  {
   "cell_type": "code",
   "execution_count": null,
   "metadata": {},
   "outputs": [],
   "source": [
    "'abc' + 'def'"
   ]
  },
  {
   "cell_type": "code",
   "execution_count": null,
   "metadata": {},
   "outputs": [],
   "source": [
    "'abc'*3"
   ]
  },
  {
   "cell_type": "code",
   "execution_count": null,
   "metadata": {},
   "outputs": [],
   "source": [
    "'abc' + 'abc' + 'abc'"
   ]
  },
  {
   "cell_type": "markdown",
   "metadata": {},
   "source": [
    "#### substrings"
   ]
  },
  {
   "cell_type": "code",
   "execution_count": null,
   "metadata": {},
   "outputs": [],
   "source": [
    "# strings can be accessed as arrays (0 based indexing)\n",
    "s = \"a b c\"\n",
    "s[0]"
   ]
  },
  {
   "cell_type": "code",
   "execution_count": null,
   "metadata": {},
   "outputs": [],
   "source": [
    "# slice notation (  [min,max[ )\n",
    "s = \"a b c d\"\n",
    "s[2:5] # 0-based; 2 included, 5 excluded"
   ]
  },
  {
   "cell_type": "code",
   "execution_count": null,
   "metadata": {},
   "outputs": [],
   "source": [
    "# substrings are easy to check\n",
    "\"a\" in s"
   ]
  },
  {
   "cell_type": "code",
   "execution_count": null,
   "metadata": {},
   "outputs": [],
   "source": [
    "\"b c\" in \"a b c d\""
   ]
  },
  {
   "cell_type": "markdown",
   "metadata": {},
   "source": [
    "It is impossible to modify a substring."
   ]
  },
  {
   "cell_type": "code",
   "execution_count": null,
   "metadata": {},
   "outputs": [],
   "source": [
    "# but are immutable\n",
    "s = \"a b c\"\n",
    "s[1] = 0"
   ]
  },
  {
   "cell_type": "markdown",
   "metadata": {},
   "source": [
    "Instead, one can replace a substring:"
   ]
  },
  {
   "cell_type": "code",
   "execution_count": null,
   "metadata": {},
   "outputs": [],
   "source": [
    "s"
   ]
  },
  {
   "cell_type": "code",
   "execution_count": null,
   "metadata": {},
   "outputs": [],
   "source": [
    "s.replace(' ', '🎻')"
   ]
  },
  {
   "cell_type": "markdown",
   "metadata": {},
   "source": [
    "Or use string interpolation"
   ]
  },
  {
   "cell_type": "code",
   "execution_count": null,
   "metadata": {},
   "outputs": [],
   "source": [
    "# string interpolation (old school)\n",
    "\"ny name is {name}\".format(name=\"nobody\")"
   ]
  },
  {
   "cell_type": "code",
   "execution_count": null,
   "metadata": {},
   "outputs": [],
   "source": [
    "\"calculation took {time}s\".format(time=10000)"
   ]
  },
  {
   "cell_type": "code",
   "execution_count": null,
   "metadata": {},
   "outputs": [],
   "source": [
    "# number format can be tweaked\n",
    "\"I am {age:.0f} years old\".format(age=5.65)"
   ]
  },
  {
   "cell_type": "code",
   "execution_count": null,
   "metadata": {},
   "outputs": [],
   "source": [
    "# formatted strings\n",
    "elapsed = 15914884.300292\n",
    "\n",
    "f\"computations took {elapsed/3600:.2f} hours\""
   ]
  },
  {
   "cell_type": "code",
   "execution_count": null,
   "metadata": {},
   "outputs": [],
   "source": [
    "name = \"arnaldur\""
   ]
  },
  {
   "cell_type": "code",
   "execution_count": null,
   "metadata": {},
   "outputs": [],
   "source": [
    "\"dasnfnaksujhn {name}\".format(name=\"whatever\")"
   ]
  },
  {
   "cell_type": "code",
   "execution_count": null,
   "metadata": {},
   "outputs": [],
   "source": [
    "# basic string operations: str.split, str.join, etc...\n",
    "# fast regular expressions\n",
    "# more on it, with text processing lesson"
   ]
  },
  {
   "cell_type": "code",
   "execution_count": null,
   "metadata": {},
   "outputs": [],
   "source": [
    "str.split(\"me,you,others,them\",',')"
   ]
  },
  {
   "cell_type": "code",
   "execution_count": null,
   "metadata": {},
   "outputs": [],
   "source": [
    "str.join( \" | \",\n",
    "    str.split(\"me,you,others,them\",','),\n",
    ")"
   ]
  },
  {
   "cell_type": "markdown",
   "metadata": {},
   "source": [
    "#### Escaping characters\n",
    "\n",
    "The example above used several special characters: `\\n` which corresponds to only one ascii character and the curly brackets `{` and `}` which disappears after the string formatting. If one desires to print these characters precisely one needs to escape them using `\\` and `{` `}`."
   ]
  },
  {
   "cell_type": "code",
   "execution_count": null,
   "metadata": {},
   "outputs": [],
   "source": [
    "print(\"This is a one \\\\nline string\")\n",
    "print(\"This string keeps some {{curly}} brackets{}\".format('.'))"
   ]
  },
  {
   "cell_type": "markdown",
   "metadata": {},
   "source": [
    "#### Other operations on strings\n",
    "\n",
    "(check help(str) or help?)\n",
    "\n",
    "- len() : length\n",
    "- strip() : removes characters at the ends\n",
    "- split() : split strings into several substrings separated by separator\n",
    "- join() : opposite of split"
   ]
  },
  {
   "cell_type": "code",
   "execution_count": null,
   "metadata": {},
   "outputs": [],
   "source": [
    "'others,'"
   ]
  },
  {
   "cell_type": "code",
   "execution_count": null,
   "metadata": {},
   "outputs": [],
   "source": [
    "',me,others,'.strip(',')"
   ]
  },
  {
   "cell_type": "code",
   "execution_count": null,
   "metadata": {},
   "outputs": [],
   "source": [
    "s.count(',')"
   ]
  },
  {
   "cell_type": "code",
   "execution_count": null,
   "metadata": {},
   "outputs": [],
   "source": [
    "help(str)"
   ]
  },
  {
   "cell_type": "markdown",
   "metadata": {},
   "source": [
    "## Assignment\n",
    "\n",
    "Any object can be reused by assigning an identifier to it. This is done with assignment operator `=`."
   ]
  },
  {
   "cell_type": "code",
   "execution_count": null,
   "metadata": {},
   "outputs": [],
   "source": [
    "a = 3\n",
    "a"
   ]
  },
  {
   "cell_type": "markdown",
   "metadata": {},
   "source": [
    "Note that assignment operator `=` is different from comparison operator `==`.\n",
    "Comparison operator is always True or False, while assignment operator has no value."
   ]
  },
  {
   "cell_type": "code",
   "execution_count": null,
   "metadata": {},
   "outputs": [],
   "source": [
    "(2==2) == True"
   ]
  },
  {
   "cell_type": "code",
   "execution_count": null,
   "metadata": {},
   "outputs": [],
   "source": [
    "(a=2) == True"
   ]
  },
  {
   "cell_type": "markdown",
   "metadata": {
    "toc-hr-collapsed": true
   },
   "source": [
    "## Containers"
   ]
  },
  {
   "cell_type": "markdown",
   "metadata": {},
   "source": [
    "Any object created in Python is identified by a unique `id`. One can think of it approximately as its reference. \n",
    "Object collections, contain arbitrary other python objects, that is they contain references to them."
   ]
  },
  {
   "cell_type": "code",
   "execution_count": null,
   "metadata": {},
   "outputs": [],
   "source": [
    "id(s)"
   ]
  },
  {
   "cell_type": "markdown",
   "metadata": {
    "toc-hr-collapsed": true
   },
   "source": [
    "### tuples"
   ]
  },
  {
   "cell_type": "markdown",
   "metadata": {},
   "source": [
    "#### construction"
   ]
  },
  {
   "cell_type": "code",
   "execution_count": null,
   "metadata": {},
   "outputs": [],
   "source": [
    "(1,2,\"a\" )"
   ]
  },
  {
   "cell_type": "markdown",
   "metadata": {},
   "source": [
    "Since tuples are immutable, two identical tuples, will always contain the same data. "
   ]
  },
  {
   "cell_type": "code",
   "execution_count": null,
   "metadata": {},
   "outputs": [],
   "source": [
    "t1  = (2,23)\n",
    "t2  = (2,23)"
   ]
  },
  {
   "cell_type": "code",
   "execution_count": null,
   "metadata": {},
   "outputs": [],
   "source": [
    "# can contain any data\n",
    "t = (1,2,3,4,5,6)\n",
    "t1 = (t, \"a\", (1,2))\n",
    "t2 = (0,)  # note trailing coma for one element tuple\n",
    "t3 = (t, \"a\", (1,2))\n"
   ]
  },
  {
   "cell_type": "code",
   "execution_count": null,
   "metadata": {},
   "outputs": [],
   "source": [
    "t[0] = 78"
   ]
  },
  {
   "cell_type": "markdown",
   "metadata": {},
   "source": [
    "Since tuples never change, they can be compared by hash values (if the data they hold can be hashed). Two tuples are identical if they contain the same data.\n",
    "\n",
    "Remark:  hash function is any function that can be used to map data of arbitrary size to data of a fixed size. It is such that the probability of two data points of having the same hash is very small even if they are close to each other.\n"
   ]
  },
  {
   "cell_type": "code",
   "execution_count": null,
   "metadata": {},
   "outputs": [],
   "source": [
    "t3 == t1"
   ]
  },
  {
   "cell_type": "code",
   "execution_count": null,
   "metadata": {},
   "outputs": [],
   "source": [
    "print(hash(t3))\n",
    "print(hash(t1))"
   ]
  },
  {
   "cell_type": "code",
   "execution_count": null,
   "metadata": {},
   "outputs": [],
   "source": [
    "id(t3), id(t1)"
   ]
  },
  {
   "cell_type": "markdown",
   "metadata": {},
   "source": [
    "#### access elements"
   ]
  },
  {
   "cell_type": "code",
   "execution_count": null,
   "metadata": {},
   "outputs": [],
   "source": [
    "# elements are accessed with brackets (0-based)\n",
    "t[0]"
   ]
  },
  {
   "cell_type": "code",
   "execution_count": null,
   "metadata": {},
   "outputs": [],
   "source": [
    "# slice notation works too (  [min,max[ )\n",
    "t[1:3]"
   ]
  },
  {
   "cell_type": "code",
   "execution_count": null,
   "metadata": {},
   "outputs": [],
   "source": [
    "# repeat with *\n",
    "(3,2)*5"
   ]
  },
  {
   "cell_type": "code",
   "execution_count": null,
   "metadata": {},
   "outputs": [],
   "source": [
    "(0)*5"
   ]
  },
  {
   "cell_type": "code",
   "execution_count": null,
   "metadata": {},
   "outputs": [],
   "source": [
    "(0,)*5"
   ]
  },
  {
   "cell_type": "code",
   "execution_count": null,
   "metadata": {},
   "outputs": [],
   "source": [
    "t2*5"
   ]
  },
  {
   "cell_type": "code",
   "execution_count": null,
   "metadata": {},
   "outputs": [],
   "source": [
    "# concatenate with +\n",
    "t+t1+t2"
   ]
  },
  {
   "cell_type": "code",
   "execution_count": null,
   "metadata": {},
   "outputs": [],
   "source": [
    "# test for membership\n",
    "\n",
    "(1 in t)"
   ]
  },
  {
   "cell_type": "markdown",
   "metadata": {},
   "source": [
    "### lists\n",
    "\n",
    "lists are enclosed by brackets are  _mutable ordered collections of elements_"
   ]
  },
  {
   "cell_type": "code",
   "execution_count": null,
   "metadata": {},
   "outputs": [],
   "source": [
    "l = [1,\"a\",4,5]"
   ]
  },
  {
   "cell_type": "code",
   "execution_count": null,
   "metadata": {},
   "outputs": [],
   "source": [
    "l[1]"
   ]
  },
  {
   "cell_type": "code",
   "execution_count": null,
   "metadata": {},
   "outputs": [],
   "source": [
    "l[1:] # if we omit the upper-bound it goes until the last element"
   ]
  },
  {
   "cell_type": "code",
   "execution_count": null,
   "metadata": {},
   "outputs": [],
   "source": [
    "l[:2]"
   ]
  },
  {
   "cell_type": "code",
   "execution_count": null,
   "metadata": {},
   "outputs": [],
   "source": [
    "# lists are concatenated with +\n",
    "l[:2] + l[2:] == l\n"
   ]
  },
  {
   "cell_type": "code",
   "execution_count": null,
   "metadata": {},
   "outputs": [],
   "source": [
    "# test for membership\n",
    "(5 in l)"
   ]
  },
  {
   "cell_type": "code",
   "execution_count": null,
   "metadata": {},
   "outputs": [],
   "source": [
    "# lists can be extended inplace\n",
    "ll = [1,2,3]\n",
    "ll.extend([4,5]) # several elements\n",
    "ll.append(6)\n",
    "ll"
   ]
  },
  {
   "cell_type": "markdown",
   "metadata": {},
   "source": [
    "Since lists are mutable, it makes no sense to compute them by hash value (or the hash needs to be recomputed every time the values change)."
   ]
  },
  {
   "cell_type": "code",
   "execution_count": null,
   "metadata": {},
   "outputs": [],
   "source": [
    "hash(ll)"
   ]
  },
  {
   "cell_type": "markdown",
   "metadata": {},
   "source": [
    "Sorted lists can be created with sorted (if elements can be ranked)"
   ]
  },
  {
   "cell_type": "code",
   "execution_count": null,
   "metadata": {},
   "outputs": [],
   "source": [
    "ll = [4,3,5]"
   ]
  },
  {
   "cell_type": "code",
   "execution_count": null,
   "metadata": {},
   "outputs": [],
   "source": [
    "sorted(ll)"
   ]
  },
  {
   "cell_type": "code",
   "execution_count": null,
   "metadata": {},
   "outputs": [],
   "source": [
    "ll"
   ]
  },
  {
   "cell_type": "markdown",
   "metadata": {},
   "source": [
    "It is also possible to sort in place."
   ]
  },
  {
   "cell_type": "code",
   "execution_count": null,
   "metadata": {},
   "outputs": [],
   "source": [
    "ll.sort()\n",
    "ll"
   ]
  },
  {
   "cell_type": "code",
   "execution_count": null,
   "metadata": {},
   "outputs": [],
   "source": [
    "sorted(ll) # creates a new list\n",
    "ll.sort()  # does it in place"
   ]
  },
  {
   "cell_type": "code",
   "execution_count": null,
   "metadata": {},
   "outputs": [],
   "source": [
    "# in python internals:    ll.sort() equivalent sort(ll)"
   ]
  },
  {
   "cell_type": "markdown",
   "metadata": {},
   "source": [
    "### set\n",
    "\n",
    "Sets are unordered collections of unique elements."
   ]
  },
  {
   "cell_type": "code",
   "execution_count": null,
   "metadata": {},
   "outputs": [],
   "source": [
    "s1 = set([1,2,3,3,4,3,4])\n",
    "s2 = set([3,4,4,6,8])\n",
    "print(s1, s2)\n",
    "print(s1.intersection(s2))"
   ]
  },
  {
   "cell_type": "code",
   "execution_count": null,
   "metadata": {},
   "outputs": [],
   "source": [
    "{3,4} == {4,3}"
   ]
  },
  {
   "cell_type": "markdown",
   "metadata": {},
   "source": [
    "### dictionaries\n",
    "\n",
    "Dictionaries are ordered associative collections of elements. They store values associated to keys."
   ]
  },
  {
   "cell_type": "code",
   "execution_count": null,
   "metadata": {},
   "outputs": [],
   "source": [
    "# construction with curly brackets\n",
    "d = {'a':0, 'b':1}"
   ]
  },
  {
   "cell_type": "code",
   "execution_count": null,
   "metadata": {},
   "outputs": [],
   "source": [
    "d"
   ]
  },
  {
   "cell_type": "code",
   "execution_count": null,
   "metadata": {},
   "outputs": [],
   "source": [
    "# values can be recovered by indexing the dict with a key\n",
    "d['b']"
   ]
  },
  {
   "cell_type": "code",
   "execution_count": null,
   "metadata": {},
   "outputs": [],
   "source": [
    "d = dict()\n",
    "# d['a'] = 42\n",
    "# d['b'] = 78\n",
    "d"
   ]
  },
  {
   "cell_type": "code",
   "execution_count": null,
   "metadata": {},
   "outputs": [],
   "source": [
    "d['a'] = 42"
   ]
  },
  {
   "cell_type": "code",
   "execution_count": null,
   "metadata": {},
   "outputs": [],
   "source": [
    "d['b']"
   ]
  },
  {
   "cell_type": "markdown",
   "metadata": {},
   "source": [
    "Keys can be any hashable value:"
   ]
  },
  {
   "cell_type": "code",
   "execution_count": null,
   "metadata": {},
   "outputs": [],
   "source": [
    "d[('a','b')] = 100"
   ]
  },
  {
   "cell_type": "code",
   "execution_count": null,
   "metadata": {},
   "outputs": [],
   "source": [
    "d[ ['a','b'] ] = 100 # that won't work"
   ]
  },
  {
   "cell_type": "markdown",
   "metadata": {},
   "source": [
    "Note: until python 3.5 dictionaries were not ordered. Now the are guaranteed to keep the insertion order"
   ]
  },
  {
   "cell_type": "markdown",
   "metadata": {
    "slideshow": {
     "slide_type": "slide"
    },
    "toc-hr-collapsed": true
   },
   "source": [
    "## Control flows"
   ]
  },
  {
   "cell_type": "markdown",
   "metadata": {},
   "source": [
    "### Conditional blocks\n",
    "\n",
    "Conditional blocks are preceeded by `if` and followed by an indented block. Note that it is advised to indent a block by a fixed set of space (usually 4) rather than use tabs."
   ]
  },
  {
   "cell_type": "code",
   "execution_count": null,
   "metadata": {},
   "outputs": [],
   "source": [
    "if 'sun'>'moon':\n",
    "    print('warm')"
   ]
  },
  {
   "cell_type": "markdown",
   "metadata": {},
   "source": [
    "They can also be followed by elif and else statements:"
   ]
  },
  {
   "cell_type": "code",
   "execution_count": null,
   "metadata": {},
   "outputs": [],
   "source": [
    "x = 0.5\n",
    "if (x<0):\n",
    "    y = 0.0\n",
    "elif (x<1.0):\n",
    "    y = x\n",
    "else:\n",
    "    y = 1+(x-1)*0.5"
   ]
  },
  {
   "cell_type": "markdown",
   "metadata": {},
   "source": [
    "Remark that in the conditions, any variable can be used. The following evaluate to False:\n",
    " - 0\n",
    " - empty collection"
   ]
  },
  {
   "cell_type": "code",
   "execution_count": null,
   "metadata": {},
   "outputs": [],
   "source": [
    "if 0: print(\"I won't print this.\")\n",
    "if 1: print(\"Maybe I will.\")\n",
    "if {}: print(\"Sir, your dictionary is empty\")\n",
    "if \"\": print(\"Sir, there is no string to speak of.\")"
   ]
  },
  {
   "cell_type": "markdown",
   "metadata": {},
   "source": [
    "###  While \n",
    "\n",
    "The content of the while loop is repeated as long as a certain condition is met. Don't forget to change that condition or the loop might run forever."
   ]
  },
  {
   "cell_type": "code",
   "execution_count": null,
   "metadata": {},
   "outputs": [],
   "source": [
    "point_made = False\n",
    "i = 0\n",
    "while not point_made:\n",
    "    print(\"A fanatic is one who can't change his mind and won't change the subject.\")\n",
    "    i += 1 # this is a quasi-synonym of i = i + 1\n",
    "    if i>=20:\n",
    "          point_made = True"
   ]
  },
  {
   "cell_type": "markdown",
   "metadata": {},
   "source": [
    "### Loops"
   ]
  },
  {
   "cell_type": "code",
   "execution_count": null,
   "metadata": {},
   "outputs": [],
   "source": [
    "# while loops\n",
    "i = 0\n",
    "while i<=10:\n",
    "    print(str(i)+\" \",  end='')\n",
    "    i+=1"
   ]
  },
  {
   "cell_type": "code",
   "execution_count": null,
   "metadata": {},
   "outputs": [],
   "source": [
    "# for loop\n",
    "for i in [0,1,2,3,4,5,6,7,8,9,10]:\n",
    "    print(str(i)+\" \",  end='')"
   ]
  },
  {
   "cell_type": "code",
   "execution_count": null,
   "metadata": {},
   "outputs": [],
   "source": [
    "# this works for any kind of iterable\n",
    "# for loop\n",
    "for i in (0,1,2,3,4,5,6,7,8,9,10):\n",
    "    print(str(i)+\" \",  end='')"
   ]
  },
  {
   "cell_type": "code",
   "execution_count": null,
   "metadata": {},
   "outputs": [],
   "source": [
    "# including range generator (note last value)\n",
    "for i in range(11): \n",
    "    print(str(i)+\" \",  end='')"
   ]
  },
  {
   "cell_type": "code",
   "execution_count": null,
   "metadata": {},
   "outputs": [],
   "source": [
    "range(11)"
   ]
  },
  {
   "cell_type": "code",
   "execution_count": null,
   "metadata": {},
   "outputs": [],
   "source": [
    "# one can also enumerate elements\n",
    "countries = (\"france\", \"uk\", \"germany\")\n",
    "for i,c in enumerate(countries): \n",
    "    print(f\"{i}: {c}\")"
   ]
  },
  {
   "cell_type": "code",
   "execution_count": null,
   "metadata": {},
   "outputs": [],
   "source": [
    "s = set(c)"
   ]
  },
  {
   "cell_type": "code",
   "execution_count": null,
   "metadata": {},
   "outputs": [],
   "source": [
    "# conditional blocks are constructed with if, elif, else\n",
    "for i,c in enumerate(countries):\n",
    "    if len(set(c).intersection(set(\"brexit\"))):\n",
    "        print(c)\n",
    "    else:\n",
    "        print(c + \" 😢\")"
   ]
  },
  {
   "cell_type": "markdown",
   "metadata": {},
   "source": [
    "It is possible to iterate over any iterable. This is true for a list or a generator:"
   ]
  },
  {
   "cell_type": "code",
   "execution_count": null,
   "metadata": {},
   "outputs": [],
   "source": [
    "for i in range(10): # range(10) is a generator\n",
    "    print(i)"
   ]
  },
  {
   "cell_type": "code",
   "execution_count": null,
   "metadata": {},
   "outputs": [],
   "source": [
    "for i in [0,1,2,3,4,5,6,7,8,9]:\n",
    "    print(i)"
   ]
  },
  {
   "cell_type": "markdown",
   "metadata": {},
   "source": [
    "We can iterate of dictionary keys or values"
   ]
  },
  {
   "cell_type": "code",
   "execution_count": null,
   "metadata": {},
   "outputs": [],
   "source": [
    "d = {1:2, 3:'i'}\n",
    "for k in d.keys():\n",
    "    print(k, d[k])\n",
    "for k in d.values():\n",
    "    print(k)"
   ]
  },
  {
   "cell_type": "markdown",
   "metadata": {},
   "source": [
    "or both at the same time:"
   ]
  },
  {
   "cell_type": "code",
   "execution_count": null,
   "metadata": {},
   "outputs": [],
   "source": [
    "for t in d.items():\n",
    "    print(t)\n",
    "\n",
    "# look at automatic unpacking\n",
    "for (k,v) in d.items():\n",
    "    print(f\"key: {k}, value: {v}\")"
   ]
  },
  {
   "cell_type": "markdown",
   "metadata": {},
   "source": [
    "### Comprehension and generators\n",
    "\n",
    "There is an easy syntax to construct lists/tuples/dicts: comprehension. Syntax is remminiscent of a for loop."
   ]
  },
  {
   "cell_type": "code",
   "execution_count": null,
   "metadata": {},
   "outputs": [],
   "source": [
    "[i**2 for i in range(10)]"
   ]
  },
  {
   "cell_type": "code",
   "execution_count": null,
   "metadata": {},
   "outputs": [],
   "source": [
    "set(i-(i//2*2) for i in range(10))"
   ]
  },
  {
   "cell_type": "code",
   "execution_count": null,
   "metadata": {},
   "outputs": [],
   "source": [
    "{i: i**2 for i in range(10)}"
   ]
  },
  {
   "cell_type": "markdown",
   "metadata": {},
   "source": [
    "Comprehension can be combined with conditions:\n"
   ]
  },
  {
   "cell_type": "code",
   "execution_count": null,
   "metadata": {},
   "outputs": [],
   "source": [
    "[i**2 for i in range(10) if i//3>2]"
   ]
  },
  {
   "cell_type": "markdown",
   "metadata": {},
   "source": [
    "Behind the comprehension syntax, there is a special object called generator. Its role is to supply objects one by one like any other iterable."
   ]
  },
  {
   "cell_type": "code",
   "execution_count": null,
   "metadata": {},
   "outputs": [],
   "source": [
    "# note the bracket\n",
    "gen = (i**2 for i in range(10))\n",
    "gen # does nothing"
   ]
  },
  {
   "cell_type": "code",
   "execution_count": null,
   "metadata": {},
   "outputs": [],
   "source": [
    "gen = (i**2 for i in range(10))\n",
    "for e in gen:\n",
    "    print(e)"
   ]
  },
  {
   "cell_type": "code",
   "execution_count": null,
   "metadata": {},
   "outputs": [],
   "source": [
    "gen = (i**2 for i in range(10))\n",
    "print([e for e in gen])"
   ]
  },
  {
   "cell_type": "markdown",
   "metadata": {},
   "source": [
    "There is a shortcut to converte a generator into a list: it's called unpacking:"
   ]
  },
  {
   "cell_type": "code",
   "execution_count": null,
   "metadata": {},
   "outputs": [],
   "source": [
    "gen = (i**2 for i in range(10))\n",
    "[*gen]"
   ]
  },
  {
   "cell_type": "markdown",
   "metadata": {
    "toc-hr-collapsed": true
   },
   "source": [
    "## Functions"
   ]
  },
  {
   "cell_type": "markdown",
   "metadata": {},
   "source": [
    "Wrong approach"
   ]
  },
  {
   "cell_type": "code",
   "execution_count": null,
   "metadata": {},
   "outputs": [],
   "source": [
    "a1 = 34\n",
    "b1 = (1+a1*a1)\n",
    "c1 = (a1+b1*b1)\n",
    "\n",
    "a2 = 36\n",
    "b2 = (1+a2*a2)\n",
    "c2 = (a2+b2*b2)\n",
    "\n",
    "print(c1,c2)"
   ]
  },
  {
   "cell_type": "markdown",
   "metadata": {},
   "source": [
    "Better approach"
   ]
  },
  {
   "cell_type": "code",
   "execution_count": null,
   "metadata": {},
   "outputs": [],
   "source": [
    "def calc(a):\n",
    "    b = 1+a*a\n",
    "    c = a+b*b\n",
    "    return c\n",
    "\n",
    "(calc(34), calc(36))"
   ]
  },
  {
   "cell_type": "markdown",
   "metadata": {},
   "source": [
    "it is equivalent to replace the content of the function by:"
   ]
  },
  {
   "cell_type": "code",
   "execution_count": null,
   "metadata": {},
   "outputs": [],
   "source": [
    "a = 32\n",
    "_a = a          # def calc(a):\n",
    "_b = 1+_a*_a    #    b = 1+a*a\n",
    "_c = _a+_b*_b   #    c = a+b*b\n",
    "res = _c        #    return c"
   ]
  },
  {
   "cell_type": "markdown",
   "metadata": {},
   "source": [
    "Note that variable names within the function have different names. This is to avoid name conflicts as in:\n"
   ]
  },
  {
   "cell_type": "code",
   "execution_count": null,
   "metadata": {},
   "outputs": [],
   "source": [
    "y = 1\n",
    "def f(x):\n",
    "    y = x**2\n",
    "    return y+1\n",
    "def g(x):\n",
    "    y = x**2+0.1\n",
    "    return y+1\n",
    "r1 = f(1.4)\n",
    "r2 = g(1.4)\n",
    "r3 = y\n",
    "(r1,r2,r3)"
   ]
  },
  {
   "cell_type": "code",
   "execution_count": null,
   "metadata": {},
   "outputs": [],
   "source": [
    "l = ['france', 'germany']\n",
    "def fun(i):\n",
    "    print(f\"Country: {l[i]}\")\n",
    "fun(0)"
   ]
  },
  {
   "cell_type": "code",
   "execution_count": null,
   "metadata": {},
   "outputs": [],
   "source": [
    "l = ['france', 'germany']\n",
    "def fun(i):\n",
    "    l = ['usa', 'japan']\n",
    "    l.append('spain')\n",
    "    print(f\"Country: {l[i]}\")\n",
    "fun(0)"
   ]
  },
  {
   "cell_type": "code",
   "execution_count": null,
   "metadata": {},
   "outputs": [],
   "source": [
    "l"
   ]
  },
  {
   "cell_type": "markdown",
   "metadata": {},
   "source": [
    "In the preceding code block, value of `y` has not been changed by calling the two functions. Check [pythontutor](http://pythontutor.com/visualize.html#code=y%20%3D%201%0Adef%20f%28x%29%3A%0A%20%20%20%20y%20%3D%20x**2%0A%20%20%20%20return%20y%2B1%0Adef%20g%28x%29%3A%0A%20%20%20%20y%20%3D%20x**2%0A%20%20%20%20return%20y%2B1%0Ar1%20%3D%20f%281.4%29%0Ar2%20%3D%20g%281.4%29%0Ar3%20%3D%20y%0A%28r1,r2,r3%29&cumulative=false&curInstr=0&heapPrimitives=nevernest&mode=display&origin=opt-frontend.js&py=3&rawInputLstJSON=%5B%5D&textReferences=false)."
   ]
  },
  {
   "cell_type": "markdown",
   "metadata": {},
   "source": [
    "### Calling conventions\n",
    "\n",
    "Function definitions start with `def` and a colon indentation. Value are returned by `return` keyword. Otherwise the return value is `None`.\n",
    "Functions can have several arguments: `def f(x,y)` but always one return argument. It is however to return a tuple, and \"unpack\" it."
   ]
  },
  {
   "cell_type": "code",
   "execution_count": null,
   "metadata": {},
   "outputs": [],
   "source": [
    "def f(x,y):\n",
    "    z1 = x+y\n",
    "    z2 = x-y\n",
    "    return (z1,z2)      # here brackets are optional:  `return z1,z2` works too\n",
    "\n",
    "res = f(0.1, 0.2)\n",
    "t1, t2 = f(0.2, 0.2)     # t1,t2=res works too"
   ]
  },
  {
   "cell_type": "code",
   "execution_count": null,
   "metadata": {},
   "outputs": [],
   "source": [
    "res"
   ]
  },
  {
   "cell_type": "markdown",
   "metadata": {},
   "source": [
    "Named arguments can be passed in any order and receive default values."
   ]
  },
  {
   "cell_type": "code",
   "execution_count": null,
   "metadata": {},
   "outputs": [],
   "source": [
    "def problem(why=\"The moon shines.\", what=\"Curiosity killed the cat.\", where=\"Paris\"):\n",
    "    print(f\"Is it because {why.lower().strip('.')} that {what.lower().strip('.')}, in {where.strip('.')}?\")"
   ]
  },
  {
   "cell_type": "code",
   "execution_count": null,
   "metadata": {},
   "outputs": [],
   "source": [
    "problem(where='Paris')"
   ]
  },
  {
   "cell_type": "code",
   "execution_count": null,
   "metadata": {},
   "outputs": [],
   "source": [
    "problem(where=\"ESCP\", why=\"Square root of two is irrational\", what=\"Some regressions never work.\")"
   ]
  },
  {
   "cell_type": "markdown",
   "metadata": {},
   "source": [
    "Positional arguments and keyword arguments can be combined"
   ]
  },
  {
   "cell_type": "code",
   "execution_count": null,
   "metadata": {},
   "outputs": [],
   "source": [
    "def f(x, y, β=0.9, γ=4.0, δ=0.1):\n",
    "    return x*β+y**γ*δ"
   ]
  },
  {
   "cell_type": "code",
   "execution_count": null,
   "metadata": {},
   "outputs": [],
   "source": [
    "f(0.1, 0.2)"
   ]
  },
  {
   "cell_type": "markdown",
   "metadata": {},
   "source": [
    "### Docstrings\n",
    "\n",
    "Functions are documented with a special string. Documentation It must follow the function signature immediately and explain what arguments are expected and what the function does"
   ]
  },
  {
   "cell_type": "code",
   "execution_count": null,
   "metadata": {},
   "outputs": [],
   "source": [
    "def f(x, y, β=0.9, γ=4.0, δ=0.1):   # kjhkugku\n",
    "    \"\"\"Compute the model residuals\n",
    "    \n",
    "    Parameters\n",
    "    ----------\n",
    "    x: (float) marginal propensity to do complicated stuff\n",
    "    y: (float) inverse of the elasticity of bifractional risk-neutral substitution\n",
    "    β: (float) time discount (default 0.9)\n",
    "    γ: (float) time discount (default 4.0)\n",
    "    δ: (float) time discount (default 0.1)\n",
    "    \n",
    "    Result\n",
    "    ------\n",
    "    res: beta-Hadamard measure of cohesiveness\n",
    "    \n",
    "    \"\"\"\n",
    "    res = x*β+y**γ*δ\n",
    "    return res"
   ]
  },
  {
   "cell_type": "markdown",
   "metadata": {},
   "source": [
    "Remark: Python 3.6 has introduced type indication for functions. They are useful as an element of indication and potentially for type checking. We do not cover them in this tutorial but this is what they look like:"
   ]
  },
  {
   "cell_type": "code",
   "execution_count": null,
   "metadata": {},
   "outputs": [],
   "source": [
    "def f(a: int, b:int)->int:\n",
    "    if a<=1:\n",
    "        return 1\n",
    "    else:\n",
    "        return f(a-1,b) + f(a-2,b)*b"
   ]
  },
  {
   "cell_type": "markdown",
   "metadata": {},
   "source": [
    "### Packing and unpacking"
   ]
  },
  {
   "cell_type": "markdown",
   "metadata": {},
   "source": [
    "A common case is when one wants to pass the elements of an iterable as positional argument and/or the elements of a dictionary as keyword arguments.\n",
    "This is espacially the case, when one wants to determine functions that act on a given calibration. Without unpacking all arguments would need to be passed separately."
   ]
  },
  {
   "cell_type": "code",
   "execution_count": null,
   "metadata": {},
   "outputs": [],
   "source": [
    "v = (0.1, 0.2)\n",
    "p = dict(β=0.9, γ=4.0, δ=0.1)\n",
    "\n",
    "f(v[0], v[1], β=p['β'], γ=p['γ'], δ=p['δ'])"
   ]
  },
  {
   "cell_type": "markdown",
   "metadata": {},
   "source": [
    "There is a special syntax for that: `*` unpacks positional arguments and `**` unpacks keyword arguments. Here is an example:"
   ]
  },
  {
   "cell_type": "code",
   "execution_count": null,
   "metadata": {},
   "outputs": [],
   "source": [
    "f(*v, **p)"
   ]
  },
  {
   "cell_type": "markdown",
   "metadata": {},
   "source": [
    "The same characters `*` and `**` can actually be used for the reverse operation, that is packing. This is useful to determine functions of a variable number of arguments."
   ]
  },
  {
   "cell_type": "code",
   "execution_count": null,
   "metadata": {},
   "outputs": [],
   "source": [
    "def fun(**p):\n",
    "    β = p['β']\n",
    "    return β+1\n",
    "fun(β=1.0)\n",
    "fun(β=1.0, γ=2.0) # γ is just ignored"
   ]
  },
  {
   "cell_type": "markdown",
   "metadata": {},
   "source": [
    "Inside the function, unpacked objects are lists and dictionaries respectively."
   ]
  },
  {
   "cell_type": "code",
   "execution_count": null,
   "metadata": {},
   "outputs": [],
   "source": [
    "def fun(*args, **kwargs):\n",
    "    print(f\"Positional arguments: {len(args)}\")\n",
    "    for a in args:\n",
    "        print(f\"- {a}\")\n",
    "    print(f\"Keyword arguments: {len(args)}\")\n",
    "    for key,value in kwargs.items():\n",
    "        print(f\"- {key}: {value}\")"
   ]
  },
  {
   "cell_type": "code",
   "execution_count": null,
   "metadata": {},
   "outputs": [],
   "source": [
    "fun(0.1, 0.2, a=2, b=3, c=4)"
   ]
  },
  {
   "cell_type": "markdown",
   "metadata": {},
   "source": [
    "### Functions are first class objects\n",
    "\n",
    "This means they can be assigned and passed around."
   ]
  },
  {
   "cell_type": "code",
   "execution_count": null,
   "metadata": {},
   "outputs": [],
   "source": [
    "def f(x): return 2*x*(1-x)\n",
    "g = f # now `g` and `f` point to the same function\n",
    "g(0.4)"
   ]
  },
  {
   "cell_type": "code",
   "execution_count": null,
   "metadata": {},
   "outputs": [],
   "source": [
    "def sumsfun(l, f):\n",
    "    return [f(e) for e in l]"
   ]
  },
  {
   "cell_type": "code",
   "execution_count": null,
   "metadata": {},
   "outputs": [],
   "source": [
    "sumsfun([0.0, 0.1, 0.2], f)"
   ]
  },
  {
   "cell_type": "code",
   "execution_count": null,
   "metadata": {},
   "outputs": [],
   "source": [
    "def compute_recursive_series(x0, fun, T=50):\n",
    "    a = [x0]\n",
    "    for t in range(T):\n",
    "        x0 = a[-1]\n",
    "        x = fun(x0)\n",
    "        a.append(x)\n",
    "    return a\n",
    "\n",
    "compute_recursive_series(0.3, f, T=5)"
   ]
  },
  {
   "cell_type": "markdown",
   "metadata": {},
   "source": [
    "There is another syntax to define a function, without giving it a name first: lambda functions. It is useful when passing a function as argument."
   ]
  },
  {
   "cell_type": "code",
   "execution_count": null,
   "metadata": {},
   "outputs": [],
   "source": [
    "sorted(range(6), key=lambda x: (-2)**x)"
   ]
  },
  {
   "cell_type": "markdown",
   "metadata": {},
   "source": [
    "Lambda functions are also useful to reduce quickly the number of arguments of a function (aka curryfication)"
   ]
  },
  {
   "cell_type": "code",
   "execution_count": null,
   "metadata": {},
   "outputs": [],
   "source": [
    "def logistic(μ,x): return μ*x*(1-x)\n",
    "# def chaotic(x): return logistic(3.7, x)\n",
    "# def convergent(x): return logistic(2.5, x)\n",
    "chaotic = lambda x: logistic(3.7, x)\n",
    "convergent = lambda x: logistic(2.5, x)"
   ]
  },
  {
   "cell_type": "code",
   "execution_count": null,
   "metadata": {},
   "outputs": [],
   "source": [
    "l = [compute_recursive_series(0.3,fun, T=20) for fun in [convergent, chaotic]]\n",
    "[*zip(*l)]"
   ]
  },
  {
   "cell_type": "code",
   "execution_count": null,
   "metadata": {},
   "outputs": [],
   "source": [
    "from matplotlib import pyplot as plt\n",
    "import numpy as np\n",
    "tab = np.array(l)\n",
    "plt.plot(tab[0,:-1],tab[0,1:])\n",
    "tab = np.array(l)\n",
    "plt.plot(tab[1,:-1],tab[1,1:])\n",
    "plt.plot(np.linspace(0,1),np.linspace(0,1))\n",
    "plt.xlabel(\"$x_n$\")\n",
    "plt.ylabel(\"$x_{n+1}$\")\n",
    "plt.grid()"
   ]
  },
  {
   "cell_type": "markdown",
   "metadata": {},
   "source": [
    "### Functions pass arguments by reference\n"
   ]
  },
  {
   "cell_type": "markdown",
   "metadata": {},
   "source": [
    "Most of the time, variable affectation just create a reference."
   ]
  },
  {
   "cell_type": "code",
   "execution_count": null,
   "metadata": {},
   "outputs": [],
   "source": [
    "a = [1,2,3]\n",
    "b = a\n",
    "a[1] = 0\n",
    "(a, b)"
   ]
  },
  {
   "cell_type": "markdown",
   "metadata": {},
   "source": [
    "To get a copy instead, one needs to specify it explicitly."
   ]
  },
  {
   "cell_type": "code",
   "execution_count": null,
   "metadata": {},
   "outputs": [],
   "source": [
    "import copy\n",
    "a = [1,2,3]\n",
    "b = copy.copy(a)\n",
    "a[1] = 0\n",
    "(a, b)"
   ]
  },
  {
   "cell_type": "markdown",
   "metadata": {},
   "source": [
    "Not that copy follows only one level of references. Use deepcopy for more safety."
   ]
  },
  {
   "cell_type": "code",
   "execution_count": null,
   "metadata": {},
   "outputs": [],
   "source": [
    "a0 = ['a','b']\n",
    "a = [a0, 1, 2]\n",
    "b = copy.copy(a)\n",
    "a[0][0] = 'ξ'\n",
    "a, b"
   ]
  },
  {
   "cell_type": "code",
   "execution_count": null,
   "metadata": {},
   "outputs": [],
   "source": [
    "a0 = ['a','b']\n",
    "a = [a0, 1, 2]\n",
    "b = copy.deepcopy(a)\n",
    "a[0][0] = 'ξ'\n",
    "a, b"
   ]
  },
  {
   "cell_type": "markdown",
   "metadata": {},
   "source": [
    "Arguments in a function are references towards the original object. No data is copied. It is then easy to construct functions with side-effects."
   ]
  },
  {
   "cell_type": "code",
   "execution_count": null,
   "metadata": {},
   "outputs": [],
   "source": [
    "def append_inplace(l1, obs):\n",
    "    l1.append(obs)\n",
    "    return l1\n",
    "l1, obs = ([1,2,3], 1.5)\n",
    "l2 = append_inplace(l1,obs)\n",
    "print(l2, l1)\n",
    "# note that l1 and l2 point to the same object\n",
    "l1[0] = 'hey'\n",
    "print(l2, l1)"
   ]
  },
  {
   "cell_type": "markdown",
   "metadata": {},
   "source": [
    "This behaviour might feel unnatural but is very sensible. For instance if the argument is a database of several gigabytes and one wants to write a function which will\n",
    "modify a few of its elements, it is not reasonable to copy the db in full."
   ]
  },
  {
   "cell_type": "markdown",
   "metadata": {},
   "source": [
    "## Objects"
   ]
  },
  {
   "cell_type": "markdown",
   "metadata": {},
   "source": [
    "Objects ?\n",
    "\n",
    "- can be passed around / referred too\n",
    "- have properties (data) and methods (functions) attached to them\n",
    "- inherit properties/methods from other objects\n"
   ]
  },
  {
   "cell_type": "markdown",
   "metadata": {},
   "source": [
    "Objects are defined by a class definition. By convention, classes names start with uppercase . To create an object, one calls the class name, possibly with additional arguments."
   ]
  },
  {
   "cell_type": "code",
   "execution_count": null,
   "metadata": {},
   "outputs": [],
   "source": [
    "class Dog:\n",
    "    name = \"May\" # class property\n",
    "\n",
    "d1 = Dog()\n",
    "d2 = Dog()\n",
    "\n",
    "print(f\"Class: d1->{type(d1)}, d2->{type(d2)}\")\n",
    "print(f\"Instance address: d2->{d1},{d2}\")\n"
   ]
  },
  {
   "cell_type": "markdown",
   "metadata": {},
   "source": [
    "Now, `d1` and `d2` are two different instances of the same class `Dog`. Since properties are mutable, instances can have different data attached to it."
   ]
  },
  {
   "cell_type": "code",
   "execution_count": null,
   "metadata": {},
   "outputs": [],
   "source": [
    "d1.name = \"Boris\"\n",
    "print([e.name for e in [d1,d2]])"
   ]
  },
  {
   "cell_type": "markdown",
   "metadata": {},
   "source": [
    "Methods are functions attached to a class / an instance. Their first argument is always an instance. The first argument can be used to acess data held by the instance."
   ]
  },
  {
   "cell_type": "code",
   "execution_count": null,
   "metadata": {},
   "outputs": [],
   "source": [
    "class Dog:\n",
    "    name = None # default value\n",
    "    def bark(self):\n",
    "        print(\"Wouf\")\n",
    "    def converse(self):\n",
    "        n = self.name\n",
    "        print(f\"Hi, my name is {n}. I'm committed to a strong and stable government.\")\n",
    "        \n",
    "d = Dog()\n",
    "d.bark()   # bark(d)\n",
    "d.converse()"
   ]
  },
  {
   "cell_type": "markdown",
   "metadata": {
    "toc-hr-collapsed": true
   },
   "source": [
    "### Constructor\n",
    "\n",
    "There is also a special method `__init__` called the constructor. When an object is created, it is called on the instance. This is useful in order to initialize parameters of the instance."
   ]
  },
  {
   "cell_type": "code",
   "execution_count": null,
   "metadata": {},
   "outputs": [],
   "source": [
    "class Calibration:\n",
    "    \n",
    "    def __init__(self, x=0.1, y=0.1, β=0.0):\n",
    "        if not (β>0) and (β<1):\n",
    "            raise Exception(\"Incorrect calibration\"})\n",
    "        self.x = x\n",
    "        self.y = y\n",
    "        self.β = β\n",
    "    "
   ]
  },
  {
   "cell_type": "code",
   "execution_count": null,
   "metadata": {},
   "outputs": [],
   "source": [
    "c1 = Calibration()\n",
    "c2 = Calibration(x=3, y=4)"
   ]
  },
  {
   "cell_type": "markdown",
   "metadata": {},
   "source": [
    "Two instances of the same class have the same method, but can hold different data. This can change the behaviour of these methods."
   ]
  },
  {
   "cell_type": "code",
   "execution_count": null,
   "metadata": {},
   "outputs": [],
   "source": [
    "# class Dog:\n",
    "    \n",
    "#     state = 'ok'\n",
    "    \n",
    "#     def bark(self):\n",
    "#         if self.state == 'ok':\n",
    "#             print(\"Wouf!\")\n",
    "#         else:\n",
    "#             print(\"Ahouuu!\")\n",
    "        \n",
    "# d = Dog()\n",
    "# d1 = Dog()\n",
    "# d1.state = 'hungry'\n",
    "\n",
    "# d.bark()\n",
    "# d1.bark()"
   ]
  },
  {
   "cell_type": "markdown",
   "metadata": {},
   "source": [
    "To write a function which will manipulate properties and methods\n",
    "of an object, it is not required to know its type in advance.\n",
    "The function will succeed as long as the required method exist, fail other wise.\n",
    "This is called \"Duck Typing\": if it walks like a duck, it must be a duck..."
   ]
  },
  {
   "cell_type": "code",
   "execution_count": null,
   "metadata": {},
   "outputs": [],
   "source": [
    "class Duck:\n",
    "    def walk(self): print(\"/-\\_/-\\_/\")\n",
    "        \n",
    "class Dog:\n",
    "    def walk(self): print(\"/-\\_/*\\_/\")\n",
    "    def bark(self): print(\"Wouf\")"
   ]
  },
  {
   "cell_type": "code",
   "execution_count": null,
   "metadata": {},
   "outputs": [],
   "source": [
    "animals = [C() for C in (Duck,Dog)]\n",
    "def go_in_the_park(animal):\n",
    "    for i in range(3): animal.walk()\n",
    "for a in animals:\n",
    "    go_in_the_park(a)"
   ]
  },
  {
   "cell_type": "markdown",
   "metadata": {},
   "source": [
    "#### Inheritance"
   ]
  },
  {
   "cell_type": "markdown",
   "metadata": {},
   "source": [
    "The whole point of classes, is that one can construct hierarchies\n",
    "of classes to avoid redefining the same methods many times. This is done by using inheritance."
   ]
  },
  {
   "cell_type": "code",
   "execution_count": null,
   "metadata": {},
   "outputs": [],
   "source": [
    "class Animal:\n",
    "    \n",
    "    def run(self): print(\"👣\"*4)\n",
    "\n",
    "class Dog(Animal):\n",
    "    def bark(self): print(\"Wouf\")\n",
    "        \n",
    "class Rabbit(Animal):\n",
    "    def run(self):\n",
    "        super().run() ; print( \"🐇\" )"
   ]
  },
  {
   "cell_type": "code",
   "execution_count": null,
   "metadata": {},
   "outputs": [],
   "source": [
    "Animal().run()\n",
    "dog = Dog()\n",
    "dog.run()\n",
    "dog.bark()\n",
    "Rabbit().run()"
   ]
  },
  {
   "cell_type": "markdown",
   "metadata": {},
   "source": [
    "In the above example, the Dog class inherits from inherits the method `run` from the Animal class: it doesn't need to be redefined again.\n",
    "Essentially, when `run(dog)` is called, since the method is not defined for a dog, python looks for the first ancestor of `dog` and applies the method of the ancestor."
   ]
  },
  {
   "cell_type": "markdown",
   "metadata": {},
   "source": [
    "#### Special methods"
   ]
  },
  {
   "cell_type": "markdown",
   "metadata": {},
   "source": [
    "By conventions methods starting with double lowercase `__` are hidden. They don't appear in tab completion. Several special methods can be reimplemented that way."
   ]
  },
  {
   "cell_type": "code",
   "execution_count": null,
   "metadata": {},
   "outputs": [],
   "source": [
    "class Calibration:\n",
    "    \n",
    "    def __init__(self, x=0.1, y=0.1, β=0.1):\n",
    "        if not (β>0) and (β<1):\n",
    "            raise Exception(\"Incorrect calibration\")\n",
    "        self.x = x\n",
    "        self.y = y\n",
    "        self.β = β\n",
    "    \n",
    "    def __str__(self):\n",
    "        return f\"Calibration(x={self.x},y={self.y}, β={self.β})\""
   ]
  },
  {
   "cell_type": "code",
   "execution_count": null,
   "metadata": {},
   "outputs": [],
   "source": [
    "str(Calibration() )\n"
   ]
  },
  {
   "cell_type": "markdown",
   "metadata": {},
   "source": [
    "#### complement"
   ]
  },
  {
   "cell_type": "markdown",
   "metadata": {},
   "source": [
    "Python is not 100% object oriented.\n",
    "- some objects cannot be subclassed\n",
    "- basic types behave sometimes funny (interning strings)"
   ]
  },
  {
   "cell_type": "code",
   "execution_count": null,
   "metadata": {},
   "outputs": [],
   "source": [
    "a = 'a'*4192\n",
    "b = 'a'*4192\n",
    "a is b"
   ]
  },
  {
   "cell_type": "code",
   "execution_count": null,
   "metadata": {},
   "outputs": [],
   "source": [
    "a = 'a'*512\n",
    "b = 'a'*512\n",
    "a is b"
   ]
  }
 ],
 "metadata": {
  "kernelspec": {
   "display_name": "Python 3",
   "language": "python",
   "name": "python3"
  },
  "language_info": {
   "codemirror_mode": {
    "name": "ipython",
    "version": 3
   },
   "file_extension": ".py",
   "mimetype": "text/x-python",
   "name": "python",
   "nbconvert_exporter": "python",
   "pygments_lexer": "ipython3",
   "version": "3.8.5-final"
  }
 },
 "nbformat": 4,
 "nbformat_minor": 4
}
