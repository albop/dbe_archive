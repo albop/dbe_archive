{
 "cells": [
  {
   "cell_type": "markdown",
   "id": "fitted-crazy",
   "metadata": {},
   "source": [
    "# Intro to sklearn"
   ]
  },
  {
   "cell_type": "markdown",
   "id": "advanced-syria",
   "metadata": {},
   "source": [
    "## Diabetes dataset"
   ]
  },
  {
   "cell_type": "markdown",
   "id": "impressive-compromise",
   "metadata": {},
   "source": [
    "__Import the diabetes dataset from sklearn. Describe it.__"
   ]
  },
  {
   "cell_type": "code",
   "execution_count": 55,
   "id": "driving-negative",
   "metadata": {},
   "outputs": [],
   "source": [
    "from sklearn.datasets import load_diabetes\n",
    "dataset = load_diabetes()\n",
    "X = dataset['data']\n",
    "y = dataset['target']"
   ]
  },
  {
   "cell_type": "markdown",
   "id": "designed-insertion",
   "metadata": {},
   "source": [
    "__Split the dataset into a training set (70%) and a test set (30%)__"
   ]
  },
  {
   "cell_type": "code",
   "execution_count": 71,
   "id": "elder-divorce",
   "metadata": {},
   "outputs": [],
   "source": [
    "\n",
    "\n"
   ]
  },
  {
   "cell_type": "markdown",
   "id": "familiar-spending",
   "metadata": {},
   "source": [
    "__Train a linear model (with intercept) on the training set__"
   ]
  },
  {
   "cell_type": "code",
   "execution_count": 56,
   "id": "controversial-colors",
   "metadata": {},
   "outputs": [],
   "source": []
  },
  {
   "cell_type": "markdown",
   "id": "catholic-representative",
   "metadata": {},
   "source": [
    "__Compute the fitting score on the test set. (Bonus: compare with your own computation of $R^2$)__"
   ]
  },
  {
   "cell_type": "code",
   "execution_count": null,
   "id": "korean-organizer",
   "metadata": {},
   "outputs": [],
   "source": []
  },
  {
   "cell_type": "markdown",
   "id": "exclusive-supervision",
   "metadata": {},
   "source": [
    "__Should we adjust the size of the test set? What would be the problem?__"
   ]
  },
  {
   "cell_type": "code",
   "execution_count": null,
   "id": "twelve-crystal",
   "metadata": {},
   "outputs": [],
   "source": []
  },
  {
   "cell_type": "markdown",
   "id": "vertical-granny",
   "metadata": {},
   "source": [
    "__Implement $k$-fold model with $k=3$.__"
   ]
  },
  {
   "cell_type": "code",
   "execution_count": null,
   "id": "selected-education",
   "metadata": {},
   "outputs": [],
   "source": []
  },
  {
   "cell_type": "markdown",
   "id": "amended-correction",
   "metadata": {},
   "source": [
    "__Bonus: use `statsmodels` (or `linearmodels`) to estimate the same linear model on the full sample. Is it always a superior method?__"
   ]
  },
  {
   "cell_type": "code",
   "execution_count": null,
   "id": "assisted-stephen",
   "metadata": {},
   "outputs": [],
   "source": []
  },
  {
   "cell_type": "markdown",
   "id": "annual-italic",
   "metadata": {},
   "source": [
    "## Sparse regressions on the Boston House Price Dataset\n"
   ]
  },
  {
   "cell_type": "markdown",
   "id": "convertible-mills",
   "metadata": {},
   "source": [
    "__Import the Boston House Price Dataset from sklearn. Describe it. Compute correlations.__"
   ]
  },
  {
   "cell_type": "code",
   "execution_count": null,
   "id": "contemporary-costa",
   "metadata": {},
   "outputs": [],
   "source": []
  },
  {
   "cell_type": "markdown",
   "id": "fantastic-margin",
   "metadata": {},
   "source": [
    "__Split the dataset into a training set (70%) and a test set (30%).__"
   ]
  },
  {
   "cell_type": "code",
   "execution_count": null,
   "id": "individual-virgin",
   "metadata": {},
   "outputs": [],
   "source": []
  },
  {
   "cell_type": "markdown",
   "id": "jewish-ethiopia",
   "metadata": {},
   "source": [
    "__Train a lasso model to predict house prices. Compute the score on the test set.__"
   ]
  },
  {
   "cell_type": "code",
   "execution_count": null,
   "id": "brutal-screening",
   "metadata": {},
   "outputs": [],
   "source": []
  },
  {
   "cell_type": "markdown",
   "id": "decimal-population",
   "metadata": {},
   "source": [
    "__Train a ridge model to predict house prices. Which one is better?__"
   ]
  },
  {
   "cell_type": "code",
   "execution_count": null,
   "id": "fantastic-rouge",
   "metadata": {},
   "outputs": [],
   "source": []
  },
  {
   "cell_type": "markdown",
   "id": "fantastic-pulse",
   "metadata": {},
   "source": [
    "__(bonus) Use statsmodels to build a model predicting house prices. What is the problem?__"
   ]
  },
  {
   "cell_type": "code",
   "execution_count": null,
   "id": "scheduled-timer",
   "metadata": {},
   "outputs": [],
   "source": []
  },
  {
   "cell_type": "markdown",
   "id": "moved-monroe",
   "metadata": {},
   "source": [
    "## Predicting Breast Cancer\n",
    "\n",
    "Sklearn includes the Winsconsin breast cancer database. It associates medical outcomes for tumor observation, with several characteristics. Can a machine learn how to predict whether a cancer is benign or malignant ?"
   ]
  },
  {
   "cell_type": "markdown",
   "id": "recovered-version",
   "metadata": {},
   "source": [
    "__Import the Breast Cancer Dataset from sklearn. Describe it.__"
   ]
  },
  {
   "cell_type": "code",
   "execution_count": null,
   "id": "inclusive-robin",
   "metadata": {},
   "outputs": [],
   "source": []
  },
  {
   "cell_type": "markdown",
   "id": "variable-comparative",
   "metadata": {},
   "source": [
    "__Properly train a linear logistic regression to predict cancer morbidity. (bonus: use k-fold validation)__"
   ]
  },
  {
   "cell_type": "code",
   "execution_count": null,
   "id": "mineral-compact",
   "metadata": {},
   "outputs": [],
   "source": []
  },
  {
   "cell_type": "markdown",
   "id": "afraid-ghana",
   "metadata": {},
   "source": [
    "__Try with other classifiers. Which one is best?__"
   ]
  },
  {
   "cell_type": "code",
   "execution_count": null,
   "id": "billion-banana",
   "metadata": {},
   "outputs": [],
   "source": []
  }
 ],
 "metadata": {
  "kernelspec": {
   "display_name": "Python 3",
   "language": "python",
   "name": "python3"
  },
  "language_info": {
   "codemirror_mode": {
    "name": "ipython",
    "version": 3
   },
   "file_extension": ".py",
   "mimetype": "text/x-python",
   "name": "python",
   "nbconvert_exporter": "python",
   "pygments_lexer": "ipython3",
   "version": "3.8.5"
  }
 },
 "nbformat": 4,
 "nbformat_minor": 5
}
