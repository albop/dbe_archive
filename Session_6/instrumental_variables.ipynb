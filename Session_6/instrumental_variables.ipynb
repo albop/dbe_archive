{
 "cells": [
  {
   "cell_type": "markdown",
   "id": "everyday-variable",
   "metadata": {},
   "source": [
    "# Instrumental variables"
   ]
  },
  {
   "cell_type": "markdown",
   "id": "beginning-terrorism",
   "metadata": {},
   "source": [
    "## Functions and Loops\n",
    "\n",
    "Go back to the first notebook. Learn how to write functions and loops."
   ]
  },
  {
   "cell_type": "markdown",
   "id": "agricultural-precipitation",
   "metadata": {},
   "source": [
    "Lists and tuples"
   ]
  },
  {
   "cell_type": "code",
   "execution_count": 6,
   "id": "meaningful-diesel",
   "metadata": {},
   "outputs": [
    {
     "data": {
      "text/plain": [
       "[0, 1, 2, 3, \"let's start\"]"
      ]
     },
     "execution_count": 6,
     "metadata": {},
     "output_type": "execute_result"
    }
   ],
   "source": [
    "l1 = [0,1,2,3,\"let's start\"] # a list: a mutable, ordered collection\n",
    "l1"
   ]
  },
  {
   "cell_type": "code",
   "execution_count": 7,
   "id": "nutritional-following",
   "metadata": {},
   "outputs": [],
   "source": [
    "l1[1] = 34"
   ]
  },
  {
   "cell_type": "code",
   "execution_count": 8,
   "id": "incident-making",
   "metadata": {},
   "outputs": [
    {
     "data": {
      "text/plain": [
       "[0, 34, 2, 3, \"let's start\"]"
      ]
     },
     "execution_count": 8,
     "metadata": {},
     "output_type": "execute_result"
    }
   ],
   "source": [
    "l1"
   ]
  },
  {
   "cell_type": "code",
   "execution_count": 9,
   "id": "realistic-reasoning",
   "metadata": {},
   "outputs": [
    {
     "data": {
      "text/plain": [
       "(0, 1, 2, 3, \"let's start\")"
      ]
     },
     "execution_count": 9,
     "metadata": {},
     "output_type": "execute_result"
    }
   ],
   "source": [
    "t = (0,1,2,3,\"let's start\") # a list: an immutable, ordered collection\n",
    "t"
   ]
  },
  {
   "cell_type": "code",
   "execution_count": 10,
   "id": "competitive-european",
   "metadata": {},
   "outputs": [
    {
     "ename": "TypeError",
     "evalue": "'tuple' object does not support item assignment",
     "output_type": "error",
     "traceback": [
      "\u001b[0;31m---------------------------------------------------------------------------\u001b[0m",
      "\u001b[0;31mTypeError\u001b[0m                                 Traceback (most recent call last)",
      "\u001b[0;32m<ipython-input-10-7887c2b2ef26>\u001b[0m in \u001b[0;36m<module>\u001b[0;34m\u001b[0m\n\u001b[0;32m----> 1\u001b[0;31m \u001b[0mt\u001b[0m\u001b[0;34m[\u001b[0m\u001b[0;36m1\u001b[0m\u001b[0;34m]\u001b[0m \u001b[0;34m=\u001b[0m \u001b[0;36m34\u001b[0m\u001b[0;34m\u001b[0m\u001b[0;34m\u001b[0m\u001b[0m\n\u001b[0m",
      "\u001b[0;31mTypeError\u001b[0m: 'tuple' object does not support item assignment"
     ]
    }
   ],
   "source": [
    "t[1] = 34"
   ]
  },
  {
   "cell_type": "code",
   "execution_count": 13,
   "id": "approved-guitar",
   "metadata": {},
   "outputs": [
    {
     "name": "stdout",
     "output_type": "stream",
     "text": [
      "0\n",
      "H\n",
      "1\n",
      "H\n",
      "2\n",
      "H\n",
      "3\n",
      "H\n",
      "let's start\n",
      "H\n"
     ]
    }
   ],
   "source": [
    "for i in t:                # blocks start with colon\n",
    "    # content of the loop  # block is *indented*\n",
    "    print(i)\n",
    "    print(\"H\")"
   ]
  },
  {
   "cell_type": "code",
   "execution_count": 16,
   "id": "persistent-operation",
   "metadata": {},
   "outputs": [
    {
     "name": "stdout",
     "output_type": "stream",
     "text": [
      "0\n",
      "1\n",
      "2\n",
      "3\n",
      "let's start\n",
      "H\n"
     ]
    }
   ],
   "source": [
    "for i in t:                # blocks start with colon\n",
    "    # content of the loop  # block is *indented*\n",
    "    print(i)\n",
    "print(\"H\")                 # statement is unindented"
   ]
  },
  {
   "cell_type": "code",
   "execution_count": 18,
   "id": "conservative-breakdown",
   "metadata": {},
   "outputs": [
    {
     "name": "stdout",
     "output_type": "stream",
     "text": [
      "0\n",
      "1\n",
      "2\n",
      "3\n",
      "4\n"
     ]
    }
   ],
   "source": [
    "# you can stop a loop before the end:\n",
    "for i in range(0,10):\n",
    "    if (i>=5):   # blocks after conditional statements must also be indented\n",
    "        break\n",
    "    print(i)"
   ]
  },
  {
   "cell_type": "code",
   "execution_count": null,
   "id": "dental-equality",
   "metadata": {},
   "outputs": [],
   "source": [
    "# conditional statements\n",
    "if 2<1:\n",
    "    print(\"I'll pay you\")\n",
    "else:\n",
    "    print(\"Were good\")"
   ]
  },
  {
   "cell_type": "code",
   "execution_count": 20,
   "id": "built-prague",
   "metadata": {},
   "outputs": [
    {
     "name": "stdout",
     "output_type": "stream",
     "text": [
      "1\n",
      "2\n",
      "5\n",
      "26\n",
      "677\n"
     ]
    }
   ],
   "source": [
    "# while loop\n",
    "t = 0\n",
    "while (t<100):\n",
    "    t = t**2 + 1\n",
    "    print(t)"
   ]
  },
  {
   "cell_type": "markdown",
   "id": "further-level",
   "metadata": {},
   "source": [
    "functions"
   ]
  },
  {
   "cell_type": "code",
   "execution_count": 25,
   "id": "sorted-ethics",
   "metadata": {},
   "outputs": [],
   "source": [
    "from matplotlib import pyplot as plt\n",
    "import numpy as np\n"
   ]
  },
  {
   "cell_type": "code",
   "execution_count": 29,
   "id": "ruled-tucson",
   "metadata": {},
   "outputs": [
    {
     "data": {
      "text/plain": [
       "Text(0.5, 1.0, 'sin(2x)')"
      ]
     },
     "execution_count": 29,
     "metadata": {},
     "output_type": "execute_result"
    },
    {
     "data": {
      "image/png": "[encoded data removed]",
      "text/plain": [
       "<Figure size 432x288 with 1 Axes>"
      ]
     },
     "metadata": {
      "needs_background": "light"
     },
     "output_type": "display_data"
    }
   ],
   "source": [
    "x = np.linspace(-1,1,100)\n",
    "y = np.sin(x*2)\n",
    "plt.plot(x,y)\n",
    "plt.title(\"sin(2x)\")"
   ]
  },
  {
   "cell_type": "code",
   "execution_count": 30,
   "id": "ahead-freeware",
   "metadata": {},
   "outputs": [
    {
     "data": {
      "text/plain": [
       "Text(0.5, 1.0, 'sin(3x)')"
      ]
     },
     "execution_count": 30,
     "metadata": {},
     "output_type": "execute_result"
    },
    {
     "data": {
      "image/png": "[encoded data removed]",
      "text/plain": [
       "<Figure size 432x288 with 1 Axes>"
      ]
     },
     "metadata": {
      "needs_background": "light"
     },
     "output_type": "display_data"
    }
   ],
   "source": [
    "x = np.linspace(-1,1,100)\n",
    "y = np.sin(x*3)\n",
    "plt.plot(x,y)\n",
    "plt.title(\"sin(3x)\")"
   ]
  },
  {
   "cell_type": "code",
   "execution_count": 31,
   "id": "governmental-accused",
   "metadata": {},
   "outputs": [
    {
     "data": {
      "text/plain": [
       "Text(0.5, 1.0, 'sin(4x)')"
      ]
     },
     "execution_count": 31,
     "metadata": {},
     "output_type": "execute_result"
    },
    {
     "data": {
      "image/png": "[encoded data removed]",
      "text/plain": [
       "<Figure size 432x288 with 1 Axes>"
      ]
     },
     "metadata": {
      "needs_background": "light"
     },
     "output_type": "display_data"
    }
   ],
   "source": [
    "x = np.linspace(-1,1,100)\n",
    "y = np.sin(x*4)\n",
    "plt.plot(x,y)\n",
    "plt.title(\"sin(4x)\")"
   ]
  },
  {
   "cell_type": "code",
   "execution_count": 40,
   "id": "designing-exclusion",
   "metadata": {},
   "outputs": [],
   "source": [
    "def make_sin(k):\n",
    "    x = np.linspace(-1,1,100)\n",
    "    y = np.sin(x*k)\n",
    "    plt.plot(x,y,label=f\"sin({k}x)\")"
   ]
  },
  {
   "cell_type": "code",
   "execution_count": 41,
   "id": "competitive-colon",
   "metadata": {},
   "outputs": [
    {
     "data": {
      "text/plain": [
       "<matplotlib.legend.Legend at 0x7fccd9c6eee0>"
      ]
     },
     "execution_count": 41,
     "metadata": {},
     "output_type": "execute_result"
    },
    {
     "data": {
      "image/png": "[encoded data removed]",
      "text/plain": [
       "<Figure size 432x288 with 1 Axes>"
      ]
     },
     "metadata": {
      "needs_background": "light"
     },
     "output_type": "display_data"
    }
   ],
   "source": [
    "make_sin(2)\n",
    "make_sin(3)\n",
    "make_sin(4)\n",
    "plt.legend()"
   ]
  },
  {
   "cell_type": "code",
   "execution_count": 42,
   "id": "objective-transfer",
   "metadata": {},
   "outputs": [],
   "source": [
    "def make_sin(k):\n",
    "    \"\"\"Plots sin(k x)\n",
    "    k: value of k\n",
    "    \"\"\"\n",
    "    x = np.linspace(-1,1,100) # comments\n",
    "    y = np.sin(x*k)\n",
    "    plt.plot(x,y,label=f\"sin({k}x)\")"
   ]
  },
  {
   "cell_type": "code",
   "execution_count": 43,
   "id": "joint-closure",
   "metadata": {},
   "outputs": [
    {
     "data": {
      "text/plain": [
       "\u001b[0;31mSignature:\u001b[0m \u001b[0mmake_sin\u001b[0m\u001b[0;34m(\u001b[0m\u001b[0mk\u001b[0m\u001b[0;34m)\u001b[0m\u001b[0;34m\u001b[0m\u001b[0;34m\u001b[0m\u001b[0m\n",
       "\u001b[0;31mDocstring:\u001b[0m\n",
       "Plots sin(k x)\n",
       "k: value of k\n",
       "\u001b[0;31mFile:\u001b[0m      ~/Teaching/dbe/Session_6/<ipython-input-42-a6bb8432d09a>\n",
       "\u001b[0;31mType:\u001b[0m      function\n"
      ]
     },
     "metadata": {},
     "output_type": "display_data"
    }
   ],
   "source": [
    "make_sin?"
   ]
  },
  {
   "cell_type": "code",
   "execution_count": 46,
   "id": "international-cooperative",
   "metadata": {},
   "outputs": [],
   "source": [
    "def make_sin_2(k, l): # several arguments separated by comma\n",
    "    \"\"\"Plots sin(k x)\n",
    "    k: value of k\n",
    "    \"\"\"\n",
    "    x = np.linspace(-1,1,100) # comments\n",
    "    y = np.sin((x-l)*k)\n",
    "    plt.plot(x,y,label=f\"sin({k}x)\")"
   ]
  },
  {
   "cell_type": "code",
   "execution_count": 47,
   "id": "conditional-validation",
   "metadata": {},
   "outputs": [
    {
     "data": {
      "image/png": "[encoded data removed]",
      "text/plain": [
       "<Figure size 432x288 with 1 Axes>"
      ]
     },
     "metadata": {
      "needs_background": "light"
     },
     "output_type": "display_data"
    }
   ],
   "source": [
    "make_sin_2(2,0)\n",
    "make_sin_2(2,0.1)\n",
    "make_sin_2(2,0.2)"
   ]
  },
  {
   "cell_type": "code",
   "execution_count": 53,
   "id": "surrounded-vegetation",
   "metadata": {},
   "outputs": [],
   "source": [
    "def make_sin_3(k, l=0, grid=True): # several arguments separated by comma\n",
    "    \"\"\"Plots sin(k x)\n",
    "    k: value of k\n",
    "    \"\"\"\n",
    "    x = np.linspace(-1,1,100) # comments\n",
    "    y = np.sin((x-l)*k)\n",
    "    plt.plot(x,y,label=f\"sin({k}x)\")\n",
    "    plt.grid(grid)"
   ]
  },
  {
   "cell_type": "code",
   "execution_count": 54,
   "id": "casual-marshall",
   "metadata": {},
   "outputs": [
    {
     "data": {
      "image/png": "[encoded data removed]",
      "text/plain": [
       "<Figure size 432x288 with 1 Axes>"
      ]
     },
     "metadata": {
      "needs_background": "light"
     },
     "output_type": "display_data"
    }
   ],
   "source": [
    "make_sin_3(2)\n",
    "make_sin_3(2, l=0.1)"
   ]
  },
  {
   "cell_type": "code",
   "execution_count": 65,
   "id": "entitled-connecticut",
   "metadata": {},
   "outputs": [],
   "source": [
    "def fobj(k):\n",
    "    return k**2+1"
   ]
  },
  {
   "cell_type": "code",
   "execution_count": 66,
   "id": "changing-notebook",
   "metadata": {},
   "outputs": [
    {
     "data": {
      "text/plain": [
       "<function __main__.fobj(k)>"
      ]
     },
     "execution_count": 66,
     "metadata": {},
     "output_type": "execute_result"
    }
   ],
   "source": [
    "fobj  # fobj is a \"function object\""
   ]
  },
  {
   "cell_type": "code",
   "execution_count": 67,
   "id": "delayed-hazard",
   "metadata": {},
   "outputs": [
    {
     "data": {
      "text/plain": [
       "10"
      ]
     },
     "execution_count": 67,
     "metadata": {},
     "output_type": "execute_result"
    }
   ],
   "source": [
    "fobj(3)  # it can be called with parenthesess"
   ]
  },
  {
   "cell_type": "code",
   "execution_count": 69,
   "id": "ordered-armenia",
   "metadata": {},
   "outputs": [],
   "source": [
    "# functions can be passed as arguments\n",
    "def compute_several_times(ppp, k):\n",
    "    for i in range(k):\n",
    "        print(ppp(i))\n",
    "        \n"
   ]
  },
  {
   "cell_type": "code",
   "execution_count": 70,
   "id": "chemical-volume",
   "metadata": {},
   "outputs": [
    {
     "name": "stdout",
     "output_type": "stream",
     "text": [
      "1\n",
      "2\n",
      "5\n"
     ]
    }
   ],
   "source": [
    "compute_several_times(fobj, 3)"
   ]
  },
  {
   "cell_type": "markdown",
   "id": "intellectual-address",
   "metadata": {},
   "source": [
    "## Baby example on mock dataset"
   ]
  },
  {
   "cell_type": "markdown",
   "id": "tough-recognition",
   "metadata": {},
   "source": [
    "### Constructing the dataset\n",
    "\n",
    "Create four random series of length $N=1000$\n",
    "\n",
    "- $x$: education\n",
    "- $y$: salary\n",
    "- $z$: ambition\n",
    "- $q$: early smoking \n",
    "\n",
    "such that:\n",
    "\n",
    "1. $x$ and $z$ cause $y$\n",
    "2. $z$ causes $x$\n",
    "3. $q$ is correlated with $x$, not with $z$\n",
    "\n",
    "(all relations are linear, add random shocks where needed)\n",
    "\n",
    "Create a dataset `df`\n"
   ]
  },
  {
   "cell_type": "code",
   "execution_count": null,
   "id": "brief-colon",
   "metadata": {},
   "outputs": [],
   "source": []
  },
  {
   "cell_type": "markdown",
   "id": "fifth-textbook",
   "metadata": {},
   "source": [
    "### Naive approach\n",
    "\n",
    "Run a regression to estimate the effect of $x$ on $y$. Control by $z$.\n",
    "What happens ?"
   ]
  },
  {
   "cell_type": "code",
   "execution_count": null,
   "id": "attractive-walter",
   "metadata": {},
   "outputs": [],
   "source": []
  },
  {
   "cell_type": "markdown",
   "id": "younger-survival",
   "metadata": {},
   "source": [
    "### Instrumental variable\n",
    "\n",
    "Use $q$ to instrument the effect of x on y. Comment."
   ]
  },
  {
   "cell_type": "markdown",
   "id": "executive-haven",
   "metadata": {},
   "source": [
    "## Return on Education"
   ]
  },
  {
   "cell_type": "markdown",
   "id": "unauthorized-telescope",
   "metadata": {},
   "source": [
    "We follow the excellent R [tutorial](https://www.econometrics-with-r.org/12-6-exercises-10.html) from the (excellent) *Econometrics with R* book.\n",
    "\n",
    "The goal is to measure the effect of schooling on earnings, while correcting the endogeneity bias by using distance to college as an instrument."
   ]
  },
  {
   "cell_type": "markdown",
   "id": "contrary-elephant",
   "metadata": {},
   "source": [
    "__Download the college distance and make a nice dataframe. Discribe the dataset. Plot an histogram of distance.__\n",
    "\n",
    "https://vincentarelbundock.github.io/Rdatasets/datasets.html"
   ]
  },
  {
   "cell_type": "code",
   "execution_count": 1,
   "id": "continued-deviation",
   "metadata": {},
   "outputs": [],
   "source": [
    "url = \"https://vincentarelbundock.github.io/Rdatasets/csv/AER/CollegeDistance.csv\"\n",
    "import pandas as pd"
   ]
  },
  {
   "cell_type": "code",
   "execution_count": 2,
   "id": "falling-range",
   "metadata": {},
   "outputs": [],
   "source": [
    "df = pd.read_csv(url)"
   ]
  },
  {
   "cell_type": "code",
   "execution_count": 3,
   "id": "dedicated-stone",
   "metadata": {},
   "outputs": [
    {
     "data": {
      "text/html": [
       "<div>\n",
       "<style scoped>\n",
       "    .dataframe tbody tr th:only-of-type {\n",
       "        vertical-align: middle;\n",
       "    }\n",
       "\n",
       "    .dataframe tbody tr th {\n",
       "        vertical-align: top;\n",
       "    }\n",
       "\n",
       "    .dataframe thead th {\n",
       "        text-align: right;\n",
       "    }\n",
       "</style>\n",
       "<table border=\"1\" class=\"dataframe\">\n",
       "  <thead>\n",
       "    <tr style=\"text-align: right;\">\n",
       "      <th></th>\n",
       "      <th>Unnamed: 0</th>\n",
       "      <th>gender</th>\n",
       "      <th>ethnicity</th>\n",
       "      <th>score</th>\n",
       "      <th>fcollege</th>\n",
       "      <th>mcollege</th>\n",
       "      <th>home</th>\n",
       "      <th>urban</th>\n",
       "      <th>unemp</th>\n",
       "      <th>wage</th>\n",
       "      <th>distance</th>\n",
       "      <th>tuition</th>\n",
       "      <th>education</th>\n",
       "      <th>income</th>\n",
       "      <th>region</th>\n",
       "    </tr>\n",
       "  </thead>\n",
       "  <tbody>\n",
       "    <tr>\n",
       "      <th>0</th>\n",
       "      <td>1</td>\n",
       "      <td>male</td>\n",
       "      <td>other</td>\n",
       "      <td>39.150002</td>\n",
       "      <td>yes</td>\n",
       "      <td>no</td>\n",
       "      <td>yes</td>\n",
       "      <td>yes</td>\n",
       "      <td>6.2</td>\n",
       "      <td>8.09</td>\n",
       "      <td>0.2</td>\n",
       "      <td>0.88915</td>\n",
       "      <td>12</td>\n",
       "      <td>high</td>\n",
       "      <td>other</td>\n",
       "    </tr>\n",
       "    <tr>\n",
       "      <th>1</th>\n",
       "      <td>2</td>\n",
       "      <td>female</td>\n",
       "      <td>other</td>\n",
       "      <td>48.869999</td>\n",
       "      <td>no</td>\n",
       "      <td>no</td>\n",
       "      <td>yes</td>\n",
       "      <td>yes</td>\n",
       "      <td>6.2</td>\n",
       "      <td>8.09</td>\n",
       "      <td>0.2</td>\n",
       "      <td>0.88915</td>\n",
       "      <td>12</td>\n",
       "      <td>low</td>\n",
       "      <td>other</td>\n",
       "    </tr>\n",
       "    <tr>\n",
       "      <th>2</th>\n",
       "      <td>3</td>\n",
       "      <td>male</td>\n",
       "      <td>other</td>\n",
       "      <td>48.740002</td>\n",
       "      <td>no</td>\n",
       "      <td>no</td>\n",
       "      <td>yes</td>\n",
       "      <td>yes</td>\n",
       "      <td>6.2</td>\n",
       "      <td>8.09</td>\n",
       "      <td>0.2</td>\n",
       "      <td>0.88915</td>\n",
       "      <td>12</td>\n",
       "      <td>low</td>\n",
       "      <td>other</td>\n",
       "    </tr>\n",
       "    <tr>\n",
       "      <th>3</th>\n",
       "      <td>4</td>\n",
       "      <td>male</td>\n",
       "      <td>afam</td>\n",
       "      <td>40.400002</td>\n",
       "      <td>no</td>\n",
       "      <td>no</td>\n",
       "      <td>yes</td>\n",
       "      <td>yes</td>\n",
       "      <td>6.2</td>\n",
       "      <td>8.09</td>\n",
       "      <td>0.2</td>\n",
       "      <td>0.88915</td>\n",
       "      <td>12</td>\n",
       "      <td>low</td>\n",
       "      <td>other</td>\n",
       "    </tr>\n",
       "    <tr>\n",
       "      <th>4</th>\n",
       "      <td>5</td>\n",
       "      <td>female</td>\n",
       "      <td>other</td>\n",
       "      <td>40.480000</td>\n",
       "      <td>no</td>\n",
       "      <td>no</td>\n",
       "      <td>no</td>\n",
       "      <td>yes</td>\n",
       "      <td>5.6</td>\n",
       "      <td>8.09</td>\n",
       "      <td>0.4</td>\n",
       "      <td>0.88915</td>\n",
       "      <td>13</td>\n",
       "      <td>low</td>\n",
       "      <td>other</td>\n",
       "    </tr>\n",
       "  </tbody>\n",
       "</table>\n",
       "</div>"
      ],
      "text/plain": [
       "   Unnamed: 0  gender ethnicity      score fcollege mcollege home urban  \\\n",
       "0           1    male     other  39.150002      yes       no  yes   yes   \n",
       "1           2  female     other  48.869999       no       no  yes   yes   \n",
       "2           3    male     other  48.740002       no       no  yes   yes   \n",
       "3           4    male      afam  40.400002       no       no  yes   yes   \n",
       "4           5  female     other  40.480000       no       no   no   yes   \n",
       "\n",
       "   unemp  wage  distance  tuition  education income region  \n",
       "0    6.2  8.09       0.2  0.88915         12   high  other  \n",
       "1    6.2  8.09       0.2  0.88915         12    low  other  \n",
       "2    6.2  8.09       0.2  0.88915         12    low  other  \n",
       "3    6.2  8.09       0.2  0.88915         12    low  other  \n",
       "4    5.6  8.09       0.4  0.88915         13    low  other  "
      ]
     },
     "execution_count": 3,
     "metadata": {},
     "output_type": "execute_result"
    }
   ],
   "source": [
    "df.head()"
   ]
  },
  {
   "cell_type": "code",
   "execution_count": 4,
   "id": "adequate-copying",
   "metadata": {},
   "outputs": [
    {
     "data": {
      "text/html": [
       "<div>\n",
       "<style scoped>\n",
       "    .dataframe tbody tr th:only-of-type {\n",
       "        vertical-align: middle;\n",
       "    }\n",
       "\n",
       "    .dataframe tbody tr th {\n",
       "        vertical-align: top;\n",
       "    }\n",
       "\n",
       "    .dataframe thead th {\n",
       "        text-align: right;\n",
       "    }\n",
       "</style>\n",
       "<table border=\"1\" class=\"dataframe\">\n",
       "  <thead>\n",
       "    <tr style=\"text-align: right;\">\n",
       "      <th></th>\n",
       "      <th>Unnamed: 0</th>\n",
       "      <th>score</th>\n",
       "      <th>unemp</th>\n",
       "      <th>wage</th>\n",
       "      <th>distance</th>\n",
       "      <th>tuition</th>\n",
       "      <th>education</th>\n",
       "    </tr>\n",
       "  </thead>\n",
       "  <tbody>\n",
       "    <tr>\n",
       "      <th>count</th>\n",
       "      <td>4739.000000</td>\n",
       "      <td>4739.000000</td>\n",
       "      <td>4739.000000</td>\n",
       "      <td>4739.000000</td>\n",
       "      <td>4739.000000</td>\n",
       "      <td>4739.000000</td>\n",
       "      <td>4739.000000</td>\n",
       "    </tr>\n",
       "    <tr>\n",
       "      <th>mean</th>\n",
       "      <td>3954.638953</td>\n",
       "      <td>50.889029</td>\n",
       "      <td>7.597215</td>\n",
       "      <td>9.500506</td>\n",
       "      <td>1.802870</td>\n",
       "      <td>0.814608</td>\n",
       "      <td>13.807765</td>\n",
       "    </tr>\n",
       "    <tr>\n",
       "      <th>std</th>\n",
       "      <td>5953.827761</td>\n",
       "      <td>8.701910</td>\n",
       "      <td>2.763581</td>\n",
       "      <td>1.343067</td>\n",
       "      <td>2.297128</td>\n",
       "      <td>0.339504</td>\n",
       "      <td>1.789107</td>\n",
       "    </tr>\n",
       "    <tr>\n",
       "      <th>min</th>\n",
       "      <td>1.000000</td>\n",
       "      <td>28.950001</td>\n",
       "      <td>1.400000</td>\n",
       "      <td>6.590000</td>\n",
       "      <td>0.000000</td>\n",
       "      <td>0.257510</td>\n",
       "      <td>12.000000</td>\n",
       "    </tr>\n",
       "    <tr>\n",
       "      <th>25%</th>\n",
       "      <td>1185.500000</td>\n",
       "      <td>43.924999</td>\n",
       "      <td>5.900000</td>\n",
       "      <td>8.850000</td>\n",
       "      <td>0.400000</td>\n",
       "      <td>0.484990</td>\n",
       "      <td>12.000000</td>\n",
       "    </tr>\n",
       "    <tr>\n",
       "      <th>50%</th>\n",
       "      <td>2370.000000</td>\n",
       "      <td>51.189999</td>\n",
       "      <td>7.100000</td>\n",
       "      <td>9.680000</td>\n",
       "      <td>1.000000</td>\n",
       "      <td>0.824480</td>\n",
       "      <td>13.000000</td>\n",
       "    </tr>\n",
       "    <tr>\n",
       "      <th>75%</th>\n",
       "      <td>3554.500000</td>\n",
       "      <td>57.769999</td>\n",
       "      <td>8.900000</td>\n",
       "      <td>10.150000</td>\n",
       "      <td>2.500000</td>\n",
       "      <td>1.127020</td>\n",
       "      <td>16.000000</td>\n",
       "    </tr>\n",
       "    <tr>\n",
       "      <th>max</th>\n",
       "      <td>37810.000000</td>\n",
       "      <td>72.809998</td>\n",
       "      <td>24.900000</td>\n",
       "      <td>12.960000</td>\n",
       "      <td>20.000000</td>\n",
       "      <td>1.404160</td>\n",
       "      <td>18.000000</td>\n",
       "    </tr>\n",
       "  </tbody>\n",
       "</table>\n",
       "</div>"
      ],
      "text/plain": [
       "         Unnamed: 0        score        unemp         wage     distance  \\\n",
       "count   4739.000000  4739.000000  4739.000000  4739.000000  4739.000000   \n",
       "mean    3954.638953    50.889029     7.597215     9.500506     1.802870   \n",
       "std     5953.827761     8.701910     2.763581     1.343067     2.297128   \n",
       "min        1.000000    28.950001     1.400000     6.590000     0.000000   \n",
       "25%     1185.500000    43.924999     5.900000     8.850000     0.400000   \n",
       "50%     2370.000000    51.189999     7.100000     9.680000     1.000000   \n",
       "75%     3554.500000    57.769999     8.900000    10.150000     2.500000   \n",
       "max    37810.000000    72.809998    24.900000    12.960000    20.000000   \n",
       "\n",
       "           tuition    education  \n",
       "count  4739.000000  4739.000000  \n",
       "mean      0.814608    13.807765  \n",
       "std       0.339504     1.789107  \n",
       "min       0.257510    12.000000  \n",
       "25%       0.484990    12.000000  \n",
       "50%       0.824480    13.000000  \n",
       "75%       1.127020    16.000000  \n",
       "max       1.404160    18.000000  "
      ]
     },
     "execution_count": 4,
     "metadata": {},
     "output_type": "execute_result"
    }
   ],
   "source": [
    "df.describe()"
   ]
  },
  {
   "cell_type": "code",
   "execution_count": 5,
   "id": "mounted-climate",
   "metadata": {},
   "outputs": [],
   "source": [
    "from matplotlib import pyplot as plt\n",
    "import numpy as np"
   ]
  },
  {
   "cell_type": "code",
   "execution_count": 6,
   "id": "buried-delhi",
   "metadata": {},
   "outputs": [
    {
     "data": {
      "text/plain": [
       "[<matplotlib.lines.Line2D at 0x7f852506dfa0>]"
      ]
     },
     "execution_count": 6,
     "metadata": {},
     "output_type": "execute_result"
    },
    {
     "data": {
      "image/png": "[encoded data removed]",
      "text/plain": [
       "<Figure size 432x288 with 1 Axes>"
      ]
     },
     "metadata": {
      "needs_background": "light"
     },
     "output_type": "display_data"
    }
   ],
   "source": [
    "plt.plot(df['education'], np.log(df['wage']), 'o', alpha=0.1)"
   ]
  },
  {
   "cell_type": "code",
   "execution_count": 7,
   "id": "basic-charleston",
   "metadata": {},
   "outputs": [
    {
     "data": {
      "text/html": [
       "<div>\n",
       "<style scoped>\n",
       "    .dataframe tbody tr th:only-of-type {\n",
       "        vertical-align: middle;\n",
       "    }\n",
       "\n",
       "    .dataframe tbody tr th {\n",
       "        vertical-align: top;\n",
       "    }\n",
       "\n",
       "    .dataframe thead th {\n",
       "        text-align: right;\n",
       "    }\n",
       "</style>\n",
       "<table border=\"1\" class=\"dataframe\">\n",
       "  <thead>\n",
       "    <tr style=\"text-align: right;\">\n",
       "      <th></th>\n",
       "      <th>education</th>\n",
       "      <th>wage</th>\n",
       "    </tr>\n",
       "  </thead>\n",
       "  <tbody>\n",
       "    <tr>\n",
       "      <th>education</th>\n",
       "      <td>1.000000</td>\n",
       "      <td>0.023858</td>\n",
       "    </tr>\n",
       "    <tr>\n",
       "      <th>wage</th>\n",
       "      <td>0.023858</td>\n",
       "      <td>1.000000</td>\n",
       "    </tr>\n",
       "  </tbody>\n",
       "</table>\n",
       "</div>"
      ],
      "text/plain": [
       "           education      wage\n",
       "education   1.000000  0.023858\n",
       "wage        0.023858  1.000000"
      ]
     },
     "execution_count": 7,
     "metadata": {},
     "output_type": "execute_result"
    }
   ],
   "source": [
    "df[['education','wage']].corr()"
   ]
  },
  {
   "cell_type": "markdown",
   "id": "enabling-vinyl",
   "metadata": {},
   "source": [
    "Plot the histogram of distance:"
   ]
  },
  {
   "cell_type": "code",
   "execution_count": 9,
   "id": "palestinian-month",
   "metadata": {},
   "outputs": [
    {
     "data": {
      "text/plain": [
       "(array([3241.,  831.,  399.,  156.,   45.,   17.,   10.,   19.,   17.,\n",
       "           4.]),\n",
       " array([ 0.,  2.,  4.,  6.,  8., 10., 12., 14., 16., 18., 20.]),\n",
       " <BarContainer object of 10 artists>)"
      ]
     },
     "execution_count": 9,
     "metadata": {},
     "output_type": "execute_result"
    },
    {
     "data": {
      "image/png": "[encoded data removed]",
      "text/plain": [
       "<Figure size 432x288 with 1 Axes>"
      ]
     },
     "metadata": {
      "needs_background": "light"
     },
     "output_type": "display_data"
    }
   ],
   "source": [
    "plt.hist(df['distance'])"
   ]
  },
  {
   "cell_type": "markdown",
   "id": "specific-kentucky",
   "metadata": {},
   "source": [
    "__Run the naive regression $\\log(\\text{wage})=\\beta_0 + \\beta_1 \\text{education} + u$__\n",
    "\n"
   ]
  },
  {
   "cell_type": "code",
   "execution_count": 22,
   "id": "higher-cooper",
   "metadata": {},
   "outputs": [],
   "source": [
    "# with statsmodels\n",
    "from statsmodels.formula import api\n",
    "from numpy import log"
   ]
  },
  {
   "cell_type": "code",
   "execution_count": 26,
   "id": "productive-retrieval",
   "metadata": {},
   "outputs": [],
   "source": [
    "model_0 = api.ols(\"log(wage) ~ education\", data=df)"
   ]
  },
  {
   "cell_type": "code",
   "execution_count": 27,
   "id": "official-boring",
   "metadata": {},
   "outputs": [],
   "source": [
    "res_0 = model_0.fit()"
   ]
  },
  {
   "cell_type": "code",
   "execution_count": 28,
   "id": "realistic-arizona",
   "metadata": {},
   "outputs": [
    {
     "data": {
      "text/html": [
       "<table class=\"simpletable\">\n",
       "<caption>OLS Regression Results</caption>\n",
       "<tr>\n",
       "  <th>Dep. Variable:</th>        <td>log(wage)</td>    <th>  R-squared:         </th> <td>   0.001</td>\n",
       "</tr>\n",
       "<tr>\n",
       "  <th>Model:</th>                   <td>OLS</td>       <th>  Adj. R-squared:    </th> <td>   0.000</td>\n",
       "</tr>\n",
       "<tr>\n",
       "  <th>Method:</th>             <td>Least Squares</td>  <th>  F-statistic:       </th> <td>   3.016</td>\n",
       "</tr>\n",
       "<tr>\n",
       "  <th>Date:</th>             <td>Tue, 09 Mar 2021</td> <th>  Prob (F-statistic):</th>  <td>0.0825</td> \n",
       "</tr>\n",
       "<tr>\n",
       "  <th>Time:</th>                 <td>09:17:19</td>     <th>  Log-Likelihood:    </th> <td>  2475.7</td>\n",
       "</tr>\n",
       "<tr>\n",
       "  <th>No. Observations:</th>      <td>  4739</td>      <th>  AIC:               </th> <td>  -4947.</td>\n",
       "</tr>\n",
       "<tr>\n",
       "  <th>Df Residuals:</th>          <td>  4737</td>      <th>  BIC:               </th> <td>  -4935.</td>\n",
       "</tr>\n",
       "<tr>\n",
       "  <th>Df Model:</th>              <td>     1</td>      <th>                     </th>     <td> </td>   \n",
       "</tr>\n",
       "<tr>\n",
       "  <th>Covariance Type:</th>      <td>nonrobust</td>    <th>                     </th>     <td> </td>   \n",
       "</tr>\n",
       "</table>\n",
       "<table class=\"simpletable\">\n",
       "<tr>\n",
       "      <td></td>         <th>coef</th>     <th>std err</th>      <th>t</th>      <th>P>|t|</th>  <th>[0.025</th>    <th>0.975]</th>  \n",
       "</tr>\n",
       "<tr>\n",
       "  <th>Intercept</th> <td>    2.2132</td> <td>    0.016</td> <td>  136.379</td> <td> 0.000</td> <td>    2.181</td> <td>    2.245</td>\n",
       "</tr>\n",
       "<tr>\n",
       "  <th>education</th> <td>    0.0020</td> <td>    0.001</td> <td>    1.737</td> <td> 0.082</td> <td>   -0.000</td> <td>    0.004</td>\n",
       "</tr>\n",
       "</table>\n",
       "<table class=\"simpletable\">\n",
       "<tr>\n",
       "  <th>Omnibus:</th>       <td>98.828</td> <th>  Durbin-Watson:     </th> <td>   0.122</td>\n",
       "</tr>\n",
       "<tr>\n",
       "  <th>Prob(Omnibus):</th> <td> 0.000</td> <th>  Jarque-Bera (JB):  </th> <td>  81.887</td>\n",
       "</tr>\n",
       "<tr>\n",
       "  <th>Skew:</th>          <td>-0.252</td> <th>  Prob(JB):          </th> <td>1.65e-18</td>\n",
       "</tr>\n",
       "<tr>\n",
       "  <th>Kurtosis:</th>      <td> 2.599</td> <th>  Cond. No.          </th> <td>    109.</td>\n",
       "</tr>\n",
       "</table><br/><br/>Notes:<br/>[1] Standard Errors assume that the covariance matrix of the errors is correctly specified."
      ],
      "text/plain": [
       "<class 'statsmodels.iolib.summary.Summary'>\n",
       "\"\"\"\n",
       "                            OLS Regression Results                            \n",
       "==============================================================================\n",
       "Dep. Variable:              log(wage)   R-squared:                       0.001\n",
       "Model:                            OLS   Adj. R-squared:                  0.000\n",
       "Method:                 Least Squares   F-statistic:                     3.016\n",
       "Date:                Tue, 09 Mar 2021   Prob (F-statistic):             0.0825\n",
       "Time:                        09:17:19   Log-Likelihood:                 2475.7\n",
       "No. Observations:                4739   AIC:                            -4947.\n",
       "Df Residuals:                    4737   BIC:                            -4935.\n",
       "Df Model:                           1                                         \n",
       "Covariance Type:            nonrobust                                         \n",
       "==============================================================================\n",
       "                 coef    std err          t      P>|t|      [0.025      0.975]\n",
       "------------------------------------------------------------------------------\n",
       "Intercept      2.2132      0.016    136.379      0.000       2.181       2.245\n",
       "education      0.0020      0.001      1.737      0.082      -0.000       0.004\n",
       "==============================================================================\n",
       "Omnibus:                       98.828   Durbin-Watson:                   0.122\n",
       "Prob(Omnibus):                  0.000   Jarque-Bera (JB):               81.887\n",
       "Skew:                          -0.252   Prob(JB):                     1.65e-18\n",
       "Kurtosis:                       2.599   Cond. No.                         109.\n",
       "==============================================================================\n",
       "\n",
       "Notes:\n",
       "[1] Standard Errors assume that the covariance matrix of the errors is correctly specified.\n",
       "\"\"\""
      ]
     },
     "execution_count": 28,
     "metadata": {},
     "output_type": "execute_result"
    }
   ],
   "source": [
    "res.summary()"
   ]
  },
  {
   "cell_type": "markdown",
   "id": "connected-newspaper",
   "metadata": {},
   "source": [
    "__Augment the regression with `unemp`, `hispanic`, `af-am`, `female` and `urban`__"
   ]
  },
  {
   "cell_type": "code",
   "execution_count": 31,
   "id": "smart-shanghai",
   "metadata": {},
   "outputs": [
    {
     "data": {
      "text/html": [
       "<div>\n",
       "<style scoped>\n",
       "    .dataframe tbody tr th:only-of-type {\n",
       "        vertical-align: middle;\n",
       "    }\n",
       "\n",
       "    .dataframe tbody tr th {\n",
       "        vertical-align: top;\n",
       "    }\n",
       "\n",
       "    .dataframe thead th {\n",
       "        text-align: right;\n",
       "    }\n",
       "</style>\n",
       "<table border=\"1\" class=\"dataframe\">\n",
       "  <thead>\n",
       "    <tr style=\"text-align: right;\">\n",
       "      <th></th>\n",
       "      <th>Unnamed: 0</th>\n",
       "      <th>gender</th>\n",
       "      <th>ethnicity</th>\n",
       "      <th>score</th>\n",
       "      <th>fcollege</th>\n",
       "      <th>mcollege</th>\n",
       "      <th>home</th>\n",
       "      <th>urban</th>\n",
       "      <th>unemp</th>\n",
       "      <th>wage</th>\n",
       "      <th>distance</th>\n",
       "      <th>tuition</th>\n",
       "      <th>education</th>\n",
       "      <th>income</th>\n",
       "      <th>region</th>\n",
       "    </tr>\n",
       "  </thead>\n",
       "  <tbody>\n",
       "    <tr>\n",
       "      <th>0</th>\n",
       "      <td>1</td>\n",
       "      <td>male</td>\n",
       "      <td>other</td>\n",
       "      <td>39.150002</td>\n",
       "      <td>yes</td>\n",
       "      <td>no</td>\n",
       "      <td>yes</td>\n",
       "      <td>yes</td>\n",
       "      <td>6.2</td>\n",
       "      <td>8.09</td>\n",
       "      <td>0.2</td>\n",
       "      <td>0.88915</td>\n",
       "      <td>12</td>\n",
       "      <td>high</td>\n",
       "      <td>other</td>\n",
       "    </tr>\n",
       "    <tr>\n",
       "      <th>1</th>\n",
       "      <td>2</td>\n",
       "      <td>female</td>\n",
       "      <td>other</td>\n",
       "      <td>48.869999</td>\n",
       "      <td>no</td>\n",
       "      <td>no</td>\n",
       "      <td>yes</td>\n",
       "      <td>yes</td>\n",
       "      <td>6.2</td>\n",
       "      <td>8.09</td>\n",
       "      <td>0.2</td>\n",
       "      <td>0.88915</td>\n",
       "      <td>12</td>\n",
       "      <td>low</td>\n",
       "      <td>other</td>\n",
       "    </tr>\n",
       "    <tr>\n",
       "      <th>2</th>\n",
       "      <td>3</td>\n",
       "      <td>male</td>\n",
       "      <td>other</td>\n",
       "      <td>48.740002</td>\n",
       "      <td>no</td>\n",
       "      <td>no</td>\n",
       "      <td>yes</td>\n",
       "      <td>yes</td>\n",
       "      <td>6.2</td>\n",
       "      <td>8.09</td>\n",
       "      <td>0.2</td>\n",
       "      <td>0.88915</td>\n",
       "      <td>12</td>\n",
       "      <td>low</td>\n",
       "      <td>other</td>\n",
       "    </tr>\n",
       "    <tr>\n",
       "      <th>3</th>\n",
       "      <td>4</td>\n",
       "      <td>male</td>\n",
       "      <td>afam</td>\n",
       "      <td>40.400002</td>\n",
       "      <td>no</td>\n",
       "      <td>no</td>\n",
       "      <td>yes</td>\n",
       "      <td>yes</td>\n",
       "      <td>6.2</td>\n",
       "      <td>8.09</td>\n",
       "      <td>0.2</td>\n",
       "      <td>0.88915</td>\n",
       "      <td>12</td>\n",
       "      <td>low</td>\n",
       "      <td>other</td>\n",
       "    </tr>\n",
       "    <tr>\n",
       "      <th>4</th>\n",
       "      <td>5</td>\n",
       "      <td>female</td>\n",
       "      <td>other</td>\n",
       "      <td>40.480000</td>\n",
       "      <td>no</td>\n",
       "      <td>no</td>\n",
       "      <td>no</td>\n",
       "      <td>yes</td>\n",
       "      <td>5.6</td>\n",
       "      <td>8.09</td>\n",
       "      <td>0.4</td>\n",
       "      <td>0.88915</td>\n",
       "      <td>13</td>\n",
       "      <td>low</td>\n",
       "      <td>other</td>\n",
       "    </tr>\n",
       "  </tbody>\n",
       "</table>\n",
       "</div>"
      ],
      "text/plain": [
       "   Unnamed: 0  gender ethnicity      score fcollege mcollege home urban  \\\n",
       "0           1    male     other  39.150002      yes       no  yes   yes   \n",
       "1           2  female     other  48.869999       no       no  yes   yes   \n",
       "2           3    male     other  48.740002       no       no  yes   yes   \n",
       "3           4    male      afam  40.400002       no       no  yes   yes   \n",
       "4           5  female     other  40.480000       no       no   no   yes   \n",
       "\n",
       "   unemp  wage  distance  tuition  education income region  \n",
       "0    6.2  8.09       0.2  0.88915         12   high  other  \n",
       "1    6.2  8.09       0.2  0.88915         12    low  other  \n",
       "2    6.2  8.09       0.2  0.88915         12    low  other  \n",
       "3    6.2  8.09       0.2  0.88915         12    low  other  \n",
       "4    5.6  8.09       0.4  0.88915         13    low  other  "
      ]
     },
     "execution_count": 31,
     "metadata": {},
     "output_type": "execute_result"
    }
   ],
   "source": [
    "df.head() # hisanic, af-am are not in the dataframe"
   ]
  },
  {
   "cell_type": "code",
   "execution_count": 33,
   "id": "dental-italic",
   "metadata": {},
   "outputs": [
    {
     "data": {
      "text/plain": [
       "array(['other', 'afam', 'hispanic'], dtype=object)"
      ]
     },
     "execution_count": 33,
     "metadata": {},
     "output_type": "execute_result"
    }
   ],
   "source": [
    "df['ethnicity'].unique()"
   ]
  },
  {
   "cell_type": "code",
   "execution_count": 46,
   "id": "wound-vanilla",
   "metadata": {},
   "outputs": [],
   "source": [
    "model_1 = api.ols(\"log(wage) ~ education + unemp + C(ethnicity, Treatment('other')) + C(gender, Treatment('male')) + urban\", data=df)"
   ]
  },
  {
   "cell_type": "code",
   "execution_count": 47,
   "id": "renewable-halloween",
   "metadata": {},
   "outputs": [],
   "source": [
    "res_1 = model_1.fit()"
   ]
  },
  {
   "cell_type": "code",
   "execution_count": 48,
   "id": "elementary-leone",
   "metadata": {},
   "outputs": [
    {
     "data": {
      "text/html": [
       "<table class=\"simpletable\">\n",
       "<caption>OLS Regression Results</caption>\n",
       "<tr>\n",
       "  <th>Dep. Variable:</th>        <td>log(wage)</td>    <th>  R-squared:         </th> <td>   0.103</td> \n",
       "</tr>\n",
       "<tr>\n",
       "  <th>Model:</th>                   <td>OLS</td>       <th>  Adj. R-squared:    </th> <td>   0.101</td> \n",
       "</tr>\n",
       "<tr>\n",
       "  <th>Method:</th>             <td>Least Squares</td>  <th>  F-statistic:       </th> <td>   90.20</td> \n",
       "</tr>\n",
       "<tr>\n",
       "  <th>Date:</th>             <td>Tue, 09 Mar 2021</td> <th>  Prob (F-statistic):</th> <td>1.61e-107</td>\n",
       "</tr>\n",
       "<tr>\n",
       "  <th>Time:</th>                 <td>09:24:04</td>     <th>  Log-Likelihood:    </th> <td>  2730.8</td> \n",
       "</tr>\n",
       "<tr>\n",
       "  <th>No. Observations:</th>      <td>  4739</td>      <th>  AIC:               </th> <td>  -5448.</td> \n",
       "</tr>\n",
       "<tr>\n",
       "  <th>Df Residuals:</th>          <td>  4732</td>      <th>  BIC:               </th> <td>  -5402.</td> \n",
       "</tr>\n",
       "<tr>\n",
       "  <th>Df Model:</th>              <td>     6</td>      <th>                     </th>     <td> </td>    \n",
       "</tr>\n",
       "<tr>\n",
       "  <th>Covariance Type:</th>      <td>nonrobust</td>    <th>                     </th>     <td> </td>    \n",
       "</tr>\n",
       "</table>\n",
       "<table class=\"simpletable\">\n",
       "<tr>\n",
       "                        <td></td>                          <th>coef</th>     <th>std err</th>      <th>t</th>      <th>P>|t|</th>  <th>[0.025</th>    <th>0.975]</th>  \n",
       "</tr>\n",
       "<tr>\n",
       "  <th>Intercept</th>                                    <td>    2.1520</td> <td>    0.017</td> <td>  127.706</td> <td> 0.000</td> <td>    2.119</td> <td>    2.185</td>\n",
       "</tr>\n",
       "<tr>\n",
       "  <th>C(ethnicity, Treatment('other'))[T.afam]</th>     <td>   -0.0619</td> <td>    0.006</td> <td>  -11.058</td> <td> 0.000</td> <td>   -0.073</td> <td>   -0.051</td>\n",
       "</tr>\n",
       "<tr>\n",
       "  <th>C(ethnicity, Treatment('other'))[T.hispanic]</th> <td>   -0.0535</td> <td>    0.005</td> <td>  -10.246</td> <td> 0.000</td> <td>   -0.064</td> <td>   -0.043</td>\n",
       "</tr>\n",
       "<tr>\n",
       "  <th>C(gender, Treatment('male'))[T.female]</th>       <td>   -0.0091</td> <td>    0.004</td> <td>   -2.291</td> <td> 0.022</td> <td>   -0.017</td> <td>   -0.001</td>\n",
       "</tr>\n",
       "<tr>\n",
       "  <th>urban[T.yes]</th>                                 <td>    0.0089</td> <td>    0.005</td> <td>    1.862</td> <td> 0.063</td> <td>   -0.000</td> <td>    0.018</td>\n",
       "</tr>\n",
       "<tr>\n",
       "  <th>education</th>                                    <td>    0.0007</td> <td>    0.001</td> <td>    0.605</td> <td> 0.546</td> <td>   -0.002</td> <td>    0.003</td>\n",
       "</tr>\n",
       "<tr>\n",
       "  <th>unemp</th>                                        <td>    0.0136</td> <td>    0.001</td> <td>   18.874</td> <td> 0.000</td> <td>    0.012</td> <td>    0.015</td>\n",
       "</tr>\n",
       "</table>\n",
       "<table class=\"simpletable\">\n",
       "<tr>\n",
       "  <th>Omnibus:</th>       <td>154.444</td> <th>  Durbin-Watson:     </th> <td>   0.178</td>\n",
       "</tr>\n",
       "<tr>\n",
       "  <th>Prob(Omnibus):</th> <td> 0.000</td>  <th>  Jarque-Bera (JB):  </th> <td> 132.059</td>\n",
       "</tr>\n",
       "<tr>\n",
       "  <th>Skew:</th>          <td>-0.342</td>  <th>  Prob(JB):          </th> <td>2.11e-29</td>\n",
       "</tr>\n",
       "<tr>\n",
       "  <th>Kurtosis:</th>      <td> 2.552</td>  <th>  Cond. No.          </th> <td>    136.</td>\n",
       "</tr>\n",
       "</table><br/><br/>Notes:<br/>[1] Standard Errors assume that the covariance matrix of the errors is correctly specified."
      ],
      "text/plain": [
       "<class 'statsmodels.iolib.summary.Summary'>\n",
       "\"\"\"\n",
       "                            OLS Regression Results                            \n",
       "==============================================================================\n",
       "Dep. Variable:              log(wage)   R-squared:                       0.103\n",
       "Model:                            OLS   Adj. R-squared:                  0.101\n",
       "Method:                 Least Squares   F-statistic:                     90.20\n",
       "Date:                Tue, 09 Mar 2021   Prob (F-statistic):          1.61e-107\n",
       "Time:                        09:24:04   Log-Likelihood:                 2730.8\n",
       "No. Observations:                4739   AIC:                            -5448.\n",
       "Df Residuals:                    4732   BIC:                            -5402.\n",
       "Df Model:                           6                                         \n",
       "Covariance Type:            nonrobust                                         \n",
       "================================================================================================================\n",
       "                                                   coef    std err          t      P>|t|      [0.025      0.975]\n",
       "----------------------------------------------------------------------------------------------------------------\n",
       "Intercept                                        2.1520      0.017    127.706      0.000       2.119       2.185\n",
       "C(ethnicity, Treatment('other'))[T.afam]        -0.0619      0.006    -11.058      0.000      -0.073      -0.051\n",
       "C(ethnicity, Treatment('other'))[T.hispanic]    -0.0535      0.005    -10.246      0.000      -0.064      -0.043\n",
       "C(gender, Treatment('male'))[T.female]          -0.0091      0.004     -2.291      0.022      -0.017      -0.001\n",
       "urban[T.yes]                                     0.0089      0.005      1.862      0.063      -0.000       0.018\n",
       "education                                        0.0007      0.001      0.605      0.546      -0.002       0.003\n",
       "unemp                                            0.0136      0.001     18.874      0.000       0.012       0.015\n",
       "==============================================================================\n",
       "Omnibus:                      154.444   Durbin-Watson:                   0.178\n",
       "Prob(Omnibus):                  0.000   Jarque-Bera (JB):              132.059\n",
       "Skew:                          -0.342   Prob(JB):                     2.11e-29\n",
       "Kurtosis:                       2.552   Cond. No.                         136.\n",
       "==============================================================================\n",
       "\n",
       "Notes:\n",
       "[1] Standard Errors assume that the covariance matrix of the errors is correctly specified.\n",
       "\"\"\""
      ]
     },
     "execution_count": 48,
     "metadata": {},
     "output_type": "execute_result"
    }
   ],
   "source": [
    "res_1.summary()"
   ]
  },
  {
   "cell_type": "markdown",
   "id": "considerable-truck",
   "metadata": {},
   "source": [
    "__Comment the results and explain the selection problem__"
   ]
  },
  {
   "cell_type": "markdown",
   "id": "prepared-region",
   "metadata": {},
   "source": [
    "There is a selection bias. The same subjects, might have higer salaries and stay longer at school, because:\n",
    "- they are more productive (smarter)\n",
    "- their parents might be wealthy and pay for private education"
   ]
  },
  {
   "cell_type": "markdown",
   "id": "earned-drain",
   "metadata": {},
   "source": [
    "__Explain why distance to college might be used to instrument the effect of schooling.__"
   ]
  },
  {
   "cell_type": "markdown",
   "id": "frozen-yemen",
   "metadata": {},
   "source": [
    "Remember the instrument needs to be correlated with the explanatory variable and independent from the residual (and the explained variable).\n",
    "\n",
    "1/ distance creates a cost to attend school, which increases the incentive to drop out earlier\n",
    "2/ it is not directly correlated with salary except through the effect of school attendance\n",
    "\n",
    "* actually, school distance might be correlated with social background\n",
    "\n",
    "\n"
   ]
  },
  {
   "cell_type": "markdown",
   "id": "aggressive-verse",
   "metadata": {},
   "source": [
    "__Run an IV regression, where `distance` is used to instrument schooling.__"
   ]
  },
  {
   "cell_type": "markdown",
   "id": "physical-internet",
   "metadata": {},
   "source": [
    "look at: \n",
    "    https://bashtage.github.io/linearmodels/\n",
    "   (two-stage least squares)"
   ]
  },
  {
   "cell_type": "code",
   "execution_count": 26,
   "id": "cognitive-convertible",
   "metadata": {},
   "outputs": [],
   "source": [
    "import numpy as np\n",
    "from linearmodels.iv import IV2SLS\n",
    "\n",
    "model_3 = IV2SLS.from_formula('np.log(wage) ~  1 + [education ~ distance]', df)\n"
   ]
  },
  {
   "cell_type": "code",
   "execution_count": 24,
   "id": "corporate-proposition",
   "metadata": {},
   "outputs": [],
   "source": [
    "res_3 = model_3.fit()"
   ]
  },
  {
   "cell_type": "code",
   "execution_count": 25,
   "id": "sought-variable",
   "metadata": {},
   "outputs": [
    {
     "data": {
      "text/html": [
       "<table class=\"simpletable\">\n",
       "<caption>IV-2SLS Estimation Summary</caption>\n",
       "<tr>\n",
       "  <th>Dep. Variable:</th>      <td>np.log(wage)</td>   <th>  R-squared:         </th>  <td>0.9789</td>  \n",
       "</tr>\n",
       "<tr>\n",
       "  <th>Estimator:</th>             <td>IV-2SLS</td>     <th>  Adj. R-squared:    </th>  <td>0.9789</td>  \n",
       "</tr>\n",
       "<tr>\n",
       "  <th>No. Observations:</th>       <td>4739</td>       <th>  F-statistic:       </th> <td>1.012e+05</td>\n",
       "</tr>\n",
       "<tr>\n",
       "  <th>Date:</th>             <td>Tue, Mar 09 2021</td> <th>  P-value (F-stat)   </th>  <td>0.0000</td>  \n",
       "</tr>\n",
       "<tr>\n",
       "  <th>Time:</th>                 <td>09:47:58</td>     <th>  Distribution:      </th>  <td>chi2(1)</td> \n",
       "</tr>\n",
       "<tr>\n",
       "  <th>Cov. Estimator:</th>        <td>robust</td>      <th>                     </th>     <td></td>     \n",
       "</tr>\n",
       "<tr>\n",
       "  <th></th>                          <td></td>         <th>                     </th>     <td></td>     \n",
       "</tr>\n",
       "</table>\n",
       "<table class=\"simpletable\">\n",
       "<caption>Parameter Estimates</caption>\n",
       "<tr>\n",
       "      <td></td>      <th>Parameter</th> <th>Std. Err.</th> <th>T-stat</th> <th>P-value</th> <th>Lower CI</th> <th>Upper CI</th>\n",
       "</tr>\n",
       "<tr>\n",
       "  <th>education</th>  <td>0.1648</td>    <td>0.0005</td>   <td>318.16</td> <td>0.0000</td>   <td>0.1638</td>   <td>0.1658</td> \n",
       "</tr>\n",
       "</table><br/><br/>Endogenous: education<br/>Instruments: distance<br/>Robust Covariance (Heteroskedastic)<br/>Debiased: False"
      ],
      "text/plain": [
       "<class 'linearmodels.compat.statsmodels.Summary'>\n",
       "\"\"\"\n",
       "                          IV-2SLS Estimation Summary                          \n",
       "==============================================================================\n",
       "Dep. Variable:           np.log(wage)   R-squared:                      0.9789\n",
       "Estimator:                    IV-2SLS   Adj. R-squared:                 0.9789\n",
       "No. Observations:                4739   F-statistic:                 1.012e+05\n",
       "Date:                Tue, Mar 09 2021   P-value (F-stat)                0.0000\n",
       "Time:                        09:47:58   Distribution:                  chi2(1)\n",
       "Cov. Estimator:                robust                                         \n",
       "                                                                              \n",
       "                             Parameter Estimates                              \n",
       "==============================================================================\n",
       "            Parameter  Std. Err.     T-stat    P-value    Lower CI    Upper CI\n",
       "------------------------------------------------------------------------------\n",
       "education      0.1648     0.0005     318.16     0.0000      0.1638      0.1658\n",
       "==============================================================================\n",
       "\n",
       "Endogenous: education\n",
       "Instruments: distance\n",
       "Robust Covariance (Heteroskedastic)\n",
       "Debiased: False\n",
       "\"\"\""
      ]
     },
     "execution_count": 25,
     "metadata": {},
     "output_type": "execute_result"
    }
   ],
   "source": [
    "res_3.summary"
   ]
  },
  {
   "cell_type": "code",
   "execution_count": 31,
   "id": "circular-praise",
   "metadata": {},
   "outputs": [],
   "source": [
    "formula = \"np.log(wage) ~ 1 + [education ~ distance] + unemp + C(ethnicity, Treatment('other')) + C(gender, Treatment('male')) + urban\"\n",
    "\n",
    "model_4 = IV2SLS.from_formula(formula, df)\n"
   ]
  },
  {
   "cell_type": "code",
   "execution_count": 33,
   "id": "acute-illness",
   "metadata": {},
   "outputs": [],
   "source": [
    "res_4 = model_4.fit()"
   ]
  },
  {
   "cell_type": "code",
   "execution_count": 35,
   "id": "preceding-diameter",
   "metadata": {},
   "outputs": [
    {
     "data": {
      "text/html": [
       "<table class=\"simpletable\">\n",
       "<caption>IV-2SLS Estimation Summary</caption>\n",
       "<tr>\n",
       "  <th>Dep. Variable:</th>      <td>np.log(wage)</td>   <th>  R-squared:         </th> <td>-0.5786</td>\n",
       "</tr>\n",
       "<tr>\n",
       "  <th>Estimator:</th>             <td>IV-2SLS</td>     <th>  Adj. R-squared:    </th> <td>-0.5806</td>\n",
       "</tr>\n",
       "<tr>\n",
       "  <th>No. Observations:</th>       <td>4739</td>       <th>  F-statistic:       </th> <td>335.08</td> \n",
       "</tr>\n",
       "<tr>\n",
       "  <th>Date:</th>             <td>Tue, Mar 09 2021</td> <th>  P-value (F-stat)   </th> <td>0.0000</td> \n",
       "</tr>\n",
       "<tr>\n",
       "  <th>Time:</th>                 <td>09:50:03</td>     <th>  Distribution:      </th> <td>chi2(6)</td>\n",
       "</tr>\n",
       "<tr>\n",
       "  <th>Cov. Estimator:</th>        <td>robust</td>      <th>                     </th>    <td></td>    \n",
       "</tr>\n",
       "<tr>\n",
       "  <th></th>                          <td></td>         <th>                     </th>    <td></td>    \n",
       "</tr>\n",
       "</table>\n",
       "<table class=\"simpletable\">\n",
       "<caption>Parameter Estimates</caption>\n",
       "<tr>\n",
       "                        <td></td>                       <th>Parameter</th> <th>Std. Err.</th> <th>T-stat</th>  <th>P-value</th> <th>Lower CI</th> <th>Upper CI</th>\n",
       "</tr>\n",
       "<tr>\n",
       "  <th>Intercept</th>                                     <td>1.2172</td>    <td>0.2007</td>   <td>6.0655</td>  <td>0.0000</td>   <td>0.8239</td>   <td>1.6105</td> \n",
       "</tr>\n",
       "<tr>\n",
       "  <th>C(ethnicity, Treatment('other'))[T.afam]</th>      <td>-0.0278</td>   <td>0.0101</td>   <td>-2.7420</td> <td>0.0061</td>   <td>-0.0476</td>  <td>-0.0079</td>\n",
       "</tr>\n",
       "<tr>\n",
       "  <th>C(ethnicity, Treatment('other'))[T.hispanic]</th>  <td>-0.0335</td>   <td>0.0081</td>   <td>-4.1483</td> <td>0.0000</td>   <td>-0.0493</td>  <td>-0.0177</td>\n",
       "</tr>\n",
       "<tr>\n",
       "  <th>C(gender, Treatment('male'))[T.female]</th>        <td>-0.0076</td>   <td>0.0053</td>   <td>-1.4465</td> <td>0.1480</td>   <td>-0.0179</td>  <td>0.0027</td> \n",
       "</tr>\n",
       "<tr>\n",
       "  <th>urban[T.yes]</th>                                  <td>0.0064</td>    <td>0.0063</td>   <td>1.0185</td>  <td>0.3084</td>   <td>-0.0060</td>  <td>0.0189</td> \n",
       "</tr>\n",
       "<tr>\n",
       "  <th>unemp</th>                                         <td>0.0142</td>    <td>0.0010</td>   <td>14.778</td>  <td>0.0000</td>   <td>0.0123</td>   <td>0.0161</td> \n",
       "</tr>\n",
       "<tr>\n",
       "  <th>education</th>                                     <td>0.0673</td>    <td>0.0143</td>   <td>4.7023</td>  <td>0.0000</td>   <td>0.0393</td>   <td>0.0954</td> \n",
       "</tr>\n",
       "</table><br/><br/>Endogenous: education<br/>Instruments: distance<br/>Robust Covariance (Heteroskedastic)<br/>Debiased: False"
      ],
      "text/plain": [
       "<class 'linearmodels.compat.statsmodels.Summary'>\n",
       "\"\"\"\n",
       "                          IV-2SLS Estimation Summary                          \n",
       "==============================================================================\n",
       "Dep. Variable:           np.log(wage)   R-squared:                     -0.5786\n",
       "Estimator:                    IV-2SLS   Adj. R-squared:                -0.5806\n",
       "No. Observations:                4739   F-statistic:                    335.08\n",
       "Date:                Tue, Mar 09 2021   P-value (F-stat)                0.0000\n",
       "Time:                        09:50:03   Distribution:                  chi2(6)\n",
       "Cov. Estimator:                robust                                         \n",
       "                                                                              \n",
       "                                              Parameter Estimates                                               \n",
       "================================================================================================================\n",
       "                                              Parameter  Std. Err.     T-stat    P-value    Lower CI    Upper CI\n",
       "----------------------------------------------------------------------------------------------------------------\n",
       "Intercept                                        1.2172     0.2007     6.0655     0.0000      0.8239      1.6105\n",
       "C(ethnicity, Treatment('other'))[T.afam]        -0.0278     0.0101    -2.7420     0.0061     -0.0476     -0.0079\n",
       "C(ethnicity, Treatment('other'))[T.hispanic]    -0.0335     0.0081    -4.1483     0.0000     -0.0493     -0.0177\n",
       "C(gender, Treatment('male'))[T.female]          -0.0076     0.0053    -1.4465     0.1480     -0.0179      0.0027\n",
       "urban[T.yes]                                     0.0064     0.0063     1.0185     0.3084     -0.0060      0.0189\n",
       "unemp                                            0.0142     0.0010     14.778     0.0000      0.0123      0.0161\n",
       "education                                        0.0673     0.0143     4.7023     0.0000      0.0393      0.0954\n",
       "================================================================================================================\n",
       "\n",
       "Endogenous: education\n",
       "Instruments: distance\n",
       "Robust Covariance (Heteroskedastic)\n",
       "Debiased: False\n",
       "\"\"\""
      ]
     },
     "execution_count": 35,
     "metadata": {},
     "output_type": "execute_result"
    }
   ],
   "source": [
    "res_4.summary"
   ]
  },
  {
   "cell_type": "markdown",
   "id": "racial-aerospace",
   "metadata": {},
   "source": [
    "__Comment the results. Compare with the R tutorials.__"
   ]
  },
  {
   "cell_type": "markdown",
   "id": "determined-biology",
   "metadata": {},
   "source": [
    "Hourrah ! The coefficient for education is significant !\n",
    "According to the last regression, a 1 year increase in school attendance, implies a 6.7% increase in wage."
   ]
  },
  {
   "cell_type": "code",
   "execution_count": null,
   "id": "vocational-region",
   "metadata": {},
   "outputs": [],
   "source": []
  }
 ],
 "metadata": {
  "kernelspec": {
   "display_name": "Python 3",
   "language": "python",
   "name": "python3"
  },
  "language_info": {
   "codemirror_mode": {
    "name": "ipython",
    "version": 3
   },
   "file_extension": ".py",
   "mimetype": "text/x-python",
   "name": "python",
   "nbconvert_exporter": "python",
   "pygments_lexer": "ipython3",
   "version": "3.8.5"
  }
 },
 "nbformat": 4,
 "nbformat_minor": 5
}
