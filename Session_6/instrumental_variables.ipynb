{
 "cells": [
  {
   "cell_type": "markdown",
   "id": "broad-arrest",
   "metadata": {},
   "source": [
    "# Instrumental variables"
   ]
  },
  {
   "cell_type": "markdown",
   "id": "confidential-logging",
   "metadata": {},
   "source": [
    "## Baby example on mock dataset"
   ]
  },
  {
   "cell_type": "markdown",
   "id": "domestic-arthritis",
   "metadata": {},
   "source": [
    "### Constructing the dataset\n",
    "\n",
    "Create four random series of length $N=1000$\n",
    "\n",
    "- $x$: education\n",
    "- $y$: salary\n",
    "- $z$: ambition\n",
    "- $q$: early smoking \n",
    "\n",
    "such that:\n",
    "\n",
    "1. $x$ and $z$ cause $y$\n",
    "2. $z$ causes $x$\n",
    "3. $q$ is correlated with $x$, not with $z$\n",
    "\n",
    "(all relations are linear, add random shocks where needed)\n",
    "\n",
    "Create a dataset `df`\n"
   ]
  },
  {
   "cell_type": "code",
   "execution_count": null,
   "id": "comparable-wayne",
   "metadata": {},
   "outputs": [],
   "source": []
  },
  {
   "cell_type": "markdown",
   "id": "light-husband",
   "metadata": {},
   "source": [
    "## Naive approach\n",
    "\n",
    "Run a regression to estimate the effect of $x$ on $y$. Control by $z$.\n",
    "What happens ?"
   ]
  },
  {
   "cell_type": "code",
   "execution_count": null,
   "id": "brief-potato",
   "metadata": {},
   "outputs": [],
   "source": []
  },
  {
   "cell_type": "markdown",
   "id": "horizontal-problem",
   "metadata": {},
   "source": [
    "## Instrumental variable\n",
    "\n",
    "Use $q$ to instrument the effect of x on y. Comment."
   ]
  },
  {
   "cell_type": "markdown",
   "id": "comic-transition",
   "metadata": {},
   "source": [
    "## Functions and Loops\n",
    "\n",
    "Go back to the first notebook. Learn how to write functions and loops."
   ]
  },
  {
   "cell_type": "code",
   "execution_count": null,
   "id": "agricultural-excitement",
   "metadata": {},
   "outputs": [],
   "source": []
  }
 ],
 "metadata": {
  "kernelspec": {
   "display_name": "Python 3",
   "language": "python",
   "name": "python3"
  },
  "language_info": {
   "codemirror_mode": {
    "name": "ipython",
    "version": 3
   },
   "file_extension": ".py",
   "mimetype": "text/x-python",
   "name": "python",
   "nbconvert_exporter": "python",
   "pygments_lexer": "ipython3",
   "version": "3.8.5"
  }
 },
 "nbformat": 4,
 "nbformat_minor": 5
}
