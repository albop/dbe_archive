{
 "cells": [
  {
   "cell_type": "markdown",
   "id": "7691b530",
   "metadata": {},
   "source": [
    "# Instrumental variables"
   ]
  },
  {
   "cell_type": "markdown",
   "id": "ff918eb1",
   "metadata": {},
   "source": [
    "## Functions and Loops\n",
    "\n",
    "Go back to the first notebook. Learn how to write functions and loops."
   ]
  },
  {
   "cell_type": "code",
   "execution_count": 1,
   "id": "08d6467f",
   "metadata": {},
   "outputs": [],
   "source": [
    "import pandas"
   ]
  },
  {
   "cell_type": "code",
   "execution_count": 6,
   "id": "37854e18",
   "metadata": {},
   "outputs": [
    {
     "data": {
      "text/html": [
       "<div>\n",
       "<style scoped>\n",
       "    .dataframe tbody tr th:only-of-type {\n",
       "        vertical-align: middle;\n",
       "    }\n",
       "\n",
       "    .dataframe tbody tr th {\n",
       "        vertical-align: top;\n",
       "    }\n",
       "\n",
       "    .dataframe thead th {\n",
       "        text-align: right;\n",
       "    }\n",
       "</style>\n",
       "<table border=\"1\" class=\"dataframe\">\n",
       "  <thead>\n",
       "    <tr style=\"text-align: right;\">\n",
       "      <th></th>\n",
       "      <th>gdp</th>\n",
       "      <th>date</th>\n",
       "    </tr>\n",
       "  </thead>\n",
       "  <tbody>\n",
       "    <tr>\n",
       "      <th>count</th>\n",
       "      <td>4.000000</td>\n",
       "      <td>4.00000</td>\n",
       "    </tr>\n",
       "    <tr>\n",
       "      <th>mean</th>\n",
       "      <td>552.500000</td>\n",
       "      <td>2000.50000</td>\n",
       "    </tr>\n",
       "    <tr>\n",
       "      <th>std</th>\n",
       "      <td>519.623261</td>\n",
       "      <td>0.57735</td>\n",
       "    </tr>\n",
       "    <tr>\n",
       "      <th>min</th>\n",
       "      <td>100.000000</td>\n",
       "      <td>2000.00000</td>\n",
       "    </tr>\n",
       "    <tr>\n",
       "      <th>25%</th>\n",
       "      <td>103.750000</td>\n",
       "      <td>2000.00000</td>\n",
       "    </tr>\n",
       "    <tr>\n",
       "      <th>50%</th>\n",
       "      <td>552.500000</td>\n",
       "      <td>2000.50000</td>\n",
       "    </tr>\n",
       "    <tr>\n",
       "      <th>75%</th>\n",
       "      <td>1001.250000</td>\n",
       "      <td>2001.00000</td>\n",
       "    </tr>\n",
       "    <tr>\n",
       "      <th>max</th>\n",
       "      <td>1005.000000</td>\n",
       "      <td>2001.00000</td>\n",
       "    </tr>\n",
       "  </tbody>\n",
       "</table>\n",
       "</div>"
      ],
      "text/plain": [
       "               gdp        date\n",
       "count     4.000000     4.00000\n",
       "mean    552.500000  2000.50000\n",
       "std     519.623261     0.57735\n",
       "min     100.000000  2000.00000\n",
       "25%     103.750000  2000.00000\n",
       "50%     552.500000  2000.50000\n",
       "75%    1001.250000  2001.00000\n",
       "max    1005.000000  2001.00000"
      ]
     },
     "metadata": {},
     "output_type": "display_data"
    },
    {
     "data": {
      "text/html": [
       "<div>\n",
       "<style scoped>\n",
       "    .dataframe tbody tr th:only-of-type {\n",
       "        vertical-align: middle;\n",
       "    }\n",
       "\n",
       "    .dataframe tbody tr th {\n",
       "        vertical-align: top;\n",
       "    }\n",
       "\n",
       "    .dataframe thead th {\n",
       "        text-align: right;\n",
       "    }\n",
       "</style>\n",
       "<table border=\"1\" class=\"dataframe\">\n",
       "  <thead>\n",
       "    <tr style=\"text-align: right;\">\n",
       "      <th></th>\n",
       "      <th>country</th>\n",
       "      <th>gdp</th>\n",
       "      <th>date</th>\n",
       "    </tr>\n",
       "  </thead>\n",
       "  <tbody>\n",
       "    <tr>\n",
       "      <th>0</th>\n",
       "      <td>usa</td>\n",
       "      <td>1000</td>\n",
       "      <td>2000</td>\n",
       "    </tr>\n",
       "    <tr>\n",
       "      <th>1</th>\n",
       "      <td>usa</td>\n",
       "      <td>1005</td>\n",
       "      <td>2001</td>\n",
       "    </tr>\n",
       "    <tr>\n",
       "      <th>2</th>\n",
       "      <td>france</td>\n",
       "      <td>100</td>\n",
       "      <td>2000</td>\n",
       "    </tr>\n",
       "    <tr>\n",
       "      <th>3</th>\n",
       "      <td>france</td>\n",
       "      <td>105</td>\n",
       "      <td>2001</td>\n",
       "    </tr>\n",
       "  </tbody>\n",
       "</table>\n",
       "</div>"
      ],
      "text/plain": [
       "  country   gdp   date\n",
       "0     usa  1000   2000\n",
       "1     usa  1005   2001\n",
       "2  france   100   2000\n",
       "3  france   105   2001"
      ]
     },
     "execution_count": 6,
     "metadata": {},
     "output_type": "execute_result"
    }
   ],
   "source": [
    "fname = \"dataset.csv\"\n",
    "df = pandas.read_csv(fname)\n",
    "display(df.describe())\n",
    "df\n"
   ]
  },
  {
   "cell_type": "code",
   "execution_count": 16,
   "id": "23e52769",
   "metadata": {},
   "outputs": [],
   "source": [
    "def import_and_print(fname, print_statistics=True):\n",
    "    # here is the body of the function\n",
    "    df = pandas.read_csv(fname)\n",
    "    if print_statistics==True:\n",
    "        display(\"Summary Statistics\")\n",
    "        display(df.describe())\n",
    "    return df"
   ]
  },
  {
   "cell_type": "code",
   "execution_count": 17,
   "id": "78659424",
   "metadata": {},
   "outputs": [
    {
     "data": {
      "text/plain": [
       "'Summary Statistics'"
      ]
     },
     "metadata": {},
     "output_type": "display_data"
    },
    {
     "data": {
      "text/html": [
       "<div>\n",
       "<style scoped>\n",
       "    .dataframe tbody tr th:only-of-type {\n",
       "        vertical-align: middle;\n",
       "    }\n",
       "\n",
       "    .dataframe tbody tr th {\n",
       "        vertical-align: top;\n",
       "    }\n",
       "\n",
       "    .dataframe thead th {\n",
       "        text-align: right;\n",
       "    }\n",
       "</style>\n",
       "<table border=\"1\" class=\"dataframe\">\n",
       "  <thead>\n",
       "    <tr style=\"text-align: right;\">\n",
       "      <th></th>\n",
       "      <th>gdp</th>\n",
       "      <th>date</th>\n",
       "    </tr>\n",
       "  </thead>\n",
       "  <tbody>\n",
       "    <tr>\n",
       "      <th>count</th>\n",
       "      <td>4.000000</td>\n",
       "      <td>4.00000</td>\n",
       "    </tr>\n",
       "    <tr>\n",
       "      <th>mean</th>\n",
       "      <td>552.500000</td>\n",
       "      <td>2000.50000</td>\n",
       "    </tr>\n",
       "    <tr>\n",
       "      <th>std</th>\n",
       "      <td>519.623261</td>\n",
       "      <td>0.57735</td>\n",
       "    </tr>\n",
       "    <tr>\n",
       "      <th>min</th>\n",
       "      <td>100.000000</td>\n",
       "      <td>2000.00000</td>\n",
       "    </tr>\n",
       "    <tr>\n",
       "      <th>25%</th>\n",
       "      <td>103.750000</td>\n",
       "      <td>2000.00000</td>\n",
       "    </tr>\n",
       "    <tr>\n",
       "      <th>50%</th>\n",
       "      <td>552.500000</td>\n",
       "      <td>2000.50000</td>\n",
       "    </tr>\n",
       "    <tr>\n",
       "      <th>75%</th>\n",
       "      <td>1001.250000</td>\n",
       "      <td>2001.00000</td>\n",
       "    </tr>\n",
       "    <tr>\n",
       "      <th>max</th>\n",
       "      <td>1005.000000</td>\n",
       "      <td>2001.00000</td>\n",
       "    </tr>\n",
       "  </tbody>\n",
       "</table>\n",
       "</div>"
      ],
      "text/plain": [
       "               gdp        date\n",
       "count     4.000000     4.00000\n",
       "mean    552.500000  2000.50000\n",
       "std     519.623261     0.57735\n",
       "min     100.000000  2000.00000\n",
       "25%     103.750000  2000.00000\n",
       "50%     552.500000  2000.50000\n",
       "75%    1001.250000  2001.00000\n",
       "max    1005.000000  2001.00000"
      ]
     },
     "metadata": {},
     "output_type": "display_data"
    },
    {
     "data": {
      "text/html": [
       "<div>\n",
       "<style scoped>\n",
       "    .dataframe tbody tr th:only-of-type {\n",
       "        vertical-align: middle;\n",
       "    }\n",
       "\n",
       "    .dataframe tbody tr th {\n",
       "        vertical-align: top;\n",
       "    }\n",
       "\n",
       "    .dataframe thead th {\n",
       "        text-align: right;\n",
       "    }\n",
       "</style>\n",
       "<table border=\"1\" class=\"dataframe\">\n",
       "  <thead>\n",
       "    <tr style=\"text-align: right;\">\n",
       "      <th></th>\n",
       "      <th>country</th>\n",
       "      <th>gdp</th>\n",
       "      <th>date</th>\n",
       "    </tr>\n",
       "  </thead>\n",
       "  <tbody>\n",
       "    <tr>\n",
       "      <th>0</th>\n",
       "      <td>usa</td>\n",
       "      <td>1000</td>\n",
       "      <td>2000</td>\n",
       "    </tr>\n",
       "    <tr>\n",
       "      <th>1</th>\n",
       "      <td>usa</td>\n",
       "      <td>1005</td>\n",
       "      <td>2001</td>\n",
       "    </tr>\n",
       "    <tr>\n",
       "      <th>2</th>\n",
       "      <td>france</td>\n",
       "      <td>100</td>\n",
       "      <td>2000</td>\n",
       "    </tr>\n",
       "    <tr>\n",
       "      <th>3</th>\n",
       "      <td>france</td>\n",
       "      <td>105</td>\n",
       "      <td>2001</td>\n",
       "    </tr>\n",
       "  </tbody>\n",
       "</table>\n",
       "</div>"
      ],
      "text/plain": [
       "  country   gdp   date\n",
       "0     usa  1000   2000\n",
       "1     usa  1005   2001\n",
       "2  france   100   2000\n",
       "3  france   105   2001"
      ]
     },
     "execution_count": 17,
     "metadata": {},
     "output_type": "execute_result"
    }
   ],
   "source": [
    "import_and_print(\"dataset.csv\")"
   ]
  },
  {
   "cell_type": "code",
   "execution_count": 18,
   "id": "412cce28",
   "metadata": {},
   "outputs": [
    {
     "data": {
      "text/html": [
       "<div>\n",
       "<style scoped>\n",
       "    .dataframe tbody tr th:only-of-type {\n",
       "        vertical-align: middle;\n",
       "    }\n",
       "\n",
       "    .dataframe tbody tr th {\n",
       "        vertical-align: top;\n",
       "    }\n",
       "\n",
       "    .dataframe thead th {\n",
       "        text-align: right;\n",
       "    }\n",
       "</style>\n",
       "<table border=\"1\" class=\"dataframe\">\n",
       "  <thead>\n",
       "    <tr style=\"text-align: right;\">\n",
       "      <th></th>\n",
       "      <th>country</th>\n",
       "      <th>gdp</th>\n",
       "      <th>date</th>\n",
       "    </tr>\n",
       "  </thead>\n",
       "  <tbody>\n",
       "    <tr>\n",
       "      <th>0</th>\n",
       "      <td>usa</td>\n",
       "      <td>1000</td>\n",
       "      <td>2000</td>\n",
       "    </tr>\n",
       "    <tr>\n",
       "      <th>1</th>\n",
       "      <td>usa</td>\n",
       "      <td>1005</td>\n",
       "      <td>2001</td>\n",
       "    </tr>\n",
       "    <tr>\n",
       "      <th>2</th>\n",
       "      <td>france</td>\n",
       "      <td>100</td>\n",
       "      <td>2000</td>\n",
       "    </tr>\n",
       "    <tr>\n",
       "      <th>3</th>\n",
       "      <td>france</td>\n",
       "      <td>105</td>\n",
       "      <td>2001</td>\n",
       "    </tr>\n",
       "  </tbody>\n",
       "</table>\n",
       "</div>"
      ],
      "text/plain": [
       "  country   gdp   date\n",
       "0     usa  1000   2000\n",
       "1     usa  1005   2001\n",
       "2  france   100   2000\n",
       "3  france   105   2001"
      ]
     },
     "execution_count": 18,
     "metadata": {},
     "output_type": "execute_result"
    }
   ],
   "source": [
    "import_and_print(\"dataset_2.csv\", False)"
   ]
  },
  {
   "cell_type": "code",
   "execution_count": 20,
   "id": "df376273",
   "metadata": {},
   "outputs": [],
   "source": [
    "def f(x): # no side effect\n",
    "    return x**2 + 1"
   ]
  },
  {
   "cell_type": "code",
   "execution_count": 22,
   "id": "aaa1e365",
   "metadata": {},
   "outputs": [],
   "source": [
    "import time"
   ]
  },
  {
   "cell_type": "code",
   "execution_count": 25,
   "id": "7a88904e",
   "metadata": {},
   "outputs": [],
   "source": [
    "def g(x): # that one has side effects\n",
    "    print(\"Calculating...\")\n",
    "    time.sleep(10)\n",
    "    return x**2 + 1"
   ]
  },
  {
   "cell_type": "code",
   "execution_count": 24,
   "id": "b551009b",
   "metadata": {},
   "outputs": [
    {
     "name": "stdout",
     "output_type": "stream",
     "text": [
      "Calculating...\n"
     ]
    },
    {
     "data": {
      "text/plain": [
       "2"
      ]
     },
     "execution_count": 24,
     "metadata": {},
     "output_type": "execute_result"
    }
   ],
   "source": [
    "g(1)"
   ]
  },
  {
   "cell_type": "code",
   "execution_count": 27,
   "id": "1d1db657",
   "metadata": {},
   "outputs": [],
   "source": [
    "def h(x): # that one has only side effects\n",
    "    print(\"Calculating...\")\n",
    "    time.sleep(10)\n",
    "    y =  x**2 + 1\n",
    "    print(f\"Found it! {y}\")"
   ]
  },
  {
   "cell_type": "code",
   "execution_count": 28,
   "id": "4f7f5c30",
   "metadata": {},
   "outputs": [
    {
     "name": "stdout",
     "output_type": "stream",
     "text": [
      "Calculating...\n",
      "Found it! 2\n"
     ]
    }
   ],
   "source": [
    "h(1)"
   ]
  },
  {
   "cell_type": "markdown",
   "id": "10e4dca5",
   "metadata": {},
   "source": [
    "Documenting code:\n",
    "\n",
    "- adding comments: `# ...`\n",
    "- add docstrings: just after the function name, a string explaining what the function does"
   ]
  },
  {
   "cell_type": "code",
   "execution_count": 32,
   "id": "f6458f79",
   "metadata": {},
   "outputs": [],
   "source": [
    "def import_and_print(fname, print_statistics=True):\n",
    "    \"Import a dataframe from a filename, print the main statistics and return the dataframe.\"\n",
    "    \n",
    "    \n",
    "    # import the file to get a dataframe\n",
    "    df = pandas.read_csv(fname)\n",
    "    \n",
    "    if print_statistics==True:\n",
    "        display(\"Summary Statistics\")\n",
    "        # we print default summary statistics computed by pandas\n",
    "        display(df.describe())\n",
    "        \n",
    "    return df"
   ]
  },
  {
   "cell_type": "code",
   "execution_count": 34,
   "id": "704d1a17",
   "metadata": {},
   "outputs": [
    {
     "data": {
      "text/plain": [
       "\u001b[0;31mSignature:\u001b[0m \u001b[0mimport_and_print\u001b[0m\u001b[0;34m(\u001b[0m\u001b[0mfname\u001b[0m\u001b[0;34m,\u001b[0m \u001b[0mprint_statistics\u001b[0m\u001b[0;34m=\u001b[0m\u001b[0;32mTrue\u001b[0m\u001b[0;34m)\u001b[0m\u001b[0;34m\u001b[0m\u001b[0;34m\u001b[0m\u001b[0m\n",
       "\u001b[0;31mDocstring:\u001b[0m Import a dataframe from a filename, print the main statistics and return the dataframe.\n",
       "\u001b[0;31mFile:\u001b[0m      ~/Teaching/dbe/session_6/<ipython-input-32-fb18d0d82cec>\n",
       "\u001b[0;31mType:\u001b[0m      function\n"
      ]
     },
     "metadata": {},
     "output_type": "display_data"
    }
   ],
   "source": [
    "import_and_print?"
   ]
  },
  {
   "cell_type": "code",
   "execution_count": 35,
   "id": "31480b9f",
   "metadata": {},
   "outputs": [],
   "source": [
    "def import_and_print(fname, print_statistics=True):\n",
    "    \"\"\"Import a dataframe from a filename.\n",
    "    \n",
    "    fname (string): filename\n",
    "    print_statistics (boolean): if True print summary statistics\n",
    "    \n",
    "    \"\"\"\n",
    "    \n",
    "    \n",
    "    # import the file to get a dataframe\n",
    "    df = pandas.read_csv(fname)\n",
    "    \n",
    "    if print_statistics==True:\n",
    "        display(\"Summary Statistics\")\n",
    "        # we print default summary statistics computed by pandas\n",
    "        display(df.describe())\n",
    "        \n",
    "    return df"
   ]
  },
  {
   "cell_type": "code",
   "execution_count": 36,
   "id": "dea4fd4e",
   "metadata": {},
   "outputs": [
    {
     "data": {
      "text/plain": [
       "\u001b[0;31mSignature:\u001b[0m \u001b[0mimport_and_print\u001b[0m\u001b[0;34m(\u001b[0m\u001b[0mfname\u001b[0m\u001b[0;34m,\u001b[0m \u001b[0mprint_statistics\u001b[0m\u001b[0;34m=\u001b[0m\u001b[0;32mTrue\u001b[0m\u001b[0;34m)\u001b[0m\u001b[0;34m\u001b[0m\u001b[0;34m\u001b[0m\u001b[0m\n",
       "\u001b[0;31mDocstring:\u001b[0m\n",
       "Import a dataframe from a filename.\n",
       "\n",
       "fname (string): filename\n",
       "print_statistics (boolean): if True print summary statistics\n",
       "\u001b[0;31mFile:\u001b[0m      ~/Teaching/dbe/session_6/<ipython-input-35-97c3580f10df>\n",
       "\u001b[0;31mType:\u001b[0m      function\n"
      ]
     },
     "metadata": {},
     "output_type": "display_data"
    }
   ],
   "source": [
    "import_and_print?"
   ]
  },
  {
   "cell_type": "code",
   "execution_count": 37,
   "id": "c1b98eec",
   "metadata": {},
   "outputs": [
    {
     "data": {
      "text/plain": [
       "8"
      ]
     },
     "execution_count": 37,
     "metadata": {},
     "output_type": "execute_result"
    }
   ],
   "source": [
    "(lambda x: x**2-1)   (3)"
   ]
  },
  {
   "cell_type": "code",
   "execution_count": 38,
   "id": "2c9754d2",
   "metadata": {},
   "outputs": [
    {
     "data": {
      "text/plain": [
       "8"
      ]
     },
     "execution_count": 38,
     "metadata": {},
     "output_type": "execute_result"
    }
   ],
   "source": [
    "f = (lambda x: x**2-1)\n",
    "f(3)"
   ]
  },
  {
   "cell_type": "code",
   "execution_count": 40,
   "id": "b6c50f1c",
   "metadata": {},
   "outputs": [],
   "source": [
    "## anonymous functions are useful for the groupby pandas function"
   ]
  },
  {
   "cell_type": "code",
   "execution_count": 41,
   "id": "e1a79b6f",
   "metadata": {},
   "outputs": [
    {
     "data": {
      "text/html": [
       "<div>\n",
       "<style scoped>\n",
       "    .dataframe tbody tr th:only-of-type {\n",
       "        vertical-align: middle;\n",
       "    }\n",
       "\n",
       "    .dataframe tbody tr th {\n",
       "        vertical-align: top;\n",
       "    }\n",
       "\n",
       "    .dataframe thead th {\n",
       "        text-align: right;\n",
       "    }\n",
       "</style>\n",
       "<table border=\"1\" class=\"dataframe\">\n",
       "  <thead>\n",
       "    <tr style=\"text-align: right;\">\n",
       "      <th></th>\n",
       "      <th>country</th>\n",
       "      <th>gdp</th>\n",
       "      <th>date</th>\n",
       "    </tr>\n",
       "  </thead>\n",
       "  <tbody>\n",
       "    <tr>\n",
       "      <th>0</th>\n",
       "      <td>usa</td>\n",
       "      <td>1000</td>\n",
       "      <td>2000</td>\n",
       "    </tr>\n",
       "    <tr>\n",
       "      <th>1</th>\n",
       "      <td>usa</td>\n",
       "      <td>1005</td>\n",
       "      <td>2001</td>\n",
       "    </tr>\n",
       "    <tr>\n",
       "      <th>2</th>\n",
       "      <td>france</td>\n",
       "      <td>100</td>\n",
       "      <td>2000</td>\n",
       "    </tr>\n",
       "    <tr>\n",
       "      <th>3</th>\n",
       "      <td>france</td>\n",
       "      <td>105</td>\n",
       "      <td>2001</td>\n",
       "    </tr>\n",
       "  </tbody>\n",
       "</table>\n",
       "</div>"
      ],
      "text/plain": [
       "  country   gdp   date\n",
       "0     usa  1000   2000\n",
       "1     usa  1005   2001\n",
       "2  france   100   2000\n",
       "3  france   105   2001"
      ]
     },
     "execution_count": 41,
     "metadata": {},
     "output_type": "execute_result"
    }
   ],
   "source": [
    "df"
   ]
  },
  {
   "cell_type": "code",
   "execution_count": 52,
   "id": "a49272f7",
   "metadata": {},
   "outputs": [
    {
     "name": "stdout",
     "output_type": "stream",
     "text": [
      "Selecting country usa\n",
      " gdp     1002.5\n",
      " date    2000.5\n",
      "dtype: float64\n",
      "Selecting country france\n",
      " gdp      102.5\n",
      " date    2000.5\n",
      "dtype: float64\n"
     ]
    }
   ],
   "source": [
    "# naive approach\n",
    "l = []\n",
    "for country in df[\"country\"].unique():\n",
    "    print(f\"Selecting country {country}\")\n",
    "    sel = df[\"country\"]==country\n",
    "    sdf = df[sel] # sub dataframe with the right country\n",
    "    print( sdf.mean() )\n",
    "    l.append(df_s.mean())"
   ]
  },
  {
   "cell_type": "code",
   "execution_count": 61,
   "id": "3b779aae",
   "metadata": {},
   "outputs": [],
   "source": [
    "def todo(sdf): print( sdf.mean())"
   ]
  },
  {
   "cell_type": "code",
   "execution_count": 62,
   "id": "0ab37cc1",
   "metadata": {},
   "outputs": [
    {
     "name": "stdout",
     "output_type": "stream",
     "text": [
      " gdp      102.5\n",
      " date    2000.5\n",
      "dtype: float64\n",
      " gdp     1002.5\n",
      " date    2000.5\n",
      "dtype: float64\n"
     ]
    },
    {
     "data": {
      "text/html": [
       "<div>\n",
       "<style scoped>\n",
       "    .dataframe tbody tr th:only-of-type {\n",
       "        vertical-align: middle;\n",
       "    }\n",
       "\n",
       "    .dataframe tbody tr th {\n",
       "        vertical-align: top;\n",
       "    }\n",
       "\n",
       "    .dataframe thead th {\n",
       "        text-align: right;\n",
       "    }\n",
       "</style>\n",
       "<table border=\"1\" class=\"dataframe\">\n",
       "  <thead>\n",
       "    <tr style=\"text-align: right;\">\n",
       "      <th></th>\n",
       "    </tr>\n",
       "  </thead>\n",
       "  <tbody>\n",
       "  </tbody>\n",
       "</table>\n",
       "</div>"
      ],
      "text/plain": [
       "Empty DataFrame\n",
       "Columns: []\n",
       "Index: []"
      ]
     },
     "execution_count": 62,
     "metadata": {},
     "output_type": "execute_result"
    }
   ],
   "source": [
    "df.groupby(\"country\").apply( todo )"
   ]
  },
  {
   "cell_type": "code",
   "execution_count": 63,
   "id": "05dfd579",
   "metadata": {},
   "outputs": [
    {
     "data": {
      "text/html": [
       "<div>\n",
       "<style scoped>\n",
       "    .dataframe tbody tr th:only-of-type {\n",
       "        vertical-align: middle;\n",
       "    }\n",
       "\n",
       "    .dataframe tbody tr th {\n",
       "        vertical-align: top;\n",
       "    }\n",
       "\n",
       "    .dataframe thead th {\n",
       "        text-align: right;\n",
       "    }\n",
       "</style>\n",
       "<table border=\"1\" class=\"dataframe\">\n",
       "  <thead>\n",
       "    <tr style=\"text-align: right;\">\n",
       "      <th></th>\n",
       "      <th>gdp</th>\n",
       "      <th>date</th>\n",
       "    </tr>\n",
       "    <tr>\n",
       "      <th>country</th>\n",
       "      <th></th>\n",
       "      <th></th>\n",
       "    </tr>\n",
       "  </thead>\n",
       "  <tbody>\n",
       "    <tr>\n",
       "      <th>france</th>\n",
       "      <td>102.5</td>\n",
       "      <td>2000.5</td>\n",
       "    </tr>\n",
       "    <tr>\n",
       "      <th>usa</th>\n",
       "      <td>1002.5</td>\n",
       "      <td>2000.5</td>\n",
       "    </tr>\n",
       "  </tbody>\n",
       "</table>\n",
       "</div>"
      ],
      "text/plain": [
       "            gdp    date\n",
       "country                \n",
       "france    102.5  2000.5\n",
       "usa      1002.5  2000.5"
      ]
     },
     "execution_count": 63,
     "metadata": {},
     "output_type": "execute_result"
    }
   ],
   "source": [
    "df.groupby(\"country\").apply( lambda sdf: (sdf.mean()) )"
   ]
  },
  {
   "cell_type": "markdown",
   "id": "20e95786",
   "metadata": {},
   "source": [
    "## Baby example on mock dataset"
   ]
  },
  {
   "cell_type": "markdown",
   "id": "77b466b3",
   "metadata": {},
   "source": [
    "### Constructing the dataset\n",
    "\n",
    "Create four random series of length $N=1000$\n",
    "\n",
    "- $x$: education\n",
    "- $y$: salary\n",
    "- $z$: ambition\n",
    "- $q$: early smoking \n",
    "\n",
    "such that:\n",
    "\n",
    "1. $x$ and $z$ cause $y$\n",
    "2. $z$ causes $x$\n",
    "3. $q$ is correlated with $x$, not with $z$\n",
    "\n",
    "(all relations are linear, add random shocks where needed)\n",
    "\n",
    "Create a dataset `df`\n"
   ]
  },
  {
   "cell_type": "code",
   "execution_count": 64,
   "id": "460966a2",
   "metadata": {},
   "outputs": [],
   "source": [
    "import numpy"
   ]
  },
  {
   "cell_type": "code",
   "execution_count": 128,
   "id": "230e4bf2",
   "metadata": {},
   "outputs": [],
   "source": [
    "N = 100000"
   ]
  },
  {
   "cell_type": "code",
   "execution_count": 129,
   "id": "87beb084",
   "metadata": {},
   "outputs": [],
   "source": [
    "ϵ_z = numpy.random.randn(N)*0.01\n",
    "ϵ_x = numpy.random.randn(N)*0.01\n",
    "ϵ_q = numpy.random.randn(N)*0.01\n",
    "ϵ_y = numpy.random.randn(N)*0.01"
   ]
  },
  {
   "cell_type": "code",
   "execution_count": 130,
   "id": "682c4c5b",
   "metadata": {},
   "outputs": [],
   "source": [
    "z = 0.1 + ϵ_z\n",
    "x = 0.1 + z + ϵ_x\n",
    "q = 0.5 + 0.1234*ϵ_x + ϵ_q\n",
    "y  = 1.0 + 0.9*x + 0.4*z + ϵ_y"
   ]
  },
  {
   "cell_type": "code",
   "execution_count": 131,
   "id": "456df621",
   "metadata": {},
   "outputs": [],
   "source": [
    "df = pandas.DataFrame({\n",
    "    \"x\": x,\n",
    "    \"y\": y,\n",
    "    \"z\": z,\n",
    "    \"q\": q\n",
    "})"
   ]
  },
  {
   "cell_type": "code",
   "execution_count": 132,
   "id": "99f836ba",
   "metadata": {},
   "outputs": [
    {
     "data": {
      "text/html": [
       "<div>\n",
       "<style scoped>\n",
       "    .dataframe tbody tr th:only-of-type {\n",
       "        vertical-align: middle;\n",
       "    }\n",
       "\n",
       "    .dataframe tbody tr th {\n",
       "        vertical-align: top;\n",
       "    }\n",
       "\n",
       "    .dataframe thead th {\n",
       "        text-align: right;\n",
       "    }\n",
       "</style>\n",
       "<table border=\"1\" class=\"dataframe\">\n",
       "  <thead>\n",
       "    <tr style=\"text-align: right;\">\n",
       "      <th></th>\n",
       "      <th>x</th>\n",
       "      <th>y</th>\n",
       "      <th>z</th>\n",
       "      <th>q</th>\n",
       "    </tr>\n",
       "  </thead>\n",
       "  <tbody>\n",
       "    <tr>\n",
       "      <th>x</th>\n",
       "      <td>1.000000</td>\n",
       "      <td>0.831152</td>\n",
       "      <td>0.708497</td>\n",
       "      <td>0.079905</td>\n",
       "    </tr>\n",
       "    <tr>\n",
       "      <th>y</th>\n",
       "      <td>0.831152</td>\n",
       "      <td>1.000000</td>\n",
       "      <td>0.694133</td>\n",
       "      <td>0.054070</td>\n",
       "    </tr>\n",
       "    <tr>\n",
       "      <th>z</th>\n",
       "      <td>0.708497</td>\n",
       "      <td>0.694133</td>\n",
       "      <td>1.000000</td>\n",
       "      <td>-0.006022</td>\n",
       "    </tr>\n",
       "    <tr>\n",
       "      <th>q</th>\n",
       "      <td>0.079905</td>\n",
       "      <td>0.054070</td>\n",
       "      <td>-0.006022</td>\n",
       "      <td>1.000000</td>\n",
       "    </tr>\n",
       "  </tbody>\n",
       "</table>\n",
       "</div>"
      ],
      "text/plain": [
       "          x         y         z         q\n",
       "x  1.000000  0.831152  0.708497  0.079905\n",
       "y  0.831152  1.000000  0.694133  0.054070\n",
       "z  0.708497  0.694133  1.000000 -0.006022\n",
       "q  0.079905  0.054070 -0.006022  1.000000"
      ]
     },
     "execution_count": 132,
     "metadata": {},
     "output_type": "execute_result"
    }
   ],
   "source": [
    "df.corr()\n"
   ]
  },
  {
   "cell_type": "markdown",
   "id": "270329ee",
   "metadata": {},
   "source": [
    "### Naive approach\n",
    "\n",
    "Run a regression to estimate the effect of $x$ on $y$. Control by $z$.\n",
    "What happens ?"
   ]
  },
  {
   "cell_type": "code",
   "execution_count": 133,
   "id": "aab54385",
   "metadata": {},
   "outputs": [],
   "source": [
    "import linearmodels\n",
    "from statsmodels.formula import api"
   ]
  },
  {
   "cell_type": "code",
   "execution_count": 134,
   "id": "4676b0cd",
   "metadata": {},
   "outputs": [
    {
     "data": {
      "text/html": [
       "<table class=\"simpletable\">\n",
       "<caption>OLS Regression Results</caption>\n",
       "<tr>\n",
       "  <th>Dep. Variable:</th>            <td>y</td>        <th>  R-squared:         </th>  <td>   0.691</td> \n",
       "</tr>\n",
       "<tr>\n",
       "  <th>Model:</th>                   <td>OLS</td>       <th>  Adj. R-squared:    </th>  <td>   0.691</td> \n",
       "</tr>\n",
       "<tr>\n",
       "  <th>Method:</th>             <td>Least Squares</td>  <th>  F-statistic:       </th>  <td>2.234e+05</td>\n",
       "</tr>\n",
       "<tr>\n",
       "  <th>Date:</th>             <td>Wed, 09 Mar 2022</td> <th>  Prob (F-statistic):</th>   <td>  0.00</td>  \n",
       "</tr>\n",
       "<tr>\n",
       "  <th>Time:</th>                 <td>12:14:59</td>     <th>  Log-Likelihood:    </th> <td>3.1488e+05</td>\n",
       "</tr>\n",
       "<tr>\n",
       "  <th>No. Observations:</th>      <td>100000</td>      <th>  AIC:               </th> <td>-6.298e+05</td>\n",
       "</tr>\n",
       "<tr>\n",
       "  <th>Df Residuals:</th>          <td> 99998</td>      <th>  BIC:               </th> <td>-6.297e+05</td>\n",
       "</tr>\n",
       "<tr>\n",
       "  <th>Df Model:</th>              <td>     1</td>      <th>                     </th>      <td> </td>    \n",
       "</tr>\n",
       "<tr>\n",
       "  <th>Covariance Type:</th>      <td>nonrobust</td>    <th>                     </th>      <td> </td>    \n",
       "</tr>\n",
       "</table>\n",
       "<table class=\"simpletable\">\n",
       "<tr>\n",
       "      <td></td>         <th>coef</th>     <th>std err</th>      <th>t</th>      <th>P>|t|</th>  <th>[0.025</th>    <th>0.975]</th>  \n",
       "</tr>\n",
       "<tr>\n",
       "  <th>Intercept</th> <td>    1.0005</td> <td>    0.000</td> <td> 2150.251</td> <td> 0.000</td> <td>    1.000</td> <td>    1.001</td>\n",
       "</tr>\n",
       "<tr>\n",
       "  <th>x</th>         <td>    1.0974</td> <td>    0.002</td> <td>  472.679</td> <td> 0.000</td> <td>    1.093</td> <td>    1.102</td>\n",
       "</tr>\n",
       "</table>\n",
       "<table class=\"simpletable\">\n",
       "<tr>\n",
       "  <th>Omnibus:</th>       <td> 2.727</td> <th>  Durbin-Watson:     </th> <td>   1.991</td>\n",
       "</tr>\n",
       "<tr>\n",
       "  <th>Prob(Omnibus):</th> <td> 0.256</td> <th>  Jarque-Bera (JB):  </th> <td>   2.727</td>\n",
       "</tr>\n",
       "<tr>\n",
       "  <th>Skew:</th>          <td> 0.008</td> <th>  Prob(JB):          </th> <td>   0.256</td>\n",
       "</tr>\n",
       "<tr>\n",
       "  <th>Kurtosis:</th>      <td> 3.019</td> <th>  Cond. No.          </th> <td>    73.5</td>\n",
       "</tr>\n",
       "</table><br/><br/>Notes:<br/>[1] Standard Errors assume that the covariance matrix of the errors is correctly specified."
      ],
      "text/plain": [
       "<class 'statsmodels.iolib.summary.Summary'>\n",
       "\"\"\"\n",
       "                            OLS Regression Results                            \n",
       "==============================================================================\n",
       "Dep. Variable:                      y   R-squared:                       0.691\n",
       "Model:                            OLS   Adj. R-squared:                  0.691\n",
       "Method:                 Least Squares   F-statistic:                 2.234e+05\n",
       "Date:                Wed, 09 Mar 2022   Prob (F-statistic):               0.00\n",
       "Time:                        12:14:59   Log-Likelihood:             3.1488e+05\n",
       "No. Observations:              100000   AIC:                        -6.298e+05\n",
       "Df Residuals:                   99998   BIC:                        -6.297e+05\n",
       "Df Model:                           1                                         \n",
       "Covariance Type:            nonrobust                                         \n",
       "==============================================================================\n",
       "                 coef    std err          t      P>|t|      [0.025      0.975]\n",
       "------------------------------------------------------------------------------\n",
       "Intercept      1.0005      0.000   2150.251      0.000       1.000       1.001\n",
       "x              1.0974      0.002    472.679      0.000       1.093       1.102\n",
       "==============================================================================\n",
       "Omnibus:                        2.727   Durbin-Watson:                   1.991\n",
       "Prob(Omnibus):                  0.256   Jarque-Bera (JB):                2.727\n",
       "Skew:                           0.008   Prob(JB):                        0.256\n",
       "Kurtosis:                       3.019   Cond. No.                         73.5\n",
       "==============================================================================\n",
       "\n",
       "Notes:\n",
       "[1] Standard Errors assume that the covariance matrix of the errors is correctly specified.\n",
       "\"\"\""
      ]
     },
     "execution_count": 134,
     "metadata": {},
     "output_type": "execute_result"
    }
   ],
   "source": [
    "model = api.ols(\"y ~ x\", df)\n",
    "res = model.fit()\n",
    "res.summary()"
   ]
  },
  {
   "cell_type": "code",
   "execution_count": 135,
   "id": "3b111fec",
   "metadata": {},
   "outputs": [
    {
     "data": {
      "text/html": [
       "<table class=\"simpletable\">\n",
       "<caption>OLS Regression Results</caption>\n",
       "<tr>\n",
       "  <th>Dep. Variable:</th>            <td>y</td>        <th>  R-squared:         </th>  <td>   0.713</td> \n",
       "</tr>\n",
       "<tr>\n",
       "  <th>Model:</th>                   <td>OLS</td>       <th>  Adj. R-squared:    </th>  <td>   0.713</td> \n",
       "</tr>\n",
       "<tr>\n",
       "  <th>Method:</th>             <td>Least Squares</td>  <th>  F-statistic:       </th>  <td>1.243e+05</td>\n",
       "</tr>\n",
       "<tr>\n",
       "  <th>Date:</th>             <td>Wed, 09 Mar 2022</td> <th>  Prob (F-statistic):</th>   <td>  0.00</td>  \n",
       "</tr>\n",
       "<tr>\n",
       "  <th>Time:</th>                 <td>12:15:00</td>     <th>  Log-Likelihood:    </th> <td>3.1862e+05</td>\n",
       "</tr>\n",
       "<tr>\n",
       "  <th>No. Observations:</th>      <td>100000</td>      <th>  AIC:               </th> <td>-6.372e+05</td>\n",
       "</tr>\n",
       "<tr>\n",
       "  <th>Df Residuals:</th>          <td> 99997</td>      <th>  BIC:               </th> <td>-6.372e+05</td>\n",
       "</tr>\n",
       "<tr>\n",
       "  <th>Df Model:</th>              <td>     2</td>      <th>                     </th>      <td> </td>    \n",
       "</tr>\n",
       "<tr>\n",
       "  <th>Covariance Type:</th>      <td>nonrobust</td>    <th>                     </th>      <td> </td>    \n",
       "</tr>\n",
       "</table>\n",
       "<table class=\"simpletable\">\n",
       "<tr>\n",
       "      <td></td>         <th>coef</th>     <th>std err</th>      <th>t</th>      <th>P>|t|</th>  <th>[0.025</th>    <th>0.975]</th>  \n",
       "</tr>\n",
       "<tr>\n",
       "  <th>Intercept</th> <td>    1.0007</td> <td>    0.000</td> <td> 2232.389</td> <td> 0.000</td> <td>    1.000</td> <td>    1.002</td>\n",
       "</tr>\n",
       "<tr>\n",
       "  <th>x</th>         <td>    0.8997</td> <td>    0.003</td> <td>  283.880</td> <td> 0.000</td> <td>    0.893</td> <td>    0.906</td>\n",
       "</tr>\n",
       "<tr>\n",
       "  <th>z</th>         <td>    0.3938</td> <td>    0.004</td> <td>   88.054</td> <td> 0.000</td> <td>    0.385</td> <td>    0.403</td>\n",
       "</tr>\n",
       "</table>\n",
       "<table class=\"simpletable\">\n",
       "<tr>\n",
       "  <th>Omnibus:</th>       <td> 2.380</td> <th>  Durbin-Watson:     </th> <td>   1.990</td>\n",
       "</tr>\n",
       "<tr>\n",
       "  <th>Prob(Omnibus):</th> <td> 0.304</td> <th>  Jarque-Bera (JB):  </th> <td>   2.379</td>\n",
       "</tr>\n",
       "<tr>\n",
       "  <th>Skew:</th>          <td> 0.007</td> <th>  Prob(JB):          </th> <td>   0.304</td>\n",
       "</tr>\n",
       "<tr>\n",
       "  <th>Kurtosis:</th>      <td> 3.019</td> <th>  Cond. No.          </th> <td>    166.</td>\n",
       "</tr>\n",
       "</table><br/><br/>Notes:<br/>[1] Standard Errors assume that the covariance matrix of the errors is correctly specified."
      ],
      "text/plain": [
       "<class 'statsmodels.iolib.summary.Summary'>\n",
       "\"\"\"\n",
       "                            OLS Regression Results                            \n",
       "==============================================================================\n",
       "Dep. Variable:                      y   R-squared:                       0.713\n",
       "Model:                            OLS   Adj. R-squared:                  0.713\n",
       "Method:                 Least Squares   F-statistic:                 1.243e+05\n",
       "Date:                Wed, 09 Mar 2022   Prob (F-statistic):               0.00\n",
       "Time:                        12:15:00   Log-Likelihood:             3.1862e+05\n",
       "No. Observations:              100000   AIC:                        -6.372e+05\n",
       "Df Residuals:                   99997   BIC:                        -6.372e+05\n",
       "Df Model:                           2                                         \n",
       "Covariance Type:            nonrobust                                         \n",
       "==============================================================================\n",
       "                 coef    std err          t      P>|t|      [0.025      0.975]\n",
       "------------------------------------------------------------------------------\n",
       "Intercept      1.0007      0.000   2232.389      0.000       1.000       1.002\n",
       "x              0.8997      0.003    283.880      0.000       0.893       0.906\n",
       "z              0.3938      0.004     88.054      0.000       0.385       0.403\n",
       "==============================================================================\n",
       "Omnibus:                        2.380   Durbin-Watson:                   1.990\n",
       "Prob(Omnibus):                  0.304   Jarque-Bera (JB):                2.379\n",
       "Skew:                           0.007   Prob(JB):                        0.304\n",
       "Kurtosis:                       3.019   Cond. No.                         166.\n",
       "==============================================================================\n",
       "\n",
       "Notes:\n",
       "[1] Standard Errors assume that the covariance matrix of the errors is correctly specified.\n",
       "\"\"\""
      ]
     },
     "execution_count": 135,
     "metadata": {},
     "output_type": "execute_result"
    }
   ],
   "source": [
    "model = api.ols(\"y ~ x + z\", df)\n",
    "res = model.fit()\n",
    "res.summary()"
   ]
  },
  {
   "cell_type": "markdown",
   "id": "f072ffed",
   "metadata": {},
   "source": [
    "### Instrumental variable\n",
    "\n",
    "Use $q$ to instrument the effect of x on y. Comment."
   ]
  },
  {
   "cell_type": "code",
   "execution_count": 136,
   "id": "1d9b598f",
   "metadata": {},
   "outputs": [],
   "source": [
    "# difference between linearmodels and statsmodels:\n",
    "# linearmodels does not include the constant by defulat"
   ]
  },
  {
   "cell_type": "code",
   "execution_count": 137,
   "id": "19b8fbdd",
   "metadata": {},
   "outputs": [],
   "source": [
    "from linearmodels import IV2SLS"
   ]
  },
  {
   "cell_type": "code",
   "execution_count": 138,
   "id": "f92cb5d2",
   "metadata": {},
   "outputs": [
    {
     "data": {
      "text/html": [
       "<table class=\"simpletable\">\n",
       "<caption>IV-2SLS Estimation Summary</caption>\n",
       "<tr>\n",
       "  <th>Dep. Variable:</th>            <td>y</td>        <th>  R-squared:         </th> <td>0.6670</td> \n",
       "</tr>\n",
       "<tr>\n",
       "  <th>Estimator:</th>             <td>IV-2SLS</td>     <th>  Adj. R-squared:    </th> <td>0.6669</td> \n",
       "</tr>\n",
       "<tr>\n",
       "  <th>No. Observations:</th>      <td>100000</td>      <th>  F-statistic:       </th> <td>883.43</td> \n",
       "</tr>\n",
       "<tr>\n",
       "  <th>Date:</th>             <td>Wed, Mar 09 2022</td> <th>  P-value (F-stat)   </th> <td>0.0000</td> \n",
       "</tr>\n",
       "<tr>\n",
       "  <th>Time:</th>                 <td>12:15:00</td>     <th>  Distribution:      </th> <td>chi2(1)</td>\n",
       "</tr>\n",
       "<tr>\n",
       "  <th>Cov. Estimator:</th>        <td>robust</td>      <th>                     </th>    <td></td>    \n",
       "</tr>\n",
       "<tr>\n",
       "  <th></th>                          <td></td>         <th>                     </th>    <td></td>    \n",
       "</tr>\n",
       "</table>\n",
       "<table class=\"simpletable\">\n",
       "<caption>Parameter Estimates</caption>\n",
       "<tr>\n",
       "      <td></td>      <th>Parameter</th> <th>Std. Err.</th> <th>T-stat</th> <th>P-value</th> <th>Lower CI</th> <th>Upper CI</th>\n",
       "</tr>\n",
       "<tr>\n",
       "  <th>Intercept</th>  <td>1.0413</td>    <td>0.0060</td>   <td>173.27</td> <td>0.0000</td>   <td>1.0295</td>   <td>1.0531</td> \n",
       "</tr>\n",
       "<tr>\n",
       "  <th>x</th>          <td>0.8934</td>    <td>0.0301</td>   <td>29.723</td> <td>0.0000</td>   <td>0.8345</td>   <td>0.9523</td> \n",
       "</tr>\n",
       "</table><br/><br/>Endogenous: x<br/>Instruments: q<br/>Robust Covariance (Heteroskedastic)<br/>Debiased: False<br/>id: 0x7f09adece490"
      ],
      "text/plain": [
       "                          IV-2SLS Estimation Summary                          \n",
       "==============================================================================\n",
       "Dep. Variable:                      y   R-squared:                      0.6670\n",
       "Estimator:                    IV-2SLS   Adj. R-squared:                 0.6669\n",
       "No. Observations:              100000   F-statistic:                    883.43\n",
       "Date:                Wed, Mar 09 2022   P-value (F-stat)                0.0000\n",
       "Time:                        12:15:00   Distribution:                  chi2(1)\n",
       "Cov. Estimator:                robust                                         \n",
       "                                                                              \n",
       "                             Parameter Estimates                              \n",
       "==============================================================================\n",
       "            Parameter  Std. Err.     T-stat    P-value    Lower CI    Upper CI\n",
       "------------------------------------------------------------------------------\n",
       "Intercept      1.0413     0.0060     173.27     0.0000      1.0295      1.0531\n",
       "x              0.8934     0.0301     29.723     0.0000      0.8345      0.9523\n",
       "==============================================================================\n",
       "\n",
       "Endogenous: x\n",
       "Instruments: q\n",
       "Robust Covariance (Heteroskedastic)\n",
       "Debiased: False\n",
       "IVResults, id: 0x7f09adece490"
      ]
     },
     "execution_count": 138,
     "metadata": {},
     "output_type": "execute_result"
    }
   ],
   "source": [
    "formula = (\n",
    "    \"y ~ 1 + [x ~ q]\"\n",
    ")\n",
    "mod = IV2SLS.from_formula(formula, df)\n",
    "res = mod.fit()\n",
    "res"
   ]
  },
  {
   "cell_type": "markdown",
   "id": "aaaa89e5",
   "metadata": {},
   "source": [
    "## Return on Education"
   ]
  },
  {
   "cell_type": "markdown",
   "id": "c58b95d9",
   "metadata": {},
   "source": [
    "We follow the excellent R [tutorial](https://www.econometrics-with-r.org/12-6-exercises-10.html) from the (excellent) *Econometrics with R* book.\n",
    "\n",
    "The goal is to measure the effect of schooling on earnings, while correcting the endogeneity bias by using distance to college as an instrument."
   ]
  },
  {
   "cell_type": "markdown",
   "id": "9ff5190e",
   "metadata": {},
   "source": [
    "__Download the college distance and make a nice dataframe. Discribe the dataset. Plot an histogram of distance.__\n",
    "\n",
    "https://vincentarelbundock.github.io/Rdatasets/datasets.html"
   ]
  },
  {
   "cell_type": "code",
   "execution_count": null,
   "id": "b9517b80",
   "metadata": {},
   "outputs": [],
   "source": []
  },
  {
   "cell_type": "markdown",
   "id": "41582965",
   "metadata": {},
   "source": [
    "__Run the naive regression $\\log(\\text{wage})=\\beta_0 + \\beta_1 \\text{education} + u$__\n",
    "\n"
   ]
  },
  {
   "cell_type": "code",
   "execution_count": null,
   "id": "14cd2c4b",
   "metadata": {},
   "outputs": [],
   "source": []
  },
  {
   "cell_type": "markdown",
   "id": "345998e1",
   "metadata": {},
   "source": [
    "__Augment the regression with `unemp`, `hispanic`, `af-am`, `female` and `urban`__"
   ]
  },
  {
   "cell_type": "code",
   "execution_count": null,
   "id": "6b7a9e14",
   "metadata": {},
   "outputs": [],
   "source": []
  },
  {
   "cell_type": "markdown",
   "id": "d76375a3",
   "metadata": {},
   "source": [
    "__Comment the results and explain the selection problem__"
   ]
  },
  {
   "cell_type": "code",
   "execution_count": null,
   "id": "eec700c8",
   "metadata": {},
   "outputs": [],
   "source": []
  },
  {
   "cell_type": "markdown",
   "id": "de4b305d",
   "metadata": {},
   "source": [
    "__Explain why distance to college might be used to instrument the effect of schooling.__"
   ]
  },
  {
   "cell_type": "code",
   "execution_count": null,
   "id": "274def46",
   "metadata": {},
   "outputs": [],
   "source": []
  },
  {
   "cell_type": "markdown",
   "id": "79ac9434",
   "metadata": {},
   "source": [
    "__Run an IV regression, where `distance` is used to instrument schooling.__"
   ]
  },
  {
   "cell_type": "markdown",
   "id": "6b25ef9c",
   "metadata": {},
   "source": [
    "look at: \n",
    "    https://bashtage.github.io/linearmodels/\n",
    "   (two-stage least squares)"
   ]
  },
  {
   "cell_type": "code",
   "execution_count": null,
   "id": "eddfb9f0",
   "metadata": {},
   "outputs": [],
   "source": []
  },
  {
   "cell_type": "markdown",
   "id": "f5b154da",
   "metadata": {},
   "source": [
    "__Comment the results. Compare with the R tutorials.__"
   ]
  },
  {
   "cell_type": "code",
   "execution_count": null,
   "id": "ee3b836c",
   "metadata": {},
   "outputs": [],
   "source": []
  }
 ],
 "metadata": {
  "kernelspec": {
   "display_name": "Python 3",
   "language": "python",
   "name": "python3"
  },
  "language_info": {
   "codemirror_mode": {
    "name": "ipython",
    "version": 3
   },
   "file_extension": ".py",
   "mimetype": "text/x-python",
   "name": "python",
   "nbconvert_exporter": "python",
   "pygments_lexer": "ipython3",
   "version": "3.8.3"
  }
 },
 "nbformat": 4,
 "nbformat_minor": 5
}
