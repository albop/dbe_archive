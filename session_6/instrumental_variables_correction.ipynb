{
 "cells": [
  {
   "cell_type": "markdown",
   "id": "d578e49d",
   "metadata": {},
   "source": [
    "# Instrumental variables"
   ]
  },
  {
   "cell_type": "markdown",
   "id": "160126b4",
   "metadata": {},
   "source": [
    "## Baby example on mock dataset"
   ]
  },
  {
   "cell_type": "markdown",
   "id": "5e4e1bb7",
   "metadata": {},
   "source": [
    "### Constructing the dataset\n",
    "\n",
    "Create four random series of length $N=1000$\n",
    "\n",
    "- $x$: education\n",
    "- $y$: salary\n",
    "- $z$: ambition\n",
    "- $q$: early smoking \n",
    "\n",
    "such that:\n",
    "\n",
    "1. $x$ and $z$ cause $y$\n",
    "2. $z$ causes $x$\n",
    "3. $q$ is correlated with $x$, not with $z$\n",
    "\n",
    "(all relations are linear, add random shocks where needed)\n",
    "\n",
    "We want to study the effect of $x$ on $y$.\n",
    "\n",
    "__Run the following code to create a mock dataset.__"
   ]
  },
  {
   "cell_type": "code",
   "execution_count": 25,
   "id": "c68b9b9d",
   "metadata": {},
   "outputs": [],
   "source": [
    "import numpy\n",
    "import pandas\n",
    "N = 100000"
   ]
  },
  {
   "cell_type": "code",
   "execution_count": 26,
   "id": "25865e29",
   "metadata": {},
   "outputs": [],
   "source": [
    "ϵ_z = numpy.random.randn(N)*0.1\n",
    "ϵ_x = numpy.random.randn(N)*0.1\n",
    "ϵ_q = numpy.random.randn(N)*0.1\n",
    "ϵ_y = numpy.random.randn(N)*0.1"
   ]
  },
  {
   "cell_type": "code",
   "execution_count": 27,
   "id": "77df8dbb",
   "metadata": {},
   "outputs": [],
   "source": [
    "z = 0.1 + ϵ_z\n",
    "x = 0.1 + 0.5*z + ϵ_x\n",
    "q = 0.5 + 0.1234*ϵ_x + ϵ_q\n",
    "y  = 1.0 + 0.9*x + 0.4*z + ϵ_y"
   ]
  },
  {
   "cell_type": "code",
   "execution_count": 28,
   "id": "d069ef85",
   "metadata": {},
   "outputs": [],
   "source": [
    "df = pandas.DataFrame({\n",
    "    \"x\": x,\n",
    "    \"y\": y,\n",
    "    \"z\": z,\n",
    "    \"q\": q\n",
    "})"
   ]
  },
  {
   "cell_type": "markdown",
   "id": "9c2a4394",
   "metadata": {},
   "source": [
    "__Describe the data. Compute the correlations between series.__"
   ]
  },
  {
   "cell_type": "markdown",
   "id": "895ae8aa-822c-4e76-a926-9c89d2539016",
   "metadata": {},
   "source": [
    "Here are the results from the database:"
   ]
  },
  {
   "cell_type": "code",
   "execution_count": 29,
   "id": "6907c0e7",
   "metadata": {},
   "outputs": [
    {
     "data": {
      "text/html": [
       "<div>\n",
       "<style scoped>\n",
       "    .dataframe tbody tr th:only-of-type {\n",
       "        vertical-align: middle;\n",
       "    }\n",
       "\n",
       "    .dataframe tbody tr th {\n",
       "        vertical-align: top;\n",
       "    }\n",
       "\n",
       "    .dataframe thead th {\n",
       "        text-align: right;\n",
       "    }\n",
       "</style>\n",
       "<table border=\"1\" class=\"dataframe\">\n",
       "  <thead>\n",
       "    <tr style=\"text-align: right;\">\n",
       "      <th></th>\n",
       "      <th>x</th>\n",
       "      <th>y</th>\n",
       "      <th>z</th>\n",
       "      <th>q</th>\n",
       "    </tr>\n",
       "  </thead>\n",
       "  <tbody>\n",
       "    <tr>\n",
       "      <th>count</th>\n",
       "      <td>100000.000000</td>\n",
       "      <td>100000.000000</td>\n",
       "      <td>100000.000000</td>\n",
       "      <td>100000.000000</td>\n",
       "    </tr>\n",
       "    <tr>\n",
       "      <th>mean</th>\n",
       "      <td>0.149838</td>\n",
       "      <td>1.174453</td>\n",
       "      <td>0.099544</td>\n",
       "      <td>0.499990</td>\n",
       "    </tr>\n",
       "    <tr>\n",
       "      <th>std</th>\n",
       "      <td>0.111716</td>\n",
       "      <td>0.158766</td>\n",
       "      <td>0.099791</td>\n",
       "      <td>0.100681</td>\n",
       "    </tr>\n",
       "    <tr>\n",
       "      <th>min</th>\n",
       "      <td>-0.346680</td>\n",
       "      <td>0.487024</td>\n",
       "      <td>-0.307697</td>\n",
       "      <td>0.100623</td>\n",
       "    </tr>\n",
       "    <tr>\n",
       "      <th>25%</th>\n",
       "      <td>0.074457</td>\n",
       "      <td>1.067474</td>\n",
       "      <td>0.032258</td>\n",
       "      <td>0.431809</td>\n",
       "    </tr>\n",
       "    <tr>\n",
       "      <th>50%</th>\n",
       "      <td>0.149622</td>\n",
       "      <td>1.174309</td>\n",
       "      <td>0.099331</td>\n",
       "      <td>0.500190</td>\n",
       "    </tr>\n",
       "    <tr>\n",
       "      <th>75%</th>\n",
       "      <td>0.225062</td>\n",
       "      <td>1.280778</td>\n",
       "      <td>0.166741</td>\n",
       "      <td>0.567860</td>\n",
       "    </tr>\n",
       "    <tr>\n",
       "      <th>max</th>\n",
       "      <td>0.711602</td>\n",
       "      <td>1.836777</td>\n",
       "      <td>0.528661</td>\n",
       "      <td>0.924587</td>\n",
       "    </tr>\n",
       "  </tbody>\n",
       "</table>\n",
       "</div>"
      ],
      "text/plain": [
       "                   x              y              z              q\n",
       "count  100000.000000  100000.000000  100000.000000  100000.000000\n",
       "mean        0.149838       1.174453       0.099544       0.499990\n",
       "std         0.111716       0.158766       0.099791       0.100681\n",
       "min        -0.346680       0.487024      -0.307697       0.100623\n",
       "25%         0.074457       1.067474       0.032258       0.431809\n",
       "50%         0.149622       1.174309       0.099331       0.500190\n",
       "75%         0.225062       1.280778       0.166741       0.567860\n",
       "max         0.711602       1.836777       0.528661       0.924587"
      ]
     },
     "execution_count": 29,
     "metadata": {},
     "output_type": "execute_result"
    }
   ],
   "source": [
    "df.describe()"
   ]
  },
  {
   "cell_type": "code",
   "execution_count": 30,
   "id": "e24e3fdf-701b-453f-baaf-1457d0926030",
   "metadata": {},
   "outputs": [
    {
     "data": {
      "text/html": [
       "<div>\n",
       "<style scoped>\n",
       "    .dataframe tbody tr th:only-of-type {\n",
       "        vertical-align: middle;\n",
       "    }\n",
       "\n",
       "    .dataframe tbody tr th {\n",
       "        vertical-align: top;\n",
       "    }\n",
       "\n",
       "    .dataframe thead th {\n",
       "        text-align: right;\n",
       "    }\n",
       "</style>\n",
       "<table border=\"1\" class=\"dataframe\">\n",
       "  <thead>\n",
       "    <tr style=\"text-align: right;\">\n",
       "      <th></th>\n",
       "      <th>x</th>\n",
       "      <th>y</th>\n",
       "      <th>z</th>\n",
       "      <th>q</th>\n",
       "    </tr>\n",
       "  </thead>\n",
       "  <tbody>\n",
       "    <tr>\n",
       "      <th>x</th>\n",
       "      <td>1.000000</td>\n",
       "      <td>0.745872</td>\n",
       "      <td>0.446562</td>\n",
       "      <td>0.106993</td>\n",
       "    </tr>\n",
       "    <tr>\n",
       "      <th>y</th>\n",
       "      <td>0.745872</td>\n",
       "      <td>1.000000</td>\n",
       "      <td>0.534009</td>\n",
       "      <td>0.067097</td>\n",
       "    </tr>\n",
       "    <tr>\n",
       "      <th>z</th>\n",
       "      <td>0.446562</td>\n",
       "      <td>0.534009</td>\n",
       "      <td>1.000000</td>\n",
       "      <td>-0.003369</td>\n",
       "    </tr>\n",
       "    <tr>\n",
       "      <th>q</th>\n",
       "      <td>0.106993</td>\n",
       "      <td>0.067097</td>\n",
       "      <td>-0.003369</td>\n",
       "      <td>1.000000</td>\n",
       "    </tr>\n",
       "  </tbody>\n",
       "</table>\n",
       "</div>"
      ],
      "text/plain": [
       "          x         y         z         q\n",
       "x  1.000000  0.745872  0.446562  0.106993\n",
       "y  0.745872  1.000000  0.534009  0.067097\n",
       "z  0.446562  0.534009  1.000000 -0.003369\n",
       "q  0.106993  0.067097 -0.003369  1.000000"
      ]
     },
     "execution_count": 30,
     "metadata": {},
     "output_type": "execute_result"
    }
   ],
   "source": [
    "df.corr()"
   ]
  },
  {
   "cell_type": "markdown",
   "id": "baec1676-b491-40b8-895b-6da8dc9446c5",
   "metadata": {},
   "source": [
    "We observe:\n",
    "- cor(q, x) non zero: the instrument is relevant\n",
    "    - close to zero: might be a weak instrument (we would need to check significance)\n",
    "- cor(q, z) = 0 : the instrument is really exogenous"
   ]
  },
  {
   "cell_type": "markdown",
   "id": "b47692a7",
   "metadata": {},
   "source": [
    "### OLS Regression\n",
    "\n",
    "Run a regression to estimate the effect of $x$ on $y$. Compare the result using `statsmodels` and `linearmodels`.\n",
    "\n",
    "What is the problem with this regression? How can it be detected?\n",
    "\n"
   ]
  },
  {
   "cell_type": "code",
   "execution_count": 31,
   "id": "f288311c",
   "metadata": {},
   "outputs": [
    {
     "data": {
      "text/html": [
       "<table class=\"simpletable\">\n",
       "<caption>OLS Estimation Summary</caption>\n",
       "<tr>\n",
       "  <th>Dep. Variable:</th>            <td>y</td>        <th>  R-squared:         </th>  <td>0.5563</td>  \n",
       "</tr>\n",
       "<tr>\n",
       "  <th>Estimator:</th>               <td>OLS</td>       <th>  Adj. R-squared:    </th>  <td>0.5563</td>  \n",
       "</tr>\n",
       "<tr>\n",
       "  <th>No. Observations:</th>      <td>100000</td>      <th>  F-statistic:       </th> <td>1.234e+05</td>\n",
       "</tr>\n",
       "<tr>\n",
       "  <th>Date:</th>             <td>Mon, Mar 27 2023</td> <th>  P-value (F-stat)   </th>  <td>0.0000</td>  \n",
       "</tr>\n",
       "<tr>\n",
       "  <th>Time:</th>                 <td>21:54:41</td>     <th>  Distribution:      </th>  <td>chi2(1)</td> \n",
       "</tr>\n",
       "<tr>\n",
       "  <th>Cov. Estimator:</th>        <td>robust</td>      <th>                     </th>     <td></td>     \n",
       "</tr>\n",
       "<tr>\n",
       "  <th></th>                          <td></td>         <th>                     </th>     <td></td>     \n",
       "</tr>\n",
       "</table>\n",
       "<table class=\"simpletable\">\n",
       "<caption>Parameter Estimates</caption>\n",
       "<tr>\n",
       "      <td></td>      <th>Parameter</th> <th>Std. Err.</th> <th>T-stat</th> <th>P-value</th> <th>Lower CI</th> <th>Upper CI</th>\n",
       "</tr>\n",
       "<tr>\n",
       "  <th>Intercept</th>  <td>1.0156</td>    <td>0.0006</td>   <td>1800.8</td> <td>0.0000</td>   <td>1.0145</td>   <td>1.0167</td> \n",
       "</tr>\n",
       "<tr>\n",
       "  <th>x</th>          <td>1.0600</td>    <td>0.0030</td>   <td>351.22</td> <td>0.0000</td>   <td>1.0541</td>   <td>1.0659</td> \n",
       "</tr>\n",
       "</table><br/>id: 0x7f5789b06260"
      ],
      "text/plain": [
       "                            OLS Estimation Summary                            \n",
       "==============================================================================\n",
       "Dep. Variable:                      y   R-squared:                      0.5563\n",
       "Estimator:                        OLS   Adj. R-squared:                 0.5563\n",
       "No. Observations:              100000   F-statistic:                 1.234e+05\n",
       "Date:                Mon, Mar 27 2023   P-value (F-stat)                0.0000\n",
       "Time:                        21:54:41   Distribution:                  chi2(1)\n",
       "Cov. Estimator:                robust                                         \n",
       "                                                                              \n",
       "                             Parameter Estimates                              \n",
       "==============================================================================\n",
       "            Parameter  Std. Err.     T-stat    P-value    Lower CI    Upper CI\n",
       "------------------------------------------------------------------------------\n",
       "Intercept      1.0156     0.0006     1800.8     0.0000      1.0145      1.0167\n",
       "x              1.0600     0.0030     351.22     0.0000      1.0541      1.0659\n",
       "==============================================================================\n",
       "OLSResults, id: 0x7f5789b06260"
      ]
     },
     "execution_count": 31,
     "metadata": {},
     "output_type": "execute_result"
    }
   ],
   "source": [
    "from linearmodels.iv import IV2SLS\n",
    "\n",
    "formula = \"y ~ x\"\n",
    "model = IV2SLS.from_formula(formula, df)\n",
    "result = model.fit()\n",
    "result"
   ]
  },
  {
   "cell_type": "markdown",
   "id": "93f3a0d8",
   "metadata": {},
   "source": [
    "Regression is globally significant (p-value for Fisher test < 0.00001).\n",
    "The coefficient $\\beta=1.0999$ in front of $x$ is also very significant at a 0.001% level but does not match the model (`y  = 1.0 + 0.9*x + 0.4*z + ϵ_y`)"
   ]
  },
  {
   "cell_type": "markdown",
   "id": "f9b969bd-6891-4748-b737-ae0b3bbfbbc5",
   "metadata": {},
   "source": [
    "### Regress again $y$ on $x$, this time controling for missing variable $z$.\n",
    "\n"
   ]
  },
  {
   "cell_type": "code",
   "execution_count": 32,
   "id": "7212388e-6dd8-4b47-bf29-83d4fce56f4a",
   "metadata": {},
   "outputs": [
    {
     "data": {
      "text/html": [
       "<table class=\"simpletable\">\n",
       "<caption>OLS Estimation Summary</caption>\n",
       "<tr>\n",
       "  <th>Dep. Variable:</th>            <td>y</td>        <th>  R-squared:         </th>  <td>0.6068</td>  \n",
       "</tr>\n",
       "<tr>\n",
       "  <th>Estimator:</th>               <td>OLS</td>       <th>  Adj. R-squared:    </th>  <td>0.6067</td>  \n",
       "</tr>\n",
       "<tr>\n",
       "  <th>No. Observations:</th>      <td>100000</td>      <th>  F-statistic:       </th> <td>1.518e+05</td>\n",
       "</tr>\n",
       "<tr>\n",
       "  <th>Date:</th>             <td>Mon, Mar 27 2023</td> <th>  P-value (F-stat)   </th>  <td>0.0000</td>  \n",
       "</tr>\n",
       "<tr>\n",
       "  <th>Time:</th>                 <td>21:54:44</td>     <th>  Distribution:      </th>  <td>chi2(2)</td> \n",
       "</tr>\n",
       "<tr>\n",
       "  <th>Cov. Estimator:</th>        <td>robust</td>      <th>                     </th>     <td></td>     \n",
       "</tr>\n",
       "<tr>\n",
       "  <th></th>                          <td></td>         <th>                     </th>     <td></td>     \n",
       "</tr>\n",
       "</table>\n",
       "<table class=\"simpletable\">\n",
       "<caption>Parameter Estimates</caption>\n",
       "<tr>\n",
       "      <td></td>      <th>Parameter</th> <th>Std. Err.</th> <th>T-stat</th> <th>P-value</th> <th>Lower CI</th> <th>Upper CI</th>\n",
       "</tr>\n",
       "<tr>\n",
       "  <th>Intercept</th>  <td>0.9997</td>    <td>0.0005</td>   <td>1818.9</td> <td>0.0000</td>   <td>0.9987</td>   <td>1.0008</td> \n",
       "</tr>\n",
       "<tr>\n",
       "  <th>x</th>          <td>0.9007</td>    <td>0.0032</td>   <td>283.90</td> <td>0.0000</td>   <td>0.8945</td>   <td>0.9069</td> \n",
       "</tr>\n",
       "<tr>\n",
       "  <th>z</th>          <td>0.3993</td>    <td>0.0035</td>   <td>113.00</td> <td>0.0000</td>   <td>0.3924</td>   <td>0.4062</td> \n",
       "</tr>\n",
       "</table><br/>id: 0x7f5788c9ea10"
      ],
      "text/plain": [
       "                            OLS Estimation Summary                            \n",
       "==============================================================================\n",
       "Dep. Variable:                      y   R-squared:                      0.6068\n",
       "Estimator:                        OLS   Adj. R-squared:                 0.6067\n",
       "No. Observations:              100000   F-statistic:                 1.518e+05\n",
       "Date:                Mon, Mar 27 2023   P-value (F-stat)                0.0000\n",
       "Time:                        21:54:44   Distribution:                  chi2(2)\n",
       "Cov. Estimator:                robust                                         \n",
       "                                                                              \n",
       "                             Parameter Estimates                              \n",
       "==============================================================================\n",
       "            Parameter  Std. Err.     T-stat    P-value    Lower CI    Upper CI\n",
       "------------------------------------------------------------------------------\n",
       "Intercept      0.9997     0.0005     1818.9     0.0000      0.9987      1.0008\n",
       "x              0.9007     0.0032     283.90     0.0000      0.8945      0.9069\n",
       "z              0.3993     0.0035     113.00     0.0000      0.3924      0.4062\n",
       "==============================================================================\n",
       "OLSResults, id: 0x7f5788c9ea10"
      ]
     },
     "execution_count": 32,
     "metadata": {},
     "output_type": "execute_result"
    }
   ],
   "source": [
    "from linearmodels.iv import IV2SLS\n",
    "\n",
    "formula = \"y ~ x + z\"\n",
    "model = IV2SLS.from_formula(formula, df)\n",
    "result = model.fit()\n",
    "result"
   ]
  },
  {
   "cell_type": "markdown",
   "id": "34b117ce-d215-4ab5-8fa0-f92980ba8276",
   "metadata": {},
   "source": [
    "Now we see that the coefficient in front of `x` is the correct one (that is 0.9)."
   ]
  },
  {
   "cell_type": "markdown",
   "id": "751b7c06",
   "metadata": {},
   "source": [
    "### Instrumental variable\n",
    "\n",
    "Make a causality graph, summarizing what you know from the equations."
   ]
  },
  {
   "cell_type": "markdown",
   "id": "9e412559",
   "metadata": {},
   "source": [
    "\n",
    "\n",
    "\n",
    "Use $q$ to instrument the effect of x on y. Comment."
   ]
  },
  {
   "cell_type": "code",
   "execution_count": 36,
   "id": "d980ed13-69a9-4be2-b002-d6f0047de37e",
   "metadata": {},
   "outputs": [
    {
     "data": {
      "text/html": [
       "<table class=\"simpletable\">\n",
       "<caption>IV-2SLS Estimation Summary</caption>\n",
       "<tr>\n",
       "  <th>Dep. Variable:</th>            <td>y</td>        <th>  R-squared:         </th> <td>0.5422</td> \n",
       "</tr>\n",
       "<tr>\n",
       "  <th>Estimator:</th>             <td>IV-2SLS</td>     <th>  Adj. R-squared:    </th> <td>0.5422</td> \n",
       "</tr>\n",
       "<tr>\n",
       "  <th>No. Observations:</th>      <td>100000</td>      <th>  F-statistic:       </th> <td>979.40</td> \n",
       "</tr>\n",
       "<tr>\n",
       "  <th>Date:</th>             <td>Mon, Mar 27 2023</td> <th>  P-value (F-stat)   </th> <td>0.0000</td> \n",
       "</tr>\n",
       "<tr>\n",
       "  <th>Time:</th>                 <td>21:56:10</td>     <th>  Distribution:      </th> <td>chi2(1)</td>\n",
       "</tr>\n",
       "<tr>\n",
       "  <th>Cov. Estimator:</th>        <td>robust</td>      <th>                     </th>    <td></td>    \n",
       "</tr>\n",
       "<tr>\n",
       "  <th></th>                          <td></td>         <th>                     </th>    <td></td>    \n",
       "</tr>\n",
       "</table>\n",
       "<table class=\"simpletable\">\n",
       "<caption>Parameter Estimates</caption>\n",
       "<tr>\n",
       "      <td></td>      <th>Parameter</th> <th>Std. Err.</th> <th>T-stat</th> <th>P-value</th> <th>Lower CI</th> <th>Upper CI</th>\n",
       "</tr>\n",
       "<tr>\n",
       "  <th>Intercept</th>  <td>1.0409</td>    <td>0.0043</td>   <td>243.27</td> <td>0.0000</td>   <td>1.0325</td>   <td>1.0493</td> \n",
       "</tr>\n",
       "<tr>\n",
       "  <th>x</th>          <td>0.8912</td>    <td>0.0285</td>   <td>31.295</td> <td>0.0000</td>   <td>0.8354</td>   <td>0.9470</td> \n",
       "</tr>\n",
       "</table><br/><br/>Endogenous: x<br/>Instruments: q<br/>Robust Covariance (Heteroskedastic)<br/>Debiased: False<br/>id: 0x7f5784cd9d80"
      ],
      "text/plain": [
       "                          IV-2SLS Estimation Summary                          \n",
       "==============================================================================\n",
       "Dep. Variable:                      y   R-squared:                      0.5422\n",
       "Estimator:                    IV-2SLS   Adj. R-squared:                 0.5422\n",
       "No. Observations:              100000   F-statistic:                    979.40\n",
       "Date:                Mon, Mar 27 2023   P-value (F-stat)                0.0000\n",
       "Time:                        21:56:10   Distribution:                  chi2(1)\n",
       "Cov. Estimator:                robust                                         \n",
       "                                                                              \n",
       "                             Parameter Estimates                              \n",
       "==============================================================================\n",
       "            Parameter  Std. Err.     T-stat    P-value    Lower CI    Upper CI\n",
       "------------------------------------------------------------------------------\n",
       "Intercept      1.0409     0.0043     243.27     0.0000      1.0325      1.0493\n",
       "x              0.8912     0.0285     31.295     0.0000      0.8354      0.9470\n",
       "==============================================================================\n",
       "\n",
       "Endogenous: x\n",
       "Instruments: q\n",
       "Robust Covariance (Heteroskedastic)\n",
       "Debiased: False\n",
       "IVResults, id: 0x7f5784cd9d80"
      ]
     },
     "execution_count": 36,
     "metadata": {},
     "output_type": "execute_result"
    }
   ],
   "source": [
    "from linearmodels.iv import IV2SLS\n",
    "\n",
    "formula = \"y ~ 1 + [x ~ q]\"\n",
    "model = IV2SLS.from_formula(formula, df)\n",
    "result = model.fit()\n",
    "result"
   ]
  },
  {
   "cell_type": "markdown",
   "id": "7bcd63d4-93aa-43fb-b484-39d11c18ecfb",
   "metadata": {},
   "source": [
    "We observe that the result is, again, the correct one. This is especially impressive since *we didn't have access to the confounding factor `z`* and couldn't add it to the regression. Instead, we had another source of randomness `q` that we used to instrument the regression."
   ]
  },
  {
   "cell_type": "markdown",
   "id": "71c81798",
   "metadata": {},
   "source": [
    "## Return on Education"
   ]
  },
  {
   "cell_type": "markdown",
   "id": "a2dbc829",
   "metadata": {},
   "source": [
    "We follow the excellent R [tutorial](https://www.econometrics-with-r.org/12-6-exercises-10.html) from the (excellent) *Econometrics with R* book.\n",
    "\n",
    "The goal is to measure the effect of schooling on earnings, while correcting the endogeneity bias by using distance to college as an instrument."
   ]
  },
  {
   "cell_type": "markdown",
   "id": "f172361f",
   "metadata": {},
   "source": [
    "__Download the college distance using `get_dataset` function and make a nice dataframe. Describe the dataset. Plot a histogram of distance (you can use `matplotlib`'s `hist` function or `seaborn`).__\n",
    "\n",
    "https://vincentarelbundock.github.io/Rdatasets/datasets.html"
   ]
  },
  {
   "cell_type": "code",
   "execution_count": 37,
   "id": "0f2d34a5",
   "metadata": {},
   "outputs": [],
   "source": [
    "import statsmodels.api as sm\n",
    "ds = sm.datasets.get_rdataset(\"CollegeDistance\", \"AER\")\n",
    "df = ds.data"
   ]
  },
  {
   "cell_type": "code",
   "execution_count": 38,
   "id": "c30211ea-4b3a-4257-a33e-744f375df2f8",
   "metadata": {},
   "outputs": [
    {
     "data": {
      "text/html": [
       "<div>\n",
       "<style scoped>\n",
       "    .dataframe tbody tr th:only-of-type {\n",
       "        vertical-align: middle;\n",
       "    }\n",
       "\n",
       "    .dataframe tbody tr th {\n",
       "        vertical-align: top;\n",
       "    }\n",
       "\n",
       "    .dataframe thead th {\n",
       "        text-align: right;\n",
       "    }\n",
       "</style>\n",
       "<table border=\"1\" class=\"dataframe\">\n",
       "  <thead>\n",
       "    <tr style=\"text-align: right;\">\n",
       "      <th></th>\n",
       "      <th>gender</th>\n",
       "      <th>ethnicity</th>\n",
       "      <th>score</th>\n",
       "      <th>fcollege</th>\n",
       "      <th>mcollege</th>\n",
       "      <th>home</th>\n",
       "      <th>urban</th>\n",
       "      <th>unemp</th>\n",
       "      <th>wage</th>\n",
       "      <th>distance</th>\n",
       "      <th>tuition</th>\n",
       "      <th>education</th>\n",
       "      <th>income</th>\n",
       "      <th>region</th>\n",
       "    </tr>\n",
       "  </thead>\n",
       "  <tbody>\n",
       "    <tr>\n",
       "      <th>1</th>\n",
       "      <td>male</td>\n",
       "      <td>other</td>\n",
       "      <td>39.150002</td>\n",
       "      <td>yes</td>\n",
       "      <td>no</td>\n",
       "      <td>yes</td>\n",
       "      <td>yes</td>\n",
       "      <td>6.2</td>\n",
       "      <td>8.09</td>\n",
       "      <td>0.2</td>\n",
       "      <td>0.88915</td>\n",
       "      <td>12</td>\n",
       "      <td>high</td>\n",
       "      <td>other</td>\n",
       "    </tr>\n",
       "    <tr>\n",
       "      <th>2</th>\n",
       "      <td>female</td>\n",
       "      <td>other</td>\n",
       "      <td>48.869999</td>\n",
       "      <td>no</td>\n",
       "      <td>no</td>\n",
       "      <td>yes</td>\n",
       "      <td>yes</td>\n",
       "      <td>6.2</td>\n",
       "      <td>8.09</td>\n",
       "      <td>0.2</td>\n",
       "      <td>0.88915</td>\n",
       "      <td>12</td>\n",
       "      <td>low</td>\n",
       "      <td>other</td>\n",
       "    </tr>\n",
       "    <tr>\n",
       "      <th>3</th>\n",
       "      <td>male</td>\n",
       "      <td>other</td>\n",
       "      <td>48.740002</td>\n",
       "      <td>no</td>\n",
       "      <td>no</td>\n",
       "      <td>yes</td>\n",
       "      <td>yes</td>\n",
       "      <td>6.2</td>\n",
       "      <td>8.09</td>\n",
       "      <td>0.2</td>\n",
       "      <td>0.88915</td>\n",
       "      <td>12</td>\n",
       "      <td>low</td>\n",
       "      <td>other</td>\n",
       "    </tr>\n",
       "    <tr>\n",
       "      <th>4</th>\n",
       "      <td>male</td>\n",
       "      <td>afam</td>\n",
       "      <td>40.400002</td>\n",
       "      <td>no</td>\n",
       "      <td>no</td>\n",
       "      <td>yes</td>\n",
       "      <td>yes</td>\n",
       "      <td>6.2</td>\n",
       "      <td>8.09</td>\n",
       "      <td>0.2</td>\n",
       "      <td>0.88915</td>\n",
       "      <td>12</td>\n",
       "      <td>low</td>\n",
       "      <td>other</td>\n",
       "    </tr>\n",
       "    <tr>\n",
       "      <th>5</th>\n",
       "      <td>female</td>\n",
       "      <td>other</td>\n",
       "      <td>40.480000</td>\n",
       "      <td>no</td>\n",
       "      <td>no</td>\n",
       "      <td>no</td>\n",
       "      <td>yes</td>\n",
       "      <td>5.6</td>\n",
       "      <td>8.09</td>\n",
       "      <td>0.4</td>\n",
       "      <td>0.88915</td>\n",
       "      <td>13</td>\n",
       "      <td>low</td>\n",
       "      <td>other</td>\n",
       "    </tr>\n",
       "  </tbody>\n",
       "</table>\n",
       "</div>"
      ],
      "text/plain": [
       "   gender ethnicity      score fcollege mcollege home urban  unemp  wage  \\\n",
       "1    male     other  39.150002      yes       no  yes   yes    6.2  8.09   \n",
       "2  female     other  48.869999       no       no  yes   yes    6.2  8.09   \n",
       "3    male     other  48.740002       no       no  yes   yes    6.2  8.09   \n",
       "4    male      afam  40.400002       no       no  yes   yes    6.2  8.09   \n",
       "5  female     other  40.480000       no       no   no   yes    5.6  8.09   \n",
       "\n",
       "   distance  tuition  education income region  \n",
       "1       0.2  0.88915         12   high  other  \n",
       "2       0.2  0.88915         12    low  other  \n",
       "3       0.2  0.88915         12    low  other  \n",
       "4       0.2  0.88915         12    low  other  \n",
       "5       0.4  0.88915         13    low  other  "
      ]
     },
     "execution_count": 38,
     "metadata": {},
     "output_type": "execute_result"
    }
   ],
   "source": [
    "df.head()"
   ]
  },
  {
   "cell_type": "code",
   "execution_count": 35,
   "id": "248b3cd4-c40a-47f4-bd2c-0047cd47fbfd",
   "metadata": {},
   "outputs": [
    {
     "data": {
      "text/html": [
       "<div>\n",
       "<style scoped>\n",
       "    .dataframe tbody tr th:only-of-type {\n",
       "        vertical-align: middle;\n",
       "    }\n",
       "\n",
       "    .dataframe tbody tr th {\n",
       "        vertical-align: top;\n",
       "    }\n",
       "\n",
       "    .dataframe thead th {\n",
       "        text-align: right;\n",
       "    }\n",
       "</style>\n",
       "<table border=\"1\" class=\"dataframe\">\n",
       "  <thead>\n",
       "    <tr style=\"text-align: right;\">\n",
       "      <th></th>\n",
       "      <th>score</th>\n",
       "      <th>unemp</th>\n",
       "      <th>wage</th>\n",
       "      <th>distance</th>\n",
       "      <th>tuition</th>\n",
       "      <th>education</th>\n",
       "    </tr>\n",
       "  </thead>\n",
       "  <tbody>\n",
       "    <tr>\n",
       "      <th>count</th>\n",
       "      <td>4739.000000</td>\n",
       "      <td>4739.000000</td>\n",
       "      <td>4739.000000</td>\n",
       "      <td>4739.000000</td>\n",
       "      <td>4739.000000</td>\n",
       "      <td>4739.000000</td>\n",
       "    </tr>\n",
       "    <tr>\n",
       "      <th>mean</th>\n",
       "      <td>50.889029</td>\n",
       "      <td>7.597215</td>\n",
       "      <td>9.500506</td>\n",
       "      <td>1.802870</td>\n",
       "      <td>0.814608</td>\n",
       "      <td>13.807765</td>\n",
       "    </tr>\n",
       "    <tr>\n",
       "      <th>std</th>\n",
       "      <td>8.701910</td>\n",
       "      <td>2.763581</td>\n",
       "      <td>1.343067</td>\n",
       "      <td>2.297128</td>\n",
       "      <td>0.339504</td>\n",
       "      <td>1.789107</td>\n",
       "    </tr>\n",
       "    <tr>\n",
       "      <th>min</th>\n",
       "      <td>28.950001</td>\n",
       "      <td>1.400000</td>\n",
       "      <td>6.590000</td>\n",
       "      <td>0.000000</td>\n",
       "      <td>0.257510</td>\n",
       "      <td>12.000000</td>\n",
       "    </tr>\n",
       "    <tr>\n",
       "      <th>25%</th>\n",
       "      <td>43.924999</td>\n",
       "      <td>5.900000</td>\n",
       "      <td>8.850000</td>\n",
       "      <td>0.400000</td>\n",
       "      <td>0.484990</td>\n",
       "      <td>12.000000</td>\n",
       "    </tr>\n",
       "    <tr>\n",
       "      <th>50%</th>\n",
       "      <td>51.189999</td>\n",
       "      <td>7.100000</td>\n",
       "      <td>9.680000</td>\n",
       "      <td>1.000000</td>\n",
       "      <td>0.824480</td>\n",
       "      <td>13.000000</td>\n",
       "    </tr>\n",
       "    <tr>\n",
       "      <th>75%</th>\n",
       "      <td>57.769999</td>\n",
       "      <td>8.900000</td>\n",
       "      <td>10.150000</td>\n",
       "      <td>2.500000</td>\n",
       "      <td>1.127020</td>\n",
       "      <td>16.000000</td>\n",
       "    </tr>\n",
       "    <tr>\n",
       "      <th>max</th>\n",
       "      <td>72.809998</td>\n",
       "      <td>24.900000</td>\n",
       "      <td>12.960000</td>\n",
       "      <td>20.000000</td>\n",
       "      <td>1.404160</td>\n",
       "      <td>18.000000</td>\n",
       "    </tr>\n",
       "  </tbody>\n",
       "</table>\n",
       "</div>"
      ],
      "text/plain": [
       "             score        unemp         wage     distance      tuition  \\\n",
       "count  4739.000000  4739.000000  4739.000000  4739.000000  4739.000000   \n",
       "mean     50.889029     7.597215     9.500506     1.802870     0.814608   \n",
       "std       8.701910     2.763581     1.343067     2.297128     0.339504   \n",
       "min      28.950001     1.400000     6.590000     0.000000     0.257510   \n",
       "25%      43.924999     5.900000     8.850000     0.400000     0.484990   \n",
       "50%      51.189999     7.100000     9.680000     1.000000     0.824480   \n",
       "75%      57.769999     8.900000    10.150000     2.500000     1.127020   \n",
       "max      72.809998    24.900000    12.960000    20.000000     1.404160   \n",
       "\n",
       "         education  \n",
       "count  4739.000000  \n",
       "mean     13.807765  \n",
       "std       1.789107  \n",
       "min      12.000000  \n",
       "25%      12.000000  \n",
       "50%      13.000000  \n",
       "75%      16.000000  \n",
       "max      18.000000  "
      ]
     },
     "execution_count": 35,
     "metadata": {},
     "output_type": "execute_result"
    }
   ],
   "source": [
    "df.describe()"
   ]
  },
  {
   "cell_type": "markdown",
   "id": "306514ed",
   "metadata": {},
   "source": [
    "Create a binary variable `incomeb` which equals 1 if `income` is `high`, 0 otherwise."
   ]
  },
  {
   "cell_type": "code",
   "execution_count": 40,
   "id": "d6cbc618",
   "metadata": {},
   "outputs": [
    {
     "data": {
      "text/plain": [
       "array(['high', 'low'], dtype=object)"
      ]
     },
     "execution_count": 40,
     "metadata": {},
     "output_type": "execute_result"
    }
   ],
   "source": [
    "df['income'].unique()"
   ]
  },
  {
   "cell_type": "code",
   "execution_count": 41,
   "id": "a37d74b9-fb2e-4cc9-880a-8a630a302d62",
   "metadata": {},
   "outputs": [],
   "source": [
    "# option 1\n",
    "df['incomeb'] = df['income'].map({'high' : 1, 'low': 0})"
   ]
  },
  {
   "cell_type": "code",
   "execution_count": 42,
   "id": "a6d728e0-b5a4-472c-a74e-32326147e764",
   "metadata": {},
   "outputs": [],
   "source": [
    "# option 2\n",
    "df['incomeb'] = (df['income'] == 'high')*1"
   ]
  },
  {
   "cell_type": "markdown",
   "id": "ca8ec743",
   "metadata": {},
   "source": [
    "__Run the naive regression $\\text{incomeb}=\\beta_0 + \\beta_1 \\text{education} + u$ using linearmodels. Comment.__\n",
    "\n"
   ]
  },
  {
   "cell_type": "code",
   "execution_count": 43,
   "id": "2cf049ee",
   "metadata": {},
   "outputs": [
    {
     "data": {
      "text/html": [
       "<table class=\"simpletable\">\n",
       "<caption>OLS Estimation Summary</caption>\n",
       "<tr>\n",
       "  <th>Dep. Variable:</th>         <td>incomeb</td>     <th>  R-squared:         </th> <td>0.0480</td> \n",
       "</tr>\n",
       "<tr>\n",
       "  <th>Estimator:</th>               <td>OLS</td>       <th>  Adj. R-squared:    </th> <td>0.0478</td> \n",
       "</tr>\n",
       "<tr>\n",
       "  <th>No. Observations:</th>       <td>4739</td>       <th>  F-statistic:       </th> <td>227.43</td> \n",
       "</tr>\n",
       "<tr>\n",
       "  <th>Date:</th>             <td>Mon, Mar 27 2023</td> <th>  P-value (F-stat)   </th> <td>0.0000</td> \n",
       "</tr>\n",
       "<tr>\n",
       "  <th>Time:</th>                 <td>21:58:28</td>     <th>  Distribution:      </th> <td>chi2(1)</td>\n",
       "</tr>\n",
       "<tr>\n",
       "  <th>Cov. Estimator:</th>        <td>robust</td>      <th>                     </th>    <td></td>    \n",
       "</tr>\n",
       "<tr>\n",
       "  <th></th>                          <td></td>         <th>                     </th>    <td></td>    \n",
       "</tr>\n",
       "</table>\n",
       "<table class=\"simpletable\">\n",
       "<caption>Parameter Estimates</caption>\n",
       "<tr>\n",
       "      <td></td>      <th>Parameter</th> <th>Std. Err.</th> <th>T-stat</th>  <th>P-value</th> <th>Lower CI</th> <th>Upper CI</th>\n",
       "</tr>\n",
       "<tr>\n",
       "  <th>Intercept</th>  <td>-0.4780</td>   <td>0.0499</td>   <td>-9.5702</td> <td>0.0000</td>   <td>-0.5759</td>  <td>-0.3801</td>\n",
       "</tr>\n",
       "<tr>\n",
       "  <th>education</th>  <td>0.0555</td>    <td>0.0037</td>   <td>15.081</td>  <td>0.0000</td>   <td>0.0483</td>   <td>0.0627</td> \n",
       "</tr>\n",
       "</table><br/>id: 0x7f57819dd9c0"
      ],
      "text/plain": [
       "                            OLS Estimation Summary                            \n",
       "==============================================================================\n",
       "Dep. Variable:                incomeb   R-squared:                      0.0480\n",
       "Estimator:                        OLS   Adj. R-squared:                 0.0478\n",
       "No. Observations:                4739   F-statistic:                    227.43\n",
       "Date:                Mon, Mar 27 2023   P-value (F-stat)                0.0000\n",
       "Time:                        21:58:28   Distribution:                  chi2(1)\n",
       "Cov. Estimator:                robust                                         \n",
       "                                                                              \n",
       "                             Parameter Estimates                              \n",
       "==============================================================================\n",
       "            Parameter  Std. Err.     T-stat    P-value    Lower CI    Upper CI\n",
       "------------------------------------------------------------------------------\n",
       "Intercept     -0.4780     0.0499    -9.5702     0.0000     -0.5759     -0.3801\n",
       "education      0.0555     0.0037     15.081     0.0000      0.0483      0.0627\n",
       "==============================================================================\n",
       "OLSResults, id: 0x7f57819dd9c0"
      ]
     },
     "execution_count": 43,
     "metadata": {},
     "output_type": "execute_result"
    }
   ],
   "source": [
    "from linearmodels.iv import IV2SLS\n",
    "\n",
    "formula = \"incomeb ~ education\"\n",
    "model = IV2SLS.from_formula(formula, df)\n",
    "result = model.fit()\n",
    "result"
   ]
  },
  {
   "cell_type": "markdown",
   "id": "8c28e076-71b1-4fb3-87fb-dde132a4c35b",
   "metadata": {},
   "source": [
    "We find that education explains higher income with a significant, but low coefficient 0.05.\n"
   ]
  },
  {
   "cell_type": "markdown",
   "id": "bf7a87cd",
   "metadata": {},
   "source": [
    "__Augment the regression with `unemp`, `hispanic`, `af-am`, `female` and `urban`. (Hint: you can use the `C()` function to deal with categorical data.__"
   ]
  },
  {
   "cell_type": "code",
   "execution_count": 45,
   "id": "e2c51995-38a3-4260-b342-9f1a8d97277e",
   "metadata": {},
   "outputs": [
    {
     "data": {
      "text/plain": [
       "1         male\n",
       "2       female\n",
       "3         male\n",
       "4         male\n",
       "5       female\n",
       "         ...  \n",
       "9391      male\n",
       "9401      male\n",
       "9411      male\n",
       "9421      male\n",
       "9431      male\n",
       "Name: gender, Length: 4739, dtype: object"
      ]
     },
     "execution_count": 45,
     "metadata": {},
     "output_type": "execute_result"
    }
   ],
   "source": [
    "df['gender']"
   ]
  },
  {
   "cell_type": "code",
   "execution_count": 46,
   "id": "bf148dd6-00ab-4f47-bc19-7f507d08a959",
   "metadata": {},
   "outputs": [
    {
     "data": {
      "text/plain": [
       "Index(['gender', 'ethnicity', 'score', 'fcollege', 'mcollege', 'home', 'urban',\n",
       "       'unemp', 'wage', 'distance', 'tuition', 'education', 'income', 'region',\n",
       "       'incomeb'],\n",
       "      dtype='object')"
      ]
     },
     "execution_count": 46,
     "metadata": {},
     "output_type": "execute_result"
    }
   ],
   "source": [
    "df.columns"
   ]
  },
  {
   "cell_type": "code",
   "execution_count": 47,
   "id": "214c014b",
   "metadata": {},
   "outputs": [
    {
     "data": {
      "text/html": [
       "<table class=\"simpletable\">\n",
       "<caption>OLS Estimation Summary</caption>\n",
       "<tr>\n",
       "  <th>Dep. Variable:</th>         <td>incomeb</td>     <th>  R-squared:         </th> <td>0.0811</td> \n",
       "</tr>\n",
       "<tr>\n",
       "  <th>Estimator:</th>               <td>OLS</td>       <th>  Adj. R-squared:    </th> <td>0.0802</td> \n",
       "</tr>\n",
       "<tr>\n",
       "  <th>No. Observations:</th>       <td>4739</td>       <th>  F-statistic:       </th> <td>443.38</td> \n",
       "</tr>\n",
       "<tr>\n",
       "  <th>Date:</th>             <td>Mon, Mar 27 2023</td> <th>  P-value (F-stat)   </th> <td>0.0000</td> \n",
       "</tr>\n",
       "<tr>\n",
       "  <th>Time:</th>                 <td>22:00:32</td>     <th>  Distribution:      </th> <td>chi2(5)</td>\n",
       "</tr>\n",
       "<tr>\n",
       "  <th>Cov. Estimator:</th>        <td>robust</td>      <th>                     </th>    <td></td>    \n",
       "</tr>\n",
       "<tr>\n",
       "  <th></th>                          <td></td>         <th>                     </th>    <td></td>    \n",
       "</tr>\n",
       "</table>\n",
       "<table class=\"simpletable\">\n",
       "<caption>Parameter Estimates</caption>\n",
       "<tr>\n",
       "              <td></td>             <th>Parameter</th> <th>Std. Err.</th> <th>T-stat</th>  <th>P-value</th> <th>Lower CI</th> <th>Upper CI</th>\n",
       "</tr>\n",
       "<tr>\n",
       "  <th>Intercept</th>                 <td>-0.4361</td>   <td>0.0533</td>   <td>-8.1797</td> <td>0.0000</td>   <td>-0.5406</td>  <td>-0.3316</td>\n",
       "</tr>\n",
       "<tr>\n",
       "  <th>C(ethnicity)[T.hispanic]</th>  <td>-0.0249</td>   <td>0.0185</td>   <td>-1.3425</td> <td>0.1794</td>   <td>-0.0612</td>  <td>0.0114</td> \n",
       "</tr>\n",
       "<tr>\n",
       "  <th>C(ethnicity)[T.other]</th>     <td>0.1347</td>    <td>0.0163</td>   <td>8.2871</td>  <td>0.0000</td>   <td>0.1029</td>   <td>0.1666</td> \n",
       "</tr>\n",
       "<tr>\n",
       "  <th>C(gender)[T.male]</th>         <td>0.0484</td>    <td>0.0128</td>   <td>3.7866</td>  <td>0.0002</td>   <td>0.0234</td>   <td>0.0735</td> \n",
       "</tr>\n",
       "<tr>\n",
       "  <th>education</th>                 <td>0.0511</td>    <td>0.0037</td>   <td>13.982</td>  <td>0.0000</td>   <td>0.0439</td>   <td>0.0582</td> \n",
       "</tr>\n",
       "<tr>\n",
       "  <th>unemp</th>                     <td>-0.0111</td>   <td>0.0022</td>   <td>-4.9609</td> <td>0.0000</td>   <td>-0.0155</td>  <td>-0.0067</td>\n",
       "</tr>\n",
       "</table><br/>id: 0x7f5781306440"
      ],
      "text/plain": [
       "                            OLS Estimation Summary                            \n",
       "==============================================================================\n",
       "Dep. Variable:                incomeb   R-squared:                      0.0811\n",
       "Estimator:                        OLS   Adj. R-squared:                 0.0802\n",
       "No. Observations:                4739   F-statistic:                    443.38\n",
       "Date:                Mon, Mar 27 2023   P-value (F-stat)                0.0000\n",
       "Time:                        22:00:32   Distribution:                  chi2(5)\n",
       "Cov. Estimator:                robust                                         \n",
       "                                                                              \n",
       "                                    Parameter Estimates                                     \n",
       "============================================================================================\n",
       "                          Parameter  Std. Err.     T-stat    P-value    Lower CI    Upper CI\n",
       "--------------------------------------------------------------------------------------------\n",
       "Intercept                   -0.4361     0.0533    -8.1797     0.0000     -0.5406     -0.3316\n",
       "C(ethnicity)[T.hispanic]    -0.0249     0.0185    -1.3425     0.1794     -0.0612      0.0114\n",
       "C(ethnicity)[T.other]        0.1347     0.0163     8.2871     0.0000      0.1029      0.1666\n",
       "C(gender)[T.male]            0.0484     0.0128     3.7866     0.0002      0.0234      0.0735\n",
       "education                    0.0511     0.0037     13.982     0.0000      0.0439      0.0582\n",
       "unemp                       -0.0111     0.0022    -4.9609     0.0000     -0.0155     -0.0067\n",
       "============================================================================================\n",
       "OLSResults, id: 0x7f5781306440"
      ]
     },
     "execution_count": 47,
     "metadata": {},
     "output_type": "execute_result"
    }
   ],
   "source": [
    "# needed only if you use the function Treatment in the formulas\n",
    "from patsy import Treatment\n",
    "\n",
    "from linearmodels.iv import IV2SLS\n",
    "\n",
    "formula = \"incomeb ~ education + unemp + C(gender) + C(ethnicity)\"\n",
    "model = IV2SLS.from_formula(formula, df)\n",
    "result = model.fit()\n",
    "result"
   ]
  },
  {
   "cell_type": "code",
   "execution_count": 48,
   "id": "3fed2ecb-2c3c-459e-aff7-ad705a8153ae",
   "metadata": {},
   "outputs": [
    {
     "data": {
      "text/plain": [
       "array(['other', 'afam', 'hispanic'], dtype=object)"
      ]
     },
     "execution_count": 48,
     "metadata": {},
     "output_type": "execute_result"
    }
   ],
   "source": [
    "df['ethnicity'].unique()"
   ]
  },
  {
   "cell_type": "markdown",
   "id": "2fbb99cb",
   "metadata": {},
   "source": [
    "__Comment the results and explain the endogeneity problem__"
   ]
  },
  {
   "cell_type": "markdown",
   "id": "ced8d847",
   "metadata": {},
   "source": [
    "Adding additional regressors has increased the fit (adj. R^2 from 0.04 to 0.08) without changing the coefficient on the education level. This would imply that regression is robust.\n",
    "\n",
    "However, we might have an endogeneity issue with some potential other factors explaining both income level and salary (cf many discussions in the course)."
   ]
  },
  {
   "cell_type": "markdown",
   "id": "7ef245e7",
   "metadata": {},
   "source": [
    "__Explain why distance to college might be used to instrument the effect of schooling.__"
   ]
  },
  {
   "cell_type": "markdown",
   "id": "7f292d71-0082-4c56-b247-be9a6369426e",
   "metadata": {},
   "source": [
    "Assuming that the decision to live in \n",
    "a given county does not depend on the presence of a college nearby, the distance to college should be exogenous.\n",
    "\n",
    "The distance to college is probably correlated with the decision to go so the instrument should have some power (opposite of weak)\n"
   ]
  },
  {
   "cell_type": "markdown",
   "id": "1f08a5b4",
   "metadata": {},
   "source": [
    "__Run an IV regression, where `distance` is used to instrument schooling.__"
   ]
  },
  {
   "cell_type": "markdown",
   "id": "7ee16e5c",
   "metadata": {},
   "source": [
    "look at: \n",
    "    https://bashtage.github.io/linearmodels/\n",
    "   (two-stage least squares)"
   ]
  },
  {
   "cell_type": "code",
   "execution_count": null,
   "id": "41809b4b-1a41-4953-9988-93aaa50de635",
   "metadata": {},
   "outputs": [],
   "source": []
  },
  {
   "cell_type": "code",
   "execution_count": 58,
   "id": "2bebc433",
   "metadata": {},
   "outputs": [
    {
     "data": {
      "text/html": [
       "<table class=\"simpletable\">\n",
       "<caption>IV-2SLS Estimation Summary</caption>\n",
       "<tr>\n",
       "  <th>Dep. Variable:</th>         <td>incomeb</td>     <th>  R-squared:         </th> <td>-0.1339</td>\n",
       "</tr>\n",
       "<tr>\n",
       "  <th>Estimator:</th>             <td>IV-2SLS</td>     <th>  Adj. R-squared:    </th> <td>-0.1351</td>\n",
       "</tr>\n",
       "<tr>\n",
       "  <th>No. Observations:</th>       <td>4739</td>       <th>  F-statistic:       </th> <td>1748.5</td> \n",
       "</tr>\n",
       "<tr>\n",
       "  <th>Date:</th>             <td>Wed, Mar 01 2023</td> <th>  P-value (F-stat)   </th> <td>0.0000</td> \n",
       "</tr>\n",
       "<tr>\n",
       "  <th>Time:</th>                 <td>11:06:52</td>     <th>  Distribution:      </th> <td>chi2(6)</td>\n",
       "</tr>\n",
       "<tr>\n",
       "  <th>Cov. Estimator:</th>        <td>robust</td>      <th>                     </th>    <td></td>    \n",
       "</tr>\n",
       "<tr>\n",
       "  <th></th>                          <td></td>         <th>                     </th>    <td></td>    \n",
       "</tr>\n",
       "</table>\n",
       "<table class=\"simpletable\">\n",
       "<caption>Parameter Estimates</caption>\n",
       "<tr>\n",
       "              <td></td>             <th>Parameter</th> <th>Std. Err.</th> <th>T-stat</th>  <th>P-value</th> <th>Lower CI</th> <th>Upper CI</th>\n",
       "</tr>\n",
       "<tr>\n",
       "  <th>C(ethnicity)[T.afam]</th>      <td>-2.0318</td>   <td>0.4856</td>   <td>-4.1842</td> <td>0.0000</td>   <td>-2.9836</td>  <td>-1.0801</td>\n",
       "</tr>\n",
       "<tr>\n",
       "  <th>C(ethnicity)[T.hispanic]</th>  <td>-2.0813</td>   <td>0.4929</td>   <td>-4.2226</td> <td>0.0000</td>   <td>-3.0474</td>  <td>-1.1152</td>\n",
       "</tr>\n",
       "<tr>\n",
       "  <th>C(ethnicity)[T.other]</th>     <td>-1.9566</td>   <td>0.5039</td>   <td>-3.8830</td> <td>0.0001</td>   <td>-2.9441</td>  <td>-0.9690</td>\n",
       "</tr>\n",
       "<tr>\n",
       "  <th>C(gender)[T.male]</th>         <td>0.0457</td>    <td>0.0142</td>   <td>3.2195</td>  <td>0.0013</td>   <td>0.0179</td>   <td>0.0735</td> \n",
       "</tr>\n",
       "<tr>\n",
       "  <th>unemp</th>                     <td>-0.0100</td>   <td>0.0025</td>   <td>-3.9704</td> <td>0.0001</td>   <td>-0.0149</td>  <td>-0.0051</td>\n",
       "</tr>\n",
       "<tr>\n",
       "  <th>education</th>                 <td>0.1692</td>    <td>0.0358</td>   <td>4.7261</td>  <td>0.0000</td>   <td>0.0990</td>   <td>0.2393</td> \n",
       "</tr>\n",
       "</table><br/><br/>Endogenous: education<br/>Instruments: distance<br/>Robust Covariance (Heteroskedastic)<br/>Debiased: False<br/>id: 0x7f0acc0f8a30"
      ],
      "text/plain": [
       "                          IV-2SLS Estimation Summary                          \n",
       "==============================================================================\n",
       "Dep. Variable:                incomeb   R-squared:                     -0.1339\n",
       "Estimator:                    IV-2SLS   Adj. R-squared:                -0.1351\n",
       "No. Observations:                4739   F-statistic:                    1748.5\n",
       "Date:                Wed, Mar 01 2023   P-value (F-stat)                0.0000\n",
       "Time:                        11:06:52   Distribution:                  chi2(6)\n",
       "Cov. Estimator:                robust                                         \n",
       "                                                                              \n",
       "                                    Parameter Estimates                                     \n",
       "============================================================================================\n",
       "                          Parameter  Std. Err.     T-stat    P-value    Lower CI    Upper CI\n",
       "--------------------------------------------------------------------------------------------\n",
       "C(ethnicity)[T.afam]        -2.0318     0.4856    -4.1842     0.0000     -2.9836     -1.0801\n",
       "C(ethnicity)[T.hispanic]    -2.0813     0.4929    -4.2226     0.0000     -3.0474     -1.1152\n",
       "C(ethnicity)[T.other]       -1.9566     0.5039    -3.8830     0.0001     -2.9441     -0.9690\n",
       "C(gender)[T.male]            0.0457     0.0142     3.2195     0.0013      0.0179      0.0735\n",
       "unemp                       -0.0100     0.0025    -3.9704     0.0001     -0.0149     -0.0051\n",
       "education                    0.1692     0.0358     4.7261     0.0000      0.0990      0.2393\n",
       "============================================================================================\n",
       "\n",
       "Endogenous: education\n",
       "Instruments: distance\n",
       "Robust Covariance (Heteroskedastic)\n",
       "Debiased: False\n",
       "IVResults, id: 0x7f0acc0f8a30"
      ]
     },
     "execution_count": 58,
     "metadata": {},
     "output_type": "execute_result"
    }
   ],
   "source": [
    "# needed only if you use the function Treatment in the formulas\n",
    "from patsy import Treatment\n",
    "\n",
    "from linearmodels.iv import IV2SLS\n",
    " \n",
    "formula = \"incomeb ~ [education ~ distance] + unemp + C(gender) + C(ethnicity)\"\n",
    "model = IV2SLS.from_formula(formula, df)\n",
    "result = model.fit()\n",
    "result"
   ]
  },
  {
   "cell_type": "markdown",
   "id": "e10cebf1",
   "metadata": {},
   "source": [
    "__Comment the results. Compare with the R tutorials.__"
   ]
  },
  {
   "cell_type": "markdown",
   "id": "0e76ccc1-f514-4e68-bc07-2501ad7f1de8",
   "metadata": {},
   "source": [
    "The estimate we get for the return on education is three times higher and highly significant."
   ]
  },
  {
   "cell_type": "code",
   "execution_count": null,
   "id": "148d91aa-1560-44b6-9eb5-ed472d51b519",
   "metadata": {},
   "outputs": [],
   "source": []
  }
 ],
 "metadata": {
  "kernelspec": {
   "display_name": "ESCPython",
   "language": "python",
   "name": "escpython"
  },
  "language_info": {
   "codemirror_mode": {
    "name": "ipython",
    "version": 3
   },
   "file_extension": ".py",
   "mimetype": "text/x-python",
   "name": "python",
   "nbconvert_exporter": "python",
   "pygments_lexer": "ipython3",
   "version": "3.10.9"
  },
  "vscode": {
   "interpreter": {
    "hash": "916dbcbb3f70747c44a77c7bcd40155683ae19c65e1c03b4aa3499c5328201f1"
   }
  }
 },
 "nbformat": 4,
 "nbformat_minor": 5
}
